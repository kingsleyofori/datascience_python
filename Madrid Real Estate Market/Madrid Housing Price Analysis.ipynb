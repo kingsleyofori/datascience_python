{
 "cells": [
  {
   "cell_type": "markdown",
   "metadata": {},
   "source": [
    "## Madrid Housing Price Analysis\n",
    "This project seeks to build a model of housing prices in Madrid using the Madrid Housing Data set from Kaggle. This data has metrics such as the number of rooms, square feet, rents, property price, and so on for each cell group in the dataset."
   ]
  },
  {
   "cell_type": "markdown",
   "metadata": {},
   "source": [
    "1. Importation of Relevant Libraries"
   ]
  },
  {
   "cell_type": "code",
   "execution_count": 3,
   "metadata": {},
   "outputs": [],
   "source": [
    "import numpy as np\n",
    "import pandas as pd\n",
    "import matplotlib.pyplot as plt\n",
    "import seaborn as sns\n",
    "%matplotlib inline"
   ]
  },
  {
   "cell_type": "code",
   "execution_count": 4,
   "metadata": {},
   "outputs": [
    {
     "data": {
      "text/html": [
       "<div>\n",
       "<style scoped>\n",
       "    .dataframe tbody tr th:only-of-type {\n",
       "        vertical-align: middle;\n",
       "    }\n",
       "\n",
       "    .dataframe tbody tr th {\n",
       "        vertical-align: top;\n",
       "    }\n",
       "\n",
       "    .dataframe thead th {\n",
       "        text-align: right;\n",
       "    }\n",
       "</style>\n",
       "<table border=\"1\" class=\"dataframe\">\n",
       "  <thead>\n",
       "    <tr style=\"text-align: right;\">\n",
       "      <th></th>\n",
       "      <th>Unnamed: 0</th>\n",
       "      <th>id</th>\n",
       "      <th>title</th>\n",
       "      <th>subtitle</th>\n",
       "      <th>sq_mt_built</th>\n",
       "      <th>sq_mt_useful</th>\n",
       "      <th>n_rooms</th>\n",
       "      <th>n_bathrooms</th>\n",
       "      <th>n_floors</th>\n",
       "      <th>sq_mt_allotment</th>\n",
       "      <th>...</th>\n",
       "      <th>energy_certificate</th>\n",
       "      <th>has_parking</th>\n",
       "      <th>has_private_parking</th>\n",
       "      <th>has_public_parking</th>\n",
       "      <th>is_parking_included_in_price</th>\n",
       "      <th>parking_price</th>\n",
       "      <th>is_orientation_north</th>\n",
       "      <th>is_orientation_west</th>\n",
       "      <th>is_orientation_south</th>\n",
       "      <th>is_orientation_east</th>\n",
       "    </tr>\n",
       "  </thead>\n",
       "  <tbody>\n",
       "    <tr>\n",
       "      <th>0</th>\n",
       "      <td>0</td>\n",
       "      <td>21742</td>\n",
       "      <td>Piso en venta en calle de Godella, 64</td>\n",
       "      <td>San Cristóbal, Madrid</td>\n",
       "      <td>64.0</td>\n",
       "      <td>60.0</td>\n",
       "      <td>2</td>\n",
       "      <td>1.0</td>\n",
       "      <td>NaN</td>\n",
       "      <td>NaN</td>\n",
       "      <td>...</td>\n",
       "      <td>D</td>\n",
       "      <td>False</td>\n",
       "      <td>NaN</td>\n",
       "      <td>NaN</td>\n",
       "      <td>NaN</td>\n",
       "      <td>NaN</td>\n",
       "      <td>False</td>\n",
       "      <td>True</td>\n",
       "      <td>False</td>\n",
       "      <td>False</td>\n",
       "    </tr>\n",
       "    <tr>\n",
       "      <th>1</th>\n",
       "      <td>1</td>\n",
       "      <td>21741</td>\n",
       "      <td>Piso en venta en calle de la del Manojo de Rosas</td>\n",
       "      <td>Los Ángeles, Madrid</td>\n",
       "      <td>70.0</td>\n",
       "      <td>NaN</td>\n",
       "      <td>3</td>\n",
       "      <td>1.0</td>\n",
       "      <td>NaN</td>\n",
       "      <td>NaN</td>\n",
       "      <td>...</td>\n",
       "      <td>en trámite</td>\n",
       "      <td>False</td>\n",
       "      <td>NaN</td>\n",
       "      <td>NaN</td>\n",
       "      <td>NaN</td>\n",
       "      <td>NaN</td>\n",
       "      <td>NaN</td>\n",
       "      <td>NaN</td>\n",
       "      <td>NaN</td>\n",
       "      <td>NaN</td>\n",
       "    </tr>\n",
       "    <tr>\n",
       "      <th>2</th>\n",
       "      <td>2</td>\n",
       "      <td>21740</td>\n",
       "      <td>Piso en venta en calle del Talco, 68</td>\n",
       "      <td>San Andrés, Madrid</td>\n",
       "      <td>94.0</td>\n",
       "      <td>54.0</td>\n",
       "      <td>2</td>\n",
       "      <td>2.0</td>\n",
       "      <td>NaN</td>\n",
       "      <td>NaN</td>\n",
       "      <td>...</td>\n",
       "      <td>no indicado</td>\n",
       "      <td>False</td>\n",
       "      <td>NaN</td>\n",
       "      <td>NaN</td>\n",
       "      <td>NaN</td>\n",
       "      <td>NaN</td>\n",
       "      <td>NaN</td>\n",
       "      <td>NaN</td>\n",
       "      <td>NaN</td>\n",
       "      <td>NaN</td>\n",
       "    </tr>\n",
       "    <tr>\n",
       "      <th>3</th>\n",
       "      <td>3</td>\n",
       "      <td>21739</td>\n",
       "      <td>Piso en venta en calle Pedro Jiménez</td>\n",
       "      <td>San Andrés, Madrid</td>\n",
       "      <td>64.0</td>\n",
       "      <td>NaN</td>\n",
       "      <td>2</td>\n",
       "      <td>1.0</td>\n",
       "      <td>NaN</td>\n",
       "      <td>NaN</td>\n",
       "      <td>...</td>\n",
       "      <td>en trámite</td>\n",
       "      <td>False</td>\n",
       "      <td>NaN</td>\n",
       "      <td>NaN</td>\n",
       "      <td>NaN</td>\n",
       "      <td>NaN</td>\n",
       "      <td>False</td>\n",
       "      <td>False</td>\n",
       "      <td>True</td>\n",
       "      <td>False</td>\n",
       "    </tr>\n",
       "    <tr>\n",
       "      <th>4</th>\n",
       "      <td>4</td>\n",
       "      <td>21738</td>\n",
       "      <td>Piso en venta en carretera de Villaverde a Val...</td>\n",
       "      <td>Los Rosales, Madrid</td>\n",
       "      <td>108.0</td>\n",
       "      <td>90.0</td>\n",
       "      <td>2</td>\n",
       "      <td>2.0</td>\n",
       "      <td>NaN</td>\n",
       "      <td>NaN</td>\n",
       "      <td>...</td>\n",
       "      <td>en trámite</td>\n",
       "      <td>True</td>\n",
       "      <td>NaN</td>\n",
       "      <td>NaN</td>\n",
       "      <td>True</td>\n",
       "      <td>0.0</td>\n",
       "      <td>True</td>\n",
       "      <td>True</td>\n",
       "      <td>True</td>\n",
       "      <td>True</td>\n",
       "    </tr>\n",
       "  </tbody>\n",
       "</table>\n",
       "<p>5 rows × 58 columns</p>\n",
       "</div>"
      ],
      "text/plain": [
       "   Unnamed: 0     id                                              title  \\\n",
       "0           0  21742              Piso en venta en calle de Godella, 64   \n",
       "1           1  21741   Piso en venta en calle de la del Manojo de Rosas   \n",
       "2           2  21740               Piso en venta en calle del Talco, 68   \n",
       "3           3  21739               Piso en venta en calle Pedro Jiménez   \n",
       "4           4  21738  Piso en venta en carretera de Villaverde a Val...   \n",
       "\n",
       "                subtitle  sq_mt_built  sq_mt_useful  n_rooms  n_bathrooms  \\\n",
       "0  San Cristóbal, Madrid         64.0          60.0        2          1.0   \n",
       "1    Los Ángeles, Madrid         70.0           NaN        3          1.0   \n",
       "2     San Andrés, Madrid         94.0          54.0        2          2.0   \n",
       "3     San Andrés, Madrid         64.0           NaN        2          1.0   \n",
       "4    Los Rosales, Madrid        108.0          90.0        2          2.0   \n",
       "\n",
       "   n_floors  sq_mt_allotment  ...  energy_certificate  has_parking  \\\n",
       "0       NaN              NaN  ...                   D        False   \n",
       "1       NaN              NaN  ...          en trámite        False   \n",
       "2       NaN              NaN  ...         no indicado        False   \n",
       "3       NaN              NaN  ...          en trámite        False   \n",
       "4       NaN              NaN  ...          en trámite         True   \n",
       "\n",
       "  has_private_parking  has_public_parking is_parking_included_in_price  \\\n",
       "0                 NaN                 NaN                          NaN   \n",
       "1                 NaN                 NaN                          NaN   \n",
       "2                 NaN                 NaN                          NaN   \n",
       "3                 NaN                 NaN                          NaN   \n",
       "4                 NaN                 NaN                         True   \n",
       "\n",
       "  parking_price  is_orientation_north is_orientation_west  \\\n",
       "0           NaN                 False                True   \n",
       "1           NaN                   NaN                 NaN   \n",
       "2           NaN                   NaN                 NaN   \n",
       "3           NaN                 False               False   \n",
       "4           0.0                  True                True   \n",
       "\n",
       "  is_orientation_south  is_orientation_east  \n",
       "0                False                False  \n",
       "1                  NaN                  NaN  \n",
       "2                  NaN                  NaN  \n",
       "3                 True                False  \n",
       "4                 True                 True  \n",
       "\n",
       "[5 rows x 58 columns]"
      ]
     },
     "execution_count": 4,
     "metadata": {},
     "output_type": "execute_result"
    }
   ],
   "source": [
    "#Loading and reading in the dataset for analysis to begin\n",
    "data = pd.read_csv('madrid_housing.csv')\n",
    "data.head()"
   ]
  },
  {
   "cell_type": "code",
   "execution_count": 5,
   "metadata": {},
   "outputs": [
    {
     "data": {
      "text/html": [
       "<div>\n",
       "<style scoped>\n",
       "    .dataframe tbody tr th:only-of-type {\n",
       "        vertical-align: middle;\n",
       "    }\n",
       "\n",
       "    .dataframe tbody tr th {\n",
       "        vertical-align: top;\n",
       "    }\n",
       "\n",
       "    .dataframe thead th {\n",
       "        text-align: right;\n",
       "    }\n",
       "</style>\n",
       "<table border=\"1\" class=\"dataframe\">\n",
       "  <thead>\n",
       "    <tr style=\"text-align: right;\">\n",
       "      <th></th>\n",
       "      <th>title</th>\n",
       "      <th>subtitle</th>\n",
       "      <th>sq_mt_built</th>\n",
       "      <th>sq_mt_useful</th>\n",
       "      <th>n_rooms</th>\n",
       "      <th>n_bathrooms</th>\n",
       "      <th>n_floors</th>\n",
       "      <th>sq_mt_allotment</th>\n",
       "      <th>latitude</th>\n",
       "      <th>longitude</th>\n",
       "      <th>...</th>\n",
       "      <th>energy_certificate</th>\n",
       "      <th>has_parking</th>\n",
       "      <th>has_private_parking</th>\n",
       "      <th>has_public_parking</th>\n",
       "      <th>is_parking_included_in_price</th>\n",
       "      <th>parking_price</th>\n",
       "      <th>is_orientation_north</th>\n",
       "      <th>is_orientation_west</th>\n",
       "      <th>is_orientation_south</th>\n",
       "      <th>is_orientation_east</th>\n",
       "    </tr>\n",
       "    <tr>\n",
       "      <th>id</th>\n",
       "      <th></th>\n",
       "      <th></th>\n",
       "      <th></th>\n",
       "      <th></th>\n",
       "      <th></th>\n",
       "      <th></th>\n",
       "      <th></th>\n",
       "      <th></th>\n",
       "      <th></th>\n",
       "      <th></th>\n",
       "      <th></th>\n",
       "      <th></th>\n",
       "      <th></th>\n",
       "      <th></th>\n",
       "      <th></th>\n",
       "      <th></th>\n",
       "      <th></th>\n",
       "      <th></th>\n",
       "      <th></th>\n",
       "      <th></th>\n",
       "      <th></th>\n",
       "    </tr>\n",
       "  </thead>\n",
       "  <tbody>\n",
       "    <tr>\n",
       "      <th>21742</th>\n",
       "      <td>Piso en venta en calle de Godella, 64</td>\n",
       "      <td>San Cristóbal, Madrid</td>\n",
       "      <td>64.0</td>\n",
       "      <td>60.0</td>\n",
       "      <td>2</td>\n",
       "      <td>1.0</td>\n",
       "      <td>NaN</td>\n",
       "      <td>NaN</td>\n",
       "      <td>NaN</td>\n",
       "      <td>NaN</td>\n",
       "      <td>...</td>\n",
       "      <td>D</td>\n",
       "      <td>False</td>\n",
       "      <td>NaN</td>\n",
       "      <td>NaN</td>\n",
       "      <td>NaN</td>\n",
       "      <td>NaN</td>\n",
       "      <td>False</td>\n",
       "      <td>True</td>\n",
       "      <td>False</td>\n",
       "      <td>False</td>\n",
       "    </tr>\n",
       "    <tr>\n",
       "      <th>21741</th>\n",
       "      <td>Piso en venta en calle de la del Manojo de Rosas</td>\n",
       "      <td>Los Ángeles, Madrid</td>\n",
       "      <td>70.0</td>\n",
       "      <td>NaN</td>\n",
       "      <td>3</td>\n",
       "      <td>1.0</td>\n",
       "      <td>NaN</td>\n",
       "      <td>NaN</td>\n",
       "      <td>NaN</td>\n",
       "      <td>NaN</td>\n",
       "      <td>...</td>\n",
       "      <td>en trámite</td>\n",
       "      <td>False</td>\n",
       "      <td>NaN</td>\n",
       "      <td>NaN</td>\n",
       "      <td>NaN</td>\n",
       "      <td>NaN</td>\n",
       "      <td>NaN</td>\n",
       "      <td>NaN</td>\n",
       "      <td>NaN</td>\n",
       "      <td>NaN</td>\n",
       "    </tr>\n",
       "    <tr>\n",
       "      <th>21740</th>\n",
       "      <td>Piso en venta en calle del Talco, 68</td>\n",
       "      <td>San Andrés, Madrid</td>\n",
       "      <td>94.0</td>\n",
       "      <td>54.0</td>\n",
       "      <td>2</td>\n",
       "      <td>2.0</td>\n",
       "      <td>NaN</td>\n",
       "      <td>NaN</td>\n",
       "      <td>NaN</td>\n",
       "      <td>NaN</td>\n",
       "      <td>...</td>\n",
       "      <td>no indicado</td>\n",
       "      <td>False</td>\n",
       "      <td>NaN</td>\n",
       "      <td>NaN</td>\n",
       "      <td>NaN</td>\n",
       "      <td>NaN</td>\n",
       "      <td>NaN</td>\n",
       "      <td>NaN</td>\n",
       "      <td>NaN</td>\n",
       "      <td>NaN</td>\n",
       "    </tr>\n",
       "    <tr>\n",
       "      <th>21739</th>\n",
       "      <td>Piso en venta en calle Pedro Jiménez</td>\n",
       "      <td>San Andrés, Madrid</td>\n",
       "      <td>64.0</td>\n",
       "      <td>NaN</td>\n",
       "      <td>2</td>\n",
       "      <td>1.0</td>\n",
       "      <td>NaN</td>\n",
       "      <td>NaN</td>\n",
       "      <td>NaN</td>\n",
       "      <td>NaN</td>\n",
       "      <td>...</td>\n",
       "      <td>en trámite</td>\n",
       "      <td>False</td>\n",
       "      <td>NaN</td>\n",
       "      <td>NaN</td>\n",
       "      <td>NaN</td>\n",
       "      <td>NaN</td>\n",
       "      <td>False</td>\n",
       "      <td>False</td>\n",
       "      <td>True</td>\n",
       "      <td>False</td>\n",
       "    </tr>\n",
       "    <tr>\n",
       "      <th>21738</th>\n",
       "      <td>Piso en venta en carretera de Villaverde a Val...</td>\n",
       "      <td>Los Rosales, Madrid</td>\n",
       "      <td>108.0</td>\n",
       "      <td>90.0</td>\n",
       "      <td>2</td>\n",
       "      <td>2.0</td>\n",
       "      <td>NaN</td>\n",
       "      <td>NaN</td>\n",
       "      <td>NaN</td>\n",
       "      <td>NaN</td>\n",
       "      <td>...</td>\n",
       "      <td>en trámite</td>\n",
       "      <td>True</td>\n",
       "      <td>NaN</td>\n",
       "      <td>NaN</td>\n",
       "      <td>True</td>\n",
       "      <td>0.0</td>\n",
       "      <td>True</td>\n",
       "      <td>True</td>\n",
       "      <td>True</td>\n",
       "      <td>True</td>\n",
       "    </tr>\n",
       "    <tr>\n",
       "      <th>...</th>\n",
       "      <td>...</td>\n",
       "      <td>...</td>\n",
       "      <td>...</td>\n",
       "      <td>...</td>\n",
       "      <td>...</td>\n",
       "      <td>...</td>\n",
       "      <td>...</td>\n",
       "      <td>...</td>\n",
       "      <td>...</td>\n",
       "      <td>...</td>\n",
       "      <td>...</td>\n",
       "      <td>...</td>\n",
       "      <td>...</td>\n",
       "      <td>...</td>\n",
       "      <td>...</td>\n",
       "      <td>...</td>\n",
       "      <td>...</td>\n",
       "      <td>...</td>\n",
       "      <td>...</td>\n",
       "      <td>...</td>\n",
       "      <td>...</td>\n",
       "    </tr>\n",
       "    <tr>\n",
       "      <th>5</th>\n",
       "      <td>Ático en venta en Casco Histórico de Barajas</td>\n",
       "      <td>Barajas, Madrid</td>\n",
       "      <td>78.0</td>\n",
       "      <td>NaN</td>\n",
       "      <td>2</td>\n",
       "      <td>2.0</td>\n",
       "      <td>NaN</td>\n",
       "      <td>NaN</td>\n",
       "      <td>NaN</td>\n",
       "      <td>NaN</td>\n",
       "      <td>...</td>\n",
       "      <td>en trámite</td>\n",
       "      <td>True</td>\n",
       "      <td>NaN</td>\n",
       "      <td>NaN</td>\n",
       "      <td>True</td>\n",
       "      <td>0.0</td>\n",
       "      <td>NaN</td>\n",
       "      <td>NaN</td>\n",
       "      <td>NaN</td>\n",
       "      <td>NaN</td>\n",
       "    </tr>\n",
       "    <tr>\n",
       "      <th>4</th>\n",
       "      <td>Piso en venta en Urb. Campo de las Naciones - ...</td>\n",
       "      <td>Barajas, Madrid</td>\n",
       "      <td>96.0</td>\n",
       "      <td>83.0</td>\n",
       "      <td>2</td>\n",
       "      <td>2.0</td>\n",
       "      <td>NaN</td>\n",
       "      <td>NaN</td>\n",
       "      <td>NaN</td>\n",
       "      <td>NaN</td>\n",
       "      <td>...</td>\n",
       "      <td>en trámite</td>\n",
       "      <td>True</td>\n",
       "      <td>NaN</td>\n",
       "      <td>NaN</td>\n",
       "      <td>True</td>\n",
       "      <td>0.0</td>\n",
       "      <td>False</td>\n",
       "      <td>True</td>\n",
       "      <td>True</td>\n",
       "      <td>True</td>\n",
       "    </tr>\n",
       "    <tr>\n",
       "      <th>3</th>\n",
       "      <td>Piso en venta en Campo de las Naciones-Corralejos</td>\n",
       "      <td>Barajas, Madrid</td>\n",
       "      <td>175.0</td>\n",
       "      <td>NaN</td>\n",
       "      <td>4</td>\n",
       "      <td>2.0</td>\n",
       "      <td>NaN</td>\n",
       "      <td>NaN</td>\n",
       "      <td>NaN</td>\n",
       "      <td>NaN</td>\n",
       "      <td>...</td>\n",
       "      <td>E</td>\n",
       "      <td>True</td>\n",
       "      <td>NaN</td>\n",
       "      <td>NaN</td>\n",
       "      <td>True</td>\n",
       "      <td>0.0</td>\n",
       "      <td>NaN</td>\n",
       "      <td>NaN</td>\n",
       "      <td>NaN</td>\n",
       "      <td>NaN</td>\n",
       "    </tr>\n",
       "    <tr>\n",
       "      <th>2</th>\n",
       "      <td>Chalet adosado en venta en calle Burriana, 12</td>\n",
       "      <td>Campo de las Naciones-Corralejos, Madrid</td>\n",
       "      <td>289.0</td>\n",
       "      <td>NaN</td>\n",
       "      <td>4</td>\n",
       "      <td>3.0</td>\n",
       "      <td>3.0</td>\n",
       "      <td>304.0</td>\n",
       "      <td>NaN</td>\n",
       "      <td>NaN</td>\n",
       "      <td>...</td>\n",
       "      <td>en trámite</td>\n",
       "      <td>True</td>\n",
       "      <td>NaN</td>\n",
       "      <td>NaN</td>\n",
       "      <td>True</td>\n",
       "      <td>0.0</td>\n",
       "      <td>False</td>\n",
       "      <td>False</td>\n",
       "      <td>True</td>\n",
       "      <td>False</td>\n",
       "    </tr>\n",
       "    <tr>\n",
       "      <th>1</th>\n",
       "      <td>Piso en venta en calle San Epifanio, 9</td>\n",
       "      <td>Imperial, Madrid</td>\n",
       "      <td>72.0</td>\n",
       "      <td>NaN</td>\n",
       "      <td>2</td>\n",
       "      <td>2.0</td>\n",
       "      <td>NaN</td>\n",
       "      <td>NaN</td>\n",
       "      <td>NaN</td>\n",
       "      <td>NaN</td>\n",
       "      <td>...</td>\n",
       "      <td>A</td>\n",
       "      <td>True</td>\n",
       "      <td>NaN</td>\n",
       "      <td>NaN</td>\n",
       "      <td>True</td>\n",
       "      <td>0.0</td>\n",
       "      <td>NaN</td>\n",
       "      <td>NaN</td>\n",
       "      <td>NaN</td>\n",
       "      <td>NaN</td>\n",
       "    </tr>\n",
       "  </tbody>\n",
       "</table>\n",
       "<p>21742 rows × 56 columns</p>\n",
       "</div>"
      ],
      "text/plain": [
       "                                                   title  \\\n",
       "id                                                         \n",
       "21742              Piso en venta en calle de Godella, 64   \n",
       "21741   Piso en venta en calle de la del Manojo de Rosas   \n",
       "21740               Piso en venta en calle del Talco, 68   \n",
       "21739               Piso en venta en calle Pedro Jiménez   \n",
       "21738  Piso en venta en carretera de Villaverde a Val...   \n",
       "...                                                  ...   \n",
       "5           Ático en venta en Casco Histórico de Barajas   \n",
       "4      Piso en venta en Urb. Campo de las Naciones - ...   \n",
       "3      Piso en venta en Campo de las Naciones-Corralejos   \n",
       "2          Chalet adosado en venta en calle Burriana, 12   \n",
       "1                 Piso en venta en calle San Epifanio, 9   \n",
       "\n",
       "                                       subtitle  sq_mt_built  sq_mt_useful  \\\n",
       "id                                                                           \n",
       "21742                     San Cristóbal, Madrid         64.0          60.0   \n",
       "21741                       Los Ángeles, Madrid         70.0           NaN   \n",
       "21740                        San Andrés, Madrid         94.0          54.0   \n",
       "21739                        San Andrés, Madrid         64.0           NaN   \n",
       "21738                       Los Rosales, Madrid        108.0          90.0   \n",
       "...                                         ...          ...           ...   \n",
       "5                               Barajas, Madrid         78.0           NaN   \n",
       "4                               Barajas, Madrid         96.0          83.0   \n",
       "3                               Barajas, Madrid        175.0           NaN   \n",
       "2      Campo de las Naciones-Corralejos, Madrid        289.0           NaN   \n",
       "1                              Imperial, Madrid         72.0           NaN   \n",
       "\n",
       "       n_rooms  n_bathrooms  n_floors  sq_mt_allotment  latitude  longitude  \\\n",
       "id                                                                            \n",
       "21742        2          1.0       NaN              NaN       NaN        NaN   \n",
       "21741        3          1.0       NaN              NaN       NaN        NaN   \n",
       "21740        2          2.0       NaN              NaN       NaN        NaN   \n",
       "21739        2          1.0       NaN              NaN       NaN        NaN   \n",
       "21738        2          2.0       NaN              NaN       NaN        NaN   \n",
       "...        ...          ...       ...              ...       ...        ...   \n",
       "5            2          2.0       NaN              NaN       NaN        NaN   \n",
       "4            2          2.0       NaN              NaN       NaN        NaN   \n",
       "3            4          2.0       NaN              NaN       NaN        NaN   \n",
       "2            4          3.0       3.0            304.0       NaN        NaN   \n",
       "1            2          2.0       NaN              NaN       NaN        NaN   \n",
       "\n",
       "       ... energy_certificate  has_parking has_private_parking  \\\n",
       "id     ...                                                       \n",
       "21742  ...                  D        False                 NaN   \n",
       "21741  ...         en trámite        False                 NaN   \n",
       "21740  ...        no indicado        False                 NaN   \n",
       "21739  ...         en trámite        False                 NaN   \n",
       "21738  ...         en trámite         True                 NaN   \n",
       "...    ...                ...          ...                 ...   \n",
       "5      ...         en trámite         True                 NaN   \n",
       "4      ...         en trámite         True                 NaN   \n",
       "3      ...                  E         True                 NaN   \n",
       "2      ...         en trámite         True                 NaN   \n",
       "1      ...                  A         True                 NaN   \n",
       "\n",
       "      has_public_parking  is_parking_included_in_price parking_price  \\\n",
       "id                                                                     \n",
       "21742                NaN                           NaN           NaN   \n",
       "21741                NaN                           NaN           NaN   \n",
       "21740                NaN                           NaN           NaN   \n",
       "21739                NaN                           NaN           NaN   \n",
       "21738                NaN                          True           0.0   \n",
       "...                  ...                           ...           ...   \n",
       "5                    NaN                          True           0.0   \n",
       "4                    NaN                          True           0.0   \n",
       "3                    NaN                          True           0.0   \n",
       "2                    NaN                          True           0.0   \n",
       "1                    NaN                          True           0.0   \n",
       "\n",
       "      is_orientation_north  is_orientation_west is_orientation_south  \\\n",
       "id                                                                     \n",
       "21742                False                 True                False   \n",
       "21741                  NaN                  NaN                  NaN   \n",
       "21740                  NaN                  NaN                  NaN   \n",
       "21739                False                False                 True   \n",
       "21738                 True                 True                 True   \n",
       "...                    ...                  ...                  ...   \n",
       "5                      NaN                  NaN                  NaN   \n",
       "4                    False                 True                 True   \n",
       "3                      NaN                  NaN                  NaN   \n",
       "2                    False                False                 True   \n",
       "1                      NaN                  NaN                  NaN   \n",
       "\n",
       "      is_orientation_east  \n",
       "id                         \n",
       "21742               False  \n",
       "21741                 NaN  \n",
       "21740                 NaN  \n",
       "21739               False  \n",
       "21738                True  \n",
       "...                   ...  \n",
       "5                     NaN  \n",
       "4                    True  \n",
       "3                     NaN  \n",
       "2                   False  \n",
       "1                     NaN  \n",
       "\n",
       "[21742 rows x 56 columns]"
      ]
     },
     "execution_count": 5,
     "metadata": {},
     "output_type": "execute_result"
    }
   ],
   "source": [
    "#Let us first remove the `unnamed: 0` column and make `id` the index column\n",
    "data.drop(columns=['Unnamed: 0'], inplace=True)\n",
    "data.set_index('id', inplace=True)\n",
    "data"
   ]
  },
  {
   "cell_type": "markdown",
   "metadata": {},
   "source": [
    "* The dropped columns were dropped to make our dataset presentable. \n",
    "* Alternatively, we could have reshaped how that column was presented."
   ]
  },
  {
   "cell_type": "code",
   "execution_count": 6,
   "metadata": {},
   "outputs": [
    {
     "name": "stdout",
     "output_type": "stream",
     "text": [
      "Rows and Columns: (21742, 56)\n"
     ]
    }
   ],
   "source": [
    "#How many rows and columns are present in this dataset\n",
    "print('Rows and Columns: {}'.format(data.shape))"
   ]
  },
  {
   "cell_type": "code",
   "execution_count": 7,
   "metadata": {},
   "outputs": [
    {
     "name": "stdout",
     "output_type": "stream",
     "text": [
      "Total Entries: 1217552\n"
     ]
    }
   ],
   "source": [
    "#Total Entries in this dataset\n",
    "print('Total Entries: {}'.format(data.size))"
   ]
  },
  {
   "cell_type": "code",
   "execution_count": 8,
   "metadata": {},
   "outputs": [
    {
     "name": "stdout",
     "output_type": "stream",
     "text": [
      "<class 'pandas.core.frame.DataFrame'>\n",
      "Int64Index: 21742 entries, 21742 to 1\n",
      "Data columns (total 56 columns):\n",
      " #   Column                        Non-Null Count  Dtype  \n",
      "---  ------                        --------------  -----  \n",
      " 0   title                         21742 non-null  object \n",
      " 1   subtitle                      21742 non-null  object \n",
      " 2   sq_mt_built                   21616 non-null  float64\n",
      " 3   sq_mt_useful                  8228 non-null   float64\n",
      " 4   n_rooms                       21742 non-null  int64  \n",
      " 5   n_bathrooms                   21726 non-null  float64\n",
      " 6   n_floors                      1437 non-null   float64\n",
      " 7   sq_mt_allotment               1432 non-null   float64\n",
      " 8   latitude                      0 non-null      float64\n",
      " 9   longitude                     0 non-null      float64\n",
      " 10  raw_address                   16277 non-null  object \n",
      " 11  is_exact_address_hidden       21742 non-null  bool   \n",
      " 12  street_name                   15837 non-null  object \n",
      " 13  street_number                 6300 non-null   object \n",
      " 14  portal                        0 non-null      float64\n",
      " 15  floor                         19135 non-null  object \n",
      " 16  is_floor_under                20572 non-null  object \n",
      " 17  door                          0 non-null      float64\n",
      " 18  neighborhood_id               21742 non-null  object \n",
      " 19  operation                     21742 non-null  object \n",
      " 20  rent_price                    21742 non-null  int64  \n",
      " 21  rent_price_by_area            0 non-null      float64\n",
      " 22  is_rent_price_known           21742 non-null  bool   \n",
      " 23  buy_price                     21742 non-null  int64  \n",
      " 24  buy_price_by_area             21742 non-null  int64  \n",
      " 25  is_buy_price_known            21742 non-null  bool   \n",
      " 26  house_type_id                 21351 non-null  object \n",
      " 27  is_renewal_needed             21742 non-null  bool   \n",
      " 28  is_new_development            20750 non-null  object \n",
      " 29  built_year                    10000 non-null  float64\n",
      " 30  has_central_heating           13608 non-null  object \n",
      " 31  has_individual_heating        13608 non-null  object \n",
      " 32  are_pets_allowed              0 non-null      float64\n",
      " 33  has_ac                        11211 non-null  object \n",
      " 34  has_fitted_wardrobes          13399 non-null  object \n",
      " 35  has_lift                      19356 non-null  object \n",
      " 36  is_exterior                   18699 non-null  object \n",
      " 37  has_garden                    1556 non-null   object \n",
      " 38  has_pool                      5171 non-null   object \n",
      " 39  has_terrace                   9548 non-null   object \n",
      " 40  has_balcony                   3321 non-null   object \n",
      " 41  has_storage_room              7698 non-null   object \n",
      " 42  is_furnished                  0 non-null      float64\n",
      " 43  is_kitchen_equipped           0 non-null      float64\n",
      " 44  is_accessible                 4074 non-null   object \n",
      " 45  has_green_zones               4057 non-null   object \n",
      " 46  energy_certificate            21742 non-null  object \n",
      " 47  has_parking                   21742 non-null  bool   \n",
      " 48  has_private_parking           0 non-null      float64\n",
      " 49  has_public_parking            0 non-null      float64\n",
      " 50  is_parking_included_in_price  7719 non-null   object \n",
      " 51  parking_price                 7719 non-null   float64\n",
      " 52  is_orientation_north          11358 non-null  object \n",
      " 53  is_orientation_west           11358 non-null  object \n",
      " 54  is_orientation_south          11358 non-null  object \n",
      " 55  is_orientation_east           11358 non-null  object \n",
      "dtypes: bool(5), float64(17), int64(4), object(30)\n",
      "memory usage: 8.7+ MB\n"
     ]
    }
   ],
   "source": [
    "# Detailed information about the data\n",
    "data.info()"
   ]
  },
  {
   "cell_type": "markdown",
   "metadata": {},
   "source": [
    "* Observations points out that, 55 attributes or features came with this dataset.\n",
    "* It can also be seen that some or almost all of a column has null counts -  this meant, the data isnt uniform.\n",
    "* Datasets which aint uniform may give bias results and therefore they ought to be treated."
   ]
  },
  {
   "cell_type": "code",
   "execution_count": 9,
   "metadata": {},
   "outputs": [
    {
     "data": {
      "text/html": [
       "<div>\n",
       "<style scoped>\n",
       "    .dataframe tbody tr th:only-of-type {\n",
       "        vertical-align: middle;\n",
       "    }\n",
       "\n",
       "    .dataframe tbody tr th {\n",
       "        vertical-align: top;\n",
       "    }\n",
       "\n",
       "    .dataframe thead th {\n",
       "        text-align: right;\n",
       "    }\n",
       "</style>\n",
       "<table border=\"1\" class=\"dataframe\">\n",
       "  <thead>\n",
       "    <tr style=\"text-align: right;\">\n",
       "      <th></th>\n",
       "      <th>count</th>\n",
       "      <th>mean</th>\n",
       "      <th>std</th>\n",
       "      <th>min</th>\n",
       "      <th>25%</th>\n",
       "      <th>50%</th>\n",
       "      <th>75%</th>\n",
       "      <th>max</th>\n",
       "    </tr>\n",
       "  </thead>\n",
       "  <tbody>\n",
       "    <tr>\n",
       "      <th>sq_mt_built</th>\n",
       "      <td>21616.0</td>\n",
       "      <td>146.920892</td>\n",
       "      <td>134.181865</td>\n",
       "      <td>13.0</td>\n",
       "      <td>70.0</td>\n",
       "      <td>100.0</td>\n",
       "      <td>162.0</td>\n",
       "      <td>999.0</td>\n",
       "    </tr>\n",
       "    <tr>\n",
       "      <th>sq_mt_useful</th>\n",
       "      <td>8228.0</td>\n",
       "      <td>103.458192</td>\n",
       "      <td>88.259192</td>\n",
       "      <td>1.0</td>\n",
       "      <td>59.0</td>\n",
       "      <td>79.0</td>\n",
       "      <td>113.0</td>\n",
       "      <td>998.0</td>\n",
       "    </tr>\n",
       "    <tr>\n",
       "      <th>n_rooms</th>\n",
       "      <td>21742.0</td>\n",
       "      <td>3.005749</td>\n",
       "      <td>1.510497</td>\n",
       "      <td>0.0</td>\n",
       "      <td>2.0</td>\n",
       "      <td>3.0</td>\n",
       "      <td>4.0</td>\n",
       "      <td>24.0</td>\n",
       "    </tr>\n",
       "    <tr>\n",
       "      <th>n_bathrooms</th>\n",
       "      <td>21726.0</td>\n",
       "      <td>2.091687</td>\n",
       "      <td>1.406992</td>\n",
       "      <td>1.0</td>\n",
       "      <td>1.0</td>\n",
       "      <td>2.0</td>\n",
       "      <td>2.0</td>\n",
       "      <td>16.0</td>\n",
       "    </tr>\n",
       "    <tr>\n",
       "      <th>n_floors</th>\n",
       "      <td>1437.0</td>\n",
       "      <td>3.128740</td>\n",
       "      <td>0.907713</td>\n",
       "      <td>1.0</td>\n",
       "      <td>2.0</td>\n",
       "      <td>3.0</td>\n",
       "      <td>4.0</td>\n",
       "      <td>7.0</td>\n",
       "    </tr>\n",
       "    <tr>\n",
       "      <th>sq_mt_allotment</th>\n",
       "      <td>1432.0</td>\n",
       "      <td>241.692737</td>\n",
       "      <td>247.484853</td>\n",
       "      <td>1.0</td>\n",
       "      <td>2.0</td>\n",
       "      <td>232.0</td>\n",
       "      <td>354.0</td>\n",
       "      <td>997.0</td>\n",
       "    </tr>\n",
       "    <tr>\n",
       "      <th>latitude</th>\n",
       "      <td>0.0</td>\n",
       "      <td>NaN</td>\n",
       "      <td>NaN</td>\n",
       "      <td>NaN</td>\n",
       "      <td>NaN</td>\n",
       "      <td>NaN</td>\n",
       "      <td>NaN</td>\n",
       "      <td>NaN</td>\n",
       "    </tr>\n",
       "    <tr>\n",
       "      <th>longitude</th>\n",
       "      <td>0.0</td>\n",
       "      <td>NaN</td>\n",
       "      <td>NaN</td>\n",
       "      <td>NaN</td>\n",
       "      <td>NaN</td>\n",
       "      <td>NaN</td>\n",
       "      <td>NaN</td>\n",
       "      <td>NaN</td>\n",
       "    </tr>\n",
       "    <tr>\n",
       "      <th>portal</th>\n",
       "      <td>0.0</td>\n",
       "      <td>NaN</td>\n",
       "      <td>NaN</td>\n",
       "      <td>NaN</td>\n",
       "      <td>NaN</td>\n",
       "      <td>NaN</td>\n",
       "      <td>NaN</td>\n",
       "      <td>NaN</td>\n",
       "    </tr>\n",
       "    <tr>\n",
       "      <th>door</th>\n",
       "      <td>0.0</td>\n",
       "      <td>NaN</td>\n",
       "      <td>NaN</td>\n",
       "      <td>NaN</td>\n",
       "      <td>NaN</td>\n",
       "      <td>NaN</td>\n",
       "      <td>NaN</td>\n",
       "      <td>NaN</td>\n",
       "    </tr>\n",
       "    <tr>\n",
       "      <th>rent_price</th>\n",
       "      <td>21742.0</td>\n",
       "      <td>-59170.307929</td>\n",
       "      <td>917116.183176</td>\n",
       "      <td>-34590276.0</td>\n",
       "      <td>725.0</td>\n",
       "      <td>1116.0</td>\n",
       "      <td>1687.0</td>\n",
       "      <td>2517.0</td>\n",
       "    </tr>\n",
       "    <tr>\n",
       "      <th>rent_price_by_area</th>\n",
       "      <td>0.0</td>\n",
       "      <td>NaN</td>\n",
       "      <td>NaN</td>\n",
       "      <td>NaN</td>\n",
       "      <td>NaN</td>\n",
       "      <td>NaN</td>\n",
       "      <td>NaN</td>\n",
       "      <td>NaN</td>\n",
       "    </tr>\n",
       "    <tr>\n",
       "      <th>buy_price</th>\n",
       "      <td>21742.0</td>\n",
       "      <td>653735.647503</td>\n",
       "      <td>782082.069836</td>\n",
       "      <td>36000.0</td>\n",
       "      <td>198000.0</td>\n",
       "      <td>375000.0</td>\n",
       "      <td>763600.0</td>\n",
       "      <td>8800000.0</td>\n",
       "    </tr>\n",
       "    <tr>\n",
       "      <th>buy_price_by_area</th>\n",
       "      <td>21742.0</td>\n",
       "      <td>4020.523871</td>\n",
       "      <td>1908.418774</td>\n",
       "      <td>447.0</td>\n",
       "      <td>2551.0</td>\n",
       "      <td>3720.0</td>\n",
       "      <td>5000.0</td>\n",
       "      <td>18889.0</td>\n",
       "    </tr>\n",
       "    <tr>\n",
       "      <th>built_year</th>\n",
       "      <td>10000.0</td>\n",
       "      <td>1970.046400</td>\n",
       "      <td>69.386705</td>\n",
       "      <td>1723.0</td>\n",
       "      <td>1957.0</td>\n",
       "      <td>1970.0</td>\n",
       "      <td>1994.0</td>\n",
       "      <td>8170.0</td>\n",
       "    </tr>\n",
       "    <tr>\n",
       "      <th>are_pets_allowed</th>\n",
       "      <td>0.0</td>\n",
       "      <td>NaN</td>\n",
       "      <td>NaN</td>\n",
       "      <td>NaN</td>\n",
       "      <td>NaN</td>\n",
       "      <td>NaN</td>\n",
       "      <td>NaN</td>\n",
       "      <td>NaN</td>\n",
       "    </tr>\n",
       "    <tr>\n",
       "      <th>is_furnished</th>\n",
       "      <td>0.0</td>\n",
       "      <td>NaN</td>\n",
       "      <td>NaN</td>\n",
       "      <td>NaN</td>\n",
       "      <td>NaN</td>\n",
       "      <td>NaN</td>\n",
       "      <td>NaN</td>\n",
       "      <td>NaN</td>\n",
       "    </tr>\n",
       "    <tr>\n",
       "      <th>is_kitchen_equipped</th>\n",
       "      <td>0.0</td>\n",
       "      <td>NaN</td>\n",
       "      <td>NaN</td>\n",
       "      <td>NaN</td>\n",
       "      <td>NaN</td>\n",
       "      <td>NaN</td>\n",
       "      <td>NaN</td>\n",
       "      <td>NaN</td>\n",
       "    </tr>\n",
       "    <tr>\n",
       "      <th>has_private_parking</th>\n",
       "      <td>0.0</td>\n",
       "      <td>NaN</td>\n",
       "      <td>NaN</td>\n",
       "      <td>NaN</td>\n",
       "      <td>NaN</td>\n",
       "      <td>NaN</td>\n",
       "      <td>NaN</td>\n",
       "      <td>NaN</td>\n",
       "    </tr>\n",
       "    <tr>\n",
       "      <th>has_public_parking</th>\n",
       "      <td>0.0</td>\n",
       "      <td>NaN</td>\n",
       "      <td>NaN</td>\n",
       "      <td>NaN</td>\n",
       "      <td>NaN</td>\n",
       "      <td>NaN</td>\n",
       "      <td>NaN</td>\n",
       "      <td>NaN</td>\n",
       "    </tr>\n",
       "    <tr>\n",
       "      <th>parking_price</th>\n",
       "      <td>7719.0</td>\n",
       "      <td>2658.000518</td>\n",
       "      <td>13360.966258</td>\n",
       "      <td>0.0</td>\n",
       "      <td>0.0</td>\n",
       "      <td>0.0</td>\n",
       "      <td>0.0</td>\n",
       "      <td>600000.0</td>\n",
       "    </tr>\n",
       "  </tbody>\n",
       "</table>\n",
       "</div>"
      ],
      "text/plain": [
       "                       count           mean            std         min  \\\n",
       "sq_mt_built          21616.0     146.920892     134.181865        13.0   \n",
       "sq_mt_useful          8228.0     103.458192      88.259192         1.0   \n",
       "n_rooms              21742.0       3.005749       1.510497         0.0   \n",
       "n_bathrooms          21726.0       2.091687       1.406992         1.0   \n",
       "n_floors              1437.0       3.128740       0.907713         1.0   \n",
       "sq_mt_allotment       1432.0     241.692737     247.484853         1.0   \n",
       "latitude                 0.0            NaN            NaN         NaN   \n",
       "longitude                0.0            NaN            NaN         NaN   \n",
       "portal                   0.0            NaN            NaN         NaN   \n",
       "door                     0.0            NaN            NaN         NaN   \n",
       "rent_price           21742.0  -59170.307929  917116.183176 -34590276.0   \n",
       "rent_price_by_area       0.0            NaN            NaN         NaN   \n",
       "buy_price            21742.0  653735.647503  782082.069836     36000.0   \n",
       "buy_price_by_area    21742.0    4020.523871    1908.418774       447.0   \n",
       "built_year           10000.0    1970.046400      69.386705      1723.0   \n",
       "are_pets_allowed         0.0            NaN            NaN         NaN   \n",
       "is_furnished             0.0            NaN            NaN         NaN   \n",
       "is_kitchen_equipped      0.0            NaN            NaN         NaN   \n",
       "has_private_parking      0.0            NaN            NaN         NaN   \n",
       "has_public_parking       0.0            NaN            NaN         NaN   \n",
       "parking_price         7719.0    2658.000518   13360.966258         0.0   \n",
       "\n",
       "                          25%       50%       75%        max  \n",
       "sq_mt_built              70.0     100.0     162.0      999.0  \n",
       "sq_mt_useful             59.0      79.0     113.0      998.0  \n",
       "n_rooms                   2.0       3.0       4.0       24.0  \n",
       "n_bathrooms               1.0       2.0       2.0       16.0  \n",
       "n_floors                  2.0       3.0       4.0        7.0  \n",
       "sq_mt_allotment           2.0     232.0     354.0      997.0  \n",
       "latitude                  NaN       NaN       NaN        NaN  \n",
       "longitude                 NaN       NaN       NaN        NaN  \n",
       "portal                    NaN       NaN       NaN        NaN  \n",
       "door                      NaN       NaN       NaN        NaN  \n",
       "rent_price              725.0    1116.0    1687.0     2517.0  \n",
       "rent_price_by_area        NaN       NaN       NaN        NaN  \n",
       "buy_price            198000.0  375000.0  763600.0  8800000.0  \n",
       "buy_price_by_area      2551.0    3720.0    5000.0    18889.0  \n",
       "built_year             1957.0    1970.0    1994.0     8170.0  \n",
       "are_pets_allowed          NaN       NaN       NaN        NaN  \n",
       "is_furnished              NaN       NaN       NaN        NaN  \n",
       "is_kitchen_equipped       NaN       NaN       NaN        NaN  \n",
       "has_private_parking       NaN       NaN       NaN        NaN  \n",
       "has_public_parking        NaN       NaN       NaN        NaN  \n",
       "parking_price             0.0       0.0       0.0   600000.0  "
      ]
     },
     "execution_count": 9,
     "metadata": {},
     "output_type": "execute_result"
    }
   ],
   "source": [
    "data.describe().T"
   ]
  },
  {
   "cell_type": "markdown",
   "metadata": {},
   "source": [
    "* a descriptive statistics of the numerical values present in the dataset"
   ]
  },
  {
   "cell_type": "code",
   "execution_count": 10,
   "metadata": {},
   "outputs": [
    {
     "name": "stdout",
     "output_type": "stream",
     "text": [
      "Duplicated Counts: 179\n"
     ]
    }
   ],
   "source": [
    "# Verifying if there are duplicates among our dataset\n",
    "print('Duplicated Counts: {}'.format(data.duplicated().sum()))"
   ]
  },
  {
   "cell_type": "code",
   "execution_count": 11,
   "metadata": {},
   "outputs": [
    {
     "data": {
      "text/plain": [
       "title                               0\n",
       "has_parking                         0\n",
       "energy_certificate                  0\n",
       "is_buy_price_known                  0\n",
       "buy_price_by_area                   0\n",
       "buy_price                           0\n",
       "is_rent_price_known                 0\n",
       "rent_price                          0\n",
       "operation                           0\n",
       "neighborhood_id                     0\n",
       "is_exact_address_hidden             0\n",
       "is_renewal_needed                   0\n",
       "n_rooms                             0\n",
       "subtitle                            0\n",
       "n_bathrooms                        16\n",
       "sq_mt_built                       126\n",
       "house_type_id                     391\n",
       "is_new_development                992\n",
       "is_floor_under                   1170\n",
       "has_lift                         2386\n",
       "floor                            2607\n",
       "is_exterior                      3043\n",
       "raw_address                      5465\n",
       "street_name                      5905\n",
       "has_central_heating              8134\n",
       "has_individual_heating           8134\n",
       "has_fitted_wardrobes             8343\n",
       "is_orientation_north            10384\n",
       "is_orientation_west             10384\n",
       "is_orientation_east             10384\n",
       "is_orientation_south            10384\n",
       "has_ac                          10531\n",
       "built_year                      11742\n",
       "has_terrace                     12194\n",
       "sq_mt_useful                    13514\n",
       "parking_price                   14023\n",
       "is_parking_included_in_price    14023\n",
       "has_storage_room                14044\n",
       "street_number                   15442\n",
       "has_pool                        16571\n",
       "is_accessible                   17668\n",
       "has_green_zones                 17685\n",
       "has_balcony                     18421\n",
       "has_garden                      20186\n",
       "n_floors                        20305\n",
       "sq_mt_allotment                 20310\n",
       "are_pets_allowed                21742\n",
       "portal                          21742\n",
       "has_public_parking              21742\n",
       "is_kitchen_equipped             21742\n",
       "door                            21742\n",
       "longitude                       21742\n",
       "latitude                        21742\n",
       "rent_price_by_area              21742\n",
       "has_private_parking             21742\n",
       "is_furnished                    21742\n",
       "dtype: int64"
      ]
     },
     "execution_count": 11,
     "metadata": {},
     "output_type": "execute_result"
    }
   ],
   "source": [
    "# Verifying if there are null counts in our dataset\n",
    "data.isna().sum().sort_values()"
   ]
  },
  {
   "cell_type": "markdown",
   "metadata": {},
   "source": [
    "* The output above showcased the ordered null counts values in our dataset. With '0' being none of the entries are empty and '21742' being all the entries cells are null."
   ]
  },
  {
   "cell_type": "code",
   "execution_count": 12,
   "metadata": {},
   "outputs": [
    {
     "data": {
      "text/plain": [
       "Index(['title', 'subtitle', 'sq_mt_built', 'sq_mt_useful', 'n_rooms',\n",
       "       'n_bathrooms', 'n_floors', 'sq_mt_allotment', 'latitude', 'longitude',\n",
       "       'raw_address', 'is_exact_address_hidden', 'street_name',\n",
       "       'street_number', 'portal', 'floor', 'is_floor_under', 'door',\n",
       "       'neighborhood_id', 'operation', 'rent_price', 'rent_price_by_area',\n",
       "       'is_rent_price_known', 'buy_price', 'buy_price_by_area',\n",
       "       'is_buy_price_known', 'house_type_id', 'is_renewal_needed',\n",
       "       'is_new_development', 'built_year', 'has_central_heating',\n",
       "       'has_individual_heating', 'are_pets_allowed', 'has_ac',\n",
       "       'has_fitted_wardrobes', 'has_lift', 'is_exterior', 'has_garden',\n",
       "       'has_pool', 'has_terrace', 'has_balcony', 'has_storage_room',\n",
       "       'is_furnished', 'is_kitchen_equipped', 'is_accessible',\n",
       "       'has_green_zones', 'energy_certificate', 'has_parking',\n",
       "       'has_private_parking', 'has_public_parking',\n",
       "       'is_parking_included_in_price', 'parking_price', 'is_orientation_north',\n",
       "       'is_orientation_west', 'is_orientation_south', 'is_orientation_east'],\n",
       "      dtype='object')"
      ]
     },
     "execution_count": 12,
     "metadata": {},
     "output_type": "execute_result"
    }
   ],
   "source": [
    "# viewing all columns\n",
    "data.columns"
   ]
  },
  {
   "cell_type": "markdown",
   "metadata": {},
   "source": [
    "* The column function was called to remove unnecessary attributes from our analysis"
   ]
  },
  {
   "cell_type": "code",
   "execution_count": 13,
   "metadata": {},
   "outputs": [],
   "source": [
    "#removing attributes that wouldnt be neededfor our modeling\n",
    "data.drop(columns=['title', 'subtitle', 'sq_mt_useful','n_floors', \n",
    "       'sq_mt_allotment', 'latitude', 'longitude',\n",
    "       'raw_address', 'is_exact_address_hidden', 'street_name',\n",
    "       'street_number', 'portal', 'floor', 'is_floor_under', 'door',\n",
    "       'neighborhood_id', 'operation', 'rent_price_by_area',\n",
    "       'is_rent_price_known', 'buy_price_by_area',\n",
    "       'is_buy_price_known', 'house_type_id', 'is_renewal_needed',\n",
    "       'built_year', 'has_central_heating',\n",
    "       'has_individual_heating', 'are_pets_allowed', 'has_ac',\n",
    "       'has_fitted_wardrobes', 'has_lift', 'is_exterior', 'has_garden',\n",
    "       'has_pool', 'has_terrace', 'has_balcony', 'has_storage_room',\n",
    "       'is_kitchen_equipped', 'is_accessible',\n",
    "       'has_green_zones', 'energy_certificate', 'has_parking',\n",
    "       'has_private_parking', 'has_public_parking',\n",
    "       'is_parking_included_in_price', 'parking_price', 'is_orientation_north',\n",
    "       'is_orientation_west', 'is_orientation_south', 'is_orientation_east'], inplace=True)"
   ]
  },
  {
   "cell_type": "code",
   "execution_count": 14,
   "metadata": {},
   "outputs": [
    {
     "data": {
      "text/html": [
       "<div>\n",
       "<style scoped>\n",
       "    .dataframe tbody tr th:only-of-type {\n",
       "        vertical-align: middle;\n",
       "    }\n",
       "\n",
       "    .dataframe tbody tr th {\n",
       "        vertical-align: top;\n",
       "    }\n",
       "\n",
       "    .dataframe thead th {\n",
       "        text-align: right;\n",
       "    }\n",
       "</style>\n",
       "<table border=\"1\" class=\"dataframe\">\n",
       "  <thead>\n",
       "    <tr style=\"text-align: right;\">\n",
       "      <th></th>\n",
       "      <th>sq_mt_built</th>\n",
       "      <th>n_rooms</th>\n",
       "      <th>n_bathrooms</th>\n",
       "      <th>rent_price</th>\n",
       "      <th>buy_price</th>\n",
       "      <th>is_new_development</th>\n",
       "      <th>is_furnished</th>\n",
       "    </tr>\n",
       "    <tr>\n",
       "      <th>id</th>\n",
       "      <th></th>\n",
       "      <th></th>\n",
       "      <th></th>\n",
       "      <th></th>\n",
       "      <th></th>\n",
       "      <th></th>\n",
       "      <th></th>\n",
       "    </tr>\n",
       "  </thead>\n",
       "  <tbody>\n",
       "    <tr>\n",
       "      <th>21742</th>\n",
       "      <td>64.0</td>\n",
       "      <td>2</td>\n",
       "      <td>1.0</td>\n",
       "      <td>471</td>\n",
       "      <td>85000</td>\n",
       "      <td>False</td>\n",
       "      <td>NaN</td>\n",
       "    </tr>\n",
       "    <tr>\n",
       "      <th>21741</th>\n",
       "      <td>70.0</td>\n",
       "      <td>3</td>\n",
       "      <td>1.0</td>\n",
       "      <td>666</td>\n",
       "      <td>129900</td>\n",
       "      <td>False</td>\n",
       "      <td>NaN</td>\n",
       "    </tr>\n",
       "    <tr>\n",
       "      <th>21740</th>\n",
       "      <td>94.0</td>\n",
       "      <td>2</td>\n",
       "      <td>2.0</td>\n",
       "      <td>722</td>\n",
       "      <td>144247</td>\n",
       "      <td>False</td>\n",
       "      <td>NaN</td>\n",
       "    </tr>\n",
       "    <tr>\n",
       "      <th>21739</th>\n",
       "      <td>64.0</td>\n",
       "      <td>2</td>\n",
       "      <td>1.0</td>\n",
       "      <td>583</td>\n",
       "      <td>109900</td>\n",
       "      <td>False</td>\n",
       "      <td>NaN</td>\n",
       "    </tr>\n",
       "    <tr>\n",
       "      <th>21738</th>\n",
       "      <td>108.0</td>\n",
       "      <td>2</td>\n",
       "      <td>2.0</td>\n",
       "      <td>1094</td>\n",
       "      <td>260000</td>\n",
       "      <td>False</td>\n",
       "      <td>NaN</td>\n",
       "    </tr>\n",
       "    <tr>\n",
       "      <th>...</th>\n",
       "      <td>...</td>\n",
       "      <td>...</td>\n",
       "      <td>...</td>\n",
       "      <td>...</td>\n",
       "      <td>...</td>\n",
       "      <td>...</td>\n",
       "      <td>...</td>\n",
       "    </tr>\n",
       "    <tr>\n",
       "      <th>5</th>\n",
       "      <td>78.0</td>\n",
       "      <td>2</td>\n",
       "      <td>2.0</td>\n",
       "      <td>1323</td>\n",
       "      <td>350000</td>\n",
       "      <td>False</td>\n",
       "      <td>NaN</td>\n",
       "    </tr>\n",
       "    <tr>\n",
       "      <th>4</th>\n",
       "      <td>96.0</td>\n",
       "      <td>2</td>\n",
       "      <td>2.0</td>\n",
       "      <td>1496</td>\n",
       "      <td>425000</td>\n",
       "      <td>False</td>\n",
       "      <td>NaN</td>\n",
       "    </tr>\n",
       "    <tr>\n",
       "      <th>3</th>\n",
       "      <td>175.0</td>\n",
       "      <td>4</td>\n",
       "      <td>2.0</td>\n",
       "      <td>2081</td>\n",
       "      <td>680000</td>\n",
       "      <td>False</td>\n",
       "      <td>NaN</td>\n",
       "    </tr>\n",
       "    <tr>\n",
       "      <th>2</th>\n",
       "      <td>289.0</td>\n",
       "      <td>4</td>\n",
       "      <td>3.0</td>\n",
       "      <td>2115</td>\n",
       "      <td>695000</td>\n",
       "      <td>False</td>\n",
       "      <td>NaN</td>\n",
       "    </tr>\n",
       "    <tr>\n",
       "      <th>1</th>\n",
       "      <td>72.0</td>\n",
       "      <td>2</td>\n",
       "      <td>2.0</td>\n",
       "      <td>1494</td>\n",
       "      <td>424000</td>\n",
       "      <td>True</td>\n",
       "      <td>NaN</td>\n",
       "    </tr>\n",
       "  </tbody>\n",
       "</table>\n",
       "<p>21742 rows × 7 columns</p>\n",
       "</div>"
      ],
      "text/plain": [
       "       sq_mt_built  n_rooms  n_bathrooms  rent_price  buy_price  \\\n",
       "id                                                                \n",
       "21742         64.0        2          1.0         471      85000   \n",
       "21741         70.0        3          1.0         666     129900   \n",
       "21740         94.0        2          2.0         722     144247   \n",
       "21739         64.0        2          1.0         583     109900   \n",
       "21738        108.0        2          2.0        1094     260000   \n",
       "...            ...      ...          ...         ...        ...   \n",
       "5             78.0        2          2.0        1323     350000   \n",
       "4             96.0        2          2.0        1496     425000   \n",
       "3            175.0        4          2.0        2081     680000   \n",
       "2            289.0        4          3.0        2115     695000   \n",
       "1             72.0        2          2.0        1494     424000   \n",
       "\n",
       "      is_new_development  is_furnished  \n",
       "id                                      \n",
       "21742              False           NaN  \n",
       "21741              False           NaN  \n",
       "21740              False           NaN  \n",
       "21739              False           NaN  \n",
       "21738              False           NaN  \n",
       "...                  ...           ...  \n",
       "5                  False           NaN  \n",
       "4                  False           NaN  \n",
       "3                  False           NaN  \n",
       "2                  False           NaN  \n",
       "1                   True           NaN  \n",
       "\n",
       "[21742 rows x 7 columns]"
      ]
     },
     "execution_count": 14,
     "metadata": {},
     "output_type": "execute_result"
    }
   ],
   "source": [
    "#calling the data\n",
    "data"
   ]
  },
  {
   "cell_type": "code",
   "execution_count": 15,
   "metadata": {},
   "outputs": [],
   "source": [
    "data.rename(columns= {'sq_mt_built':'sq_metres', 'n_rooms':'rooms', 'n_bathrooms':'bathrooms', 'rent_price':'rents', 'is_new_development':'newly_developed', 'is_furnished':'furnished'}, inplace=True)"
   ]
  },
  {
   "cell_type": "markdown",
   "metadata": {},
   "source": [
    "* The labels which came with the dataset were transformed and renamed well."
   ]
  },
  {
   "cell_type": "code",
   "execution_count": 16,
   "metadata": {},
   "outputs": [
    {
     "data": {
      "text/html": [
       "<div>\n",
       "<style scoped>\n",
       "    .dataframe tbody tr th:only-of-type {\n",
       "        vertical-align: middle;\n",
       "    }\n",
       "\n",
       "    .dataframe tbody tr th {\n",
       "        vertical-align: top;\n",
       "    }\n",
       "\n",
       "    .dataframe thead th {\n",
       "        text-align: right;\n",
       "    }\n",
       "</style>\n",
       "<table border=\"1\" class=\"dataframe\">\n",
       "  <thead>\n",
       "    <tr style=\"text-align: right;\">\n",
       "      <th></th>\n",
       "      <th>sq_metres</th>\n",
       "      <th>rooms</th>\n",
       "      <th>bathrooms</th>\n",
       "      <th>rents</th>\n",
       "      <th>buy_price</th>\n",
       "      <th>newly_developed</th>\n",
       "      <th>furnished</th>\n",
       "    </tr>\n",
       "    <tr>\n",
       "      <th>id</th>\n",
       "      <th></th>\n",
       "      <th></th>\n",
       "      <th></th>\n",
       "      <th></th>\n",
       "      <th></th>\n",
       "      <th></th>\n",
       "      <th></th>\n",
       "    </tr>\n",
       "  </thead>\n",
       "  <tbody>\n",
       "    <tr>\n",
       "      <th>21742</th>\n",
       "      <td>64.0</td>\n",
       "      <td>2</td>\n",
       "      <td>1.0</td>\n",
       "      <td>471</td>\n",
       "      <td>85000</td>\n",
       "      <td>False</td>\n",
       "      <td>NaN</td>\n",
       "    </tr>\n",
       "    <tr>\n",
       "      <th>21741</th>\n",
       "      <td>70.0</td>\n",
       "      <td>3</td>\n",
       "      <td>1.0</td>\n",
       "      <td>666</td>\n",
       "      <td>129900</td>\n",
       "      <td>False</td>\n",
       "      <td>NaN</td>\n",
       "    </tr>\n",
       "    <tr>\n",
       "      <th>21740</th>\n",
       "      <td>94.0</td>\n",
       "      <td>2</td>\n",
       "      <td>2.0</td>\n",
       "      <td>722</td>\n",
       "      <td>144247</td>\n",
       "      <td>False</td>\n",
       "      <td>NaN</td>\n",
       "    </tr>\n",
       "    <tr>\n",
       "      <th>21739</th>\n",
       "      <td>64.0</td>\n",
       "      <td>2</td>\n",
       "      <td>1.0</td>\n",
       "      <td>583</td>\n",
       "      <td>109900</td>\n",
       "      <td>False</td>\n",
       "      <td>NaN</td>\n",
       "    </tr>\n",
       "    <tr>\n",
       "      <th>21738</th>\n",
       "      <td>108.0</td>\n",
       "      <td>2</td>\n",
       "      <td>2.0</td>\n",
       "      <td>1094</td>\n",
       "      <td>260000</td>\n",
       "      <td>False</td>\n",
       "      <td>NaN</td>\n",
       "    </tr>\n",
       "    <tr>\n",
       "      <th>...</th>\n",
       "      <td>...</td>\n",
       "      <td>...</td>\n",
       "      <td>...</td>\n",
       "      <td>...</td>\n",
       "      <td>...</td>\n",
       "      <td>...</td>\n",
       "      <td>...</td>\n",
       "    </tr>\n",
       "    <tr>\n",
       "      <th>5</th>\n",
       "      <td>78.0</td>\n",
       "      <td>2</td>\n",
       "      <td>2.0</td>\n",
       "      <td>1323</td>\n",
       "      <td>350000</td>\n",
       "      <td>False</td>\n",
       "      <td>NaN</td>\n",
       "    </tr>\n",
       "    <tr>\n",
       "      <th>4</th>\n",
       "      <td>96.0</td>\n",
       "      <td>2</td>\n",
       "      <td>2.0</td>\n",
       "      <td>1496</td>\n",
       "      <td>425000</td>\n",
       "      <td>False</td>\n",
       "      <td>NaN</td>\n",
       "    </tr>\n",
       "    <tr>\n",
       "      <th>3</th>\n",
       "      <td>175.0</td>\n",
       "      <td>4</td>\n",
       "      <td>2.0</td>\n",
       "      <td>2081</td>\n",
       "      <td>680000</td>\n",
       "      <td>False</td>\n",
       "      <td>NaN</td>\n",
       "    </tr>\n",
       "    <tr>\n",
       "      <th>2</th>\n",
       "      <td>289.0</td>\n",
       "      <td>4</td>\n",
       "      <td>3.0</td>\n",
       "      <td>2115</td>\n",
       "      <td>695000</td>\n",
       "      <td>False</td>\n",
       "      <td>NaN</td>\n",
       "    </tr>\n",
       "    <tr>\n",
       "      <th>1</th>\n",
       "      <td>72.0</td>\n",
       "      <td>2</td>\n",
       "      <td>2.0</td>\n",
       "      <td>1494</td>\n",
       "      <td>424000</td>\n",
       "      <td>True</td>\n",
       "      <td>NaN</td>\n",
       "    </tr>\n",
       "  </tbody>\n",
       "</table>\n",
       "<p>21742 rows × 7 columns</p>\n",
       "</div>"
      ],
      "text/plain": [
       "       sq_metres  rooms  bathrooms  rents  buy_price newly_developed  \\\n",
       "id                                                                     \n",
       "21742       64.0      2        1.0    471      85000           False   \n",
       "21741       70.0      3        1.0    666     129900           False   \n",
       "21740       94.0      2        2.0    722     144247           False   \n",
       "21739       64.0      2        1.0    583     109900           False   \n",
       "21738      108.0      2        2.0   1094     260000           False   \n",
       "...          ...    ...        ...    ...        ...             ...   \n",
       "5           78.0      2        2.0   1323     350000           False   \n",
       "4           96.0      2        2.0   1496     425000           False   \n",
       "3          175.0      4        2.0   2081     680000           False   \n",
       "2          289.0      4        3.0   2115     695000           False   \n",
       "1           72.0      2        2.0   1494     424000            True   \n",
       "\n",
       "       furnished  \n",
       "id                \n",
       "21742        NaN  \n",
       "21741        NaN  \n",
       "21740        NaN  \n",
       "21739        NaN  \n",
       "21738        NaN  \n",
       "...          ...  \n",
       "5            NaN  \n",
       "4            NaN  \n",
       "3            NaN  \n",
       "2            NaN  \n",
       "1            NaN  \n",
       "\n",
       "[21742 rows x 7 columns]"
      ]
     },
     "execution_count": 16,
     "metadata": {},
     "output_type": "execute_result"
    }
   ],
   "source": [
    "data"
   ]
  },
  {
   "cell_type": "code",
   "execution_count": 17,
   "metadata": {},
   "outputs": [
    {
     "data": {
      "text/plain": [
       "sq_metres            126\n",
       "rooms                  0\n",
       "bathrooms             16\n",
       "rents                  0\n",
       "buy_price              0\n",
       "newly_developed      992\n",
       "furnished          21742\n",
       "dtype: int64"
      ]
     },
     "execution_count": 17,
     "metadata": {},
     "output_type": "execute_result"
    }
   ],
   "source": [
    "data.isna().sum()"
   ]
  },
  {
   "cell_type": "code",
   "execution_count": 18,
   "metadata": {},
   "outputs": [],
   "source": [
    "#dropping the furnished column because all of its entries are null or 'NaN'\n",
    "data.drop(columns=['furnished'], inplace=True)"
   ]
  },
  {
   "cell_type": "code",
   "execution_count": 19,
   "metadata": {},
   "outputs": [
    {
     "data": {
      "text/html": [
       "<div>\n",
       "<style scoped>\n",
       "    .dataframe tbody tr th:only-of-type {\n",
       "        vertical-align: middle;\n",
       "    }\n",
       "\n",
       "    .dataframe tbody tr th {\n",
       "        vertical-align: top;\n",
       "    }\n",
       "\n",
       "    .dataframe thead th {\n",
       "        text-align: right;\n",
       "    }\n",
       "</style>\n",
       "<table border=\"1\" class=\"dataframe\">\n",
       "  <thead>\n",
       "    <tr style=\"text-align: right;\">\n",
       "      <th></th>\n",
       "      <th>sq_metres</th>\n",
       "      <th>rooms</th>\n",
       "      <th>bathrooms</th>\n",
       "      <th>rents</th>\n",
       "      <th>buy_price</th>\n",
       "      <th>newly_developed</th>\n",
       "    </tr>\n",
       "    <tr>\n",
       "      <th>id</th>\n",
       "      <th></th>\n",
       "      <th></th>\n",
       "      <th></th>\n",
       "      <th></th>\n",
       "      <th></th>\n",
       "      <th></th>\n",
       "    </tr>\n",
       "  </thead>\n",
       "  <tbody>\n",
       "    <tr>\n",
       "      <th>21742</th>\n",
       "      <td>64.0</td>\n",
       "      <td>2</td>\n",
       "      <td>1.0</td>\n",
       "      <td>471</td>\n",
       "      <td>85000</td>\n",
       "      <td>False</td>\n",
       "    </tr>\n",
       "    <tr>\n",
       "      <th>21741</th>\n",
       "      <td>70.0</td>\n",
       "      <td>3</td>\n",
       "      <td>1.0</td>\n",
       "      <td>666</td>\n",
       "      <td>129900</td>\n",
       "      <td>False</td>\n",
       "    </tr>\n",
       "    <tr>\n",
       "      <th>21740</th>\n",
       "      <td>94.0</td>\n",
       "      <td>2</td>\n",
       "      <td>2.0</td>\n",
       "      <td>722</td>\n",
       "      <td>144247</td>\n",
       "      <td>False</td>\n",
       "    </tr>\n",
       "    <tr>\n",
       "      <th>21739</th>\n",
       "      <td>64.0</td>\n",
       "      <td>2</td>\n",
       "      <td>1.0</td>\n",
       "      <td>583</td>\n",
       "      <td>109900</td>\n",
       "      <td>False</td>\n",
       "    </tr>\n",
       "    <tr>\n",
       "      <th>21738</th>\n",
       "      <td>108.0</td>\n",
       "      <td>2</td>\n",
       "      <td>2.0</td>\n",
       "      <td>1094</td>\n",
       "      <td>260000</td>\n",
       "      <td>False</td>\n",
       "    </tr>\n",
       "  </tbody>\n",
       "</table>\n",
       "</div>"
      ],
      "text/plain": [
       "       sq_metres  rooms  bathrooms  rents  buy_price newly_developed\n",
       "id                                                                  \n",
       "21742       64.0      2        1.0    471      85000           False\n",
       "21741       70.0      3        1.0    666     129900           False\n",
       "21740       94.0      2        2.0    722     144247           False\n",
       "21739       64.0      2        1.0    583     109900           False\n",
       "21738      108.0      2        2.0   1094     260000           False"
      ]
     },
     "execution_count": 19,
     "metadata": {},
     "output_type": "execute_result"
    }
   ],
   "source": [
    "data.head()"
   ]
  },
  {
   "cell_type": "code",
   "execution_count": 20,
   "metadata": {},
   "outputs": [],
   "source": [
    "data = data.dropna(axis=0)"
   ]
  },
  {
   "cell_type": "markdown",
   "metadata": {},
   "source": [
    "* dropping the null counts by their rows."
   ]
  },
  {
   "cell_type": "code",
   "execution_count": 21,
   "metadata": {},
   "outputs": [
    {
     "data": {
      "text/plain": [
       "sq_metres          0\n",
       "rooms              0\n",
       "bathrooms          0\n",
       "rents              0\n",
       "buy_price          0\n",
       "newly_developed    0\n",
       "dtype: int64"
      ]
     },
     "execution_count": 21,
     "metadata": {},
     "output_type": "execute_result"
    }
   ],
   "source": [
    "data.isna().sum()"
   ]
  },
  {
   "cell_type": "code",
   "execution_count": 22,
   "metadata": {},
   "outputs": [
    {
     "data": {
      "text/plain": [
       "(20613, 6)"
      ]
     },
     "execution_count": 22,
     "metadata": {},
     "output_type": "execute_result"
    }
   ],
   "source": [
    "data.shape"
   ]
  },
  {
   "cell_type": "code",
   "execution_count": 23,
   "metadata": {},
   "outputs": [
    {
     "name": "stdout",
     "output_type": "stream",
     "text": [
      "<class 'pandas.core.frame.DataFrame'>\n",
      "Int64Index: 20613 entries, 21742 to 1\n",
      "Data columns (total 6 columns):\n",
      " #   Column           Non-Null Count  Dtype  \n",
      "---  ------           --------------  -----  \n",
      " 0   sq_metres        20613 non-null  float64\n",
      " 1   rooms            20613 non-null  int64  \n",
      " 2   bathrooms        20613 non-null  float64\n",
      " 3   rents            20613 non-null  int64  \n",
      " 4   buy_price        20613 non-null  int64  \n",
      " 5   newly_developed  20613 non-null  object \n",
      "dtypes: float64(2), int64(3), object(1)\n",
      "memory usage: 1.1+ MB\n"
     ]
    }
   ],
   "source": [
    "data.info()"
   ]
  },
  {
   "cell_type": "code",
   "execution_count": 24,
   "metadata": {},
   "outputs": [
    {
     "data": {
      "text/plain": [
       "<AxesSubplot:xlabel='newly_developed', ylabel='count'>"
      ]
     },
     "execution_count": 24,
     "metadata": {},
     "output_type": "execute_result"
    },
    {
     "data": {
      "image/png": "[encoded data removed]",
      "text/plain": [
       "<Figure size 864x576 with 1 Axes>"
      ]
     },
     "metadata": {
      "needs_background": "light"
     },
     "output_type": "display_data"
    }
   ],
   "source": [
    "# The quantity of listings which are newly developed vs those which are olden.\n",
    "plt.figure(figsize=(12,8))\n",
    "sns.countplot(x='newly_developed', data=data)\n"
   ]
  },
  {
   "cell_type": "markdown",
   "metadata": {},
   "source": [
    "* Most of the properties listed are not newly developed; they are fairly old listings"
   ]
  },
  {
   "cell_type": "code",
   "execution_count": 25,
   "metadata": {},
   "outputs": [
    {
     "data": {
      "text/plain": [
       "<AxesSubplot:xlabel='bathrooms', ylabel='count'>"
      ]
     },
     "execution_count": 25,
     "metadata": {},
     "output_type": "execute_result"
    },
    {
     "data": {
      "image/png": "[encoded data removed]",
      "text/plain": [
       "<Figure size 864x576 with 1 Axes>"
      ]
     },
     "metadata": {
      "needs_background": "light"
     },
     "output_type": "display_data"
    }
   ],
   "source": [
    "# Frequency of Bathrooms\n",
    "plt.figure(figsize=(12,8))\n",
    "sns.countplot(x='bathrooms', data=data)"
   ]
  },
  {
   "cell_type": "markdown",
   "metadata": {},
   "source": [
    "* Most of the listings contains one or two bathrooms."
   ]
  },
  {
   "cell_type": "code",
   "execution_count": 26,
   "metadata": {},
   "outputs": [
    {
     "data": {
      "text/plain": [
       "<AxesSubplot:xlabel='rooms', ylabel='count'>"
      ]
     },
     "execution_count": 26,
     "metadata": {},
     "output_type": "execute_result"
    },
    {
     "data": {
      "image/png": "[encoded data removed]",
      "text/plain": [
       "<Figure size 864x576 with 1 Axes>"
      ]
     },
     "metadata": {
      "needs_background": "light"
     },
     "output_type": "display_data"
    }
   ],
   "source": [
    "# Frequency of Rooms \n",
    "plt.figure(figsize=(12,8))\n",
    "sns.countplot(x='rooms', data=data)"
   ]
  },
  {
   "cell_type": "markdown",
   "metadata": {},
   "source": [
    "* Most of the listings per this dataset had 2 or 3 rooms."
   ]
  },
  {
   "cell_type": "code",
   "execution_count": 27,
   "metadata": {},
   "outputs": [
    {
     "data": {
      "text/html": [
       "<div>\n",
       "<style scoped>\n",
       "    .dataframe tbody tr th:only-of-type {\n",
       "        vertical-align: middle;\n",
       "    }\n",
       "\n",
       "    .dataframe tbody tr th {\n",
       "        vertical-align: top;\n",
       "    }\n",
       "\n",
       "    .dataframe thead th {\n",
       "        text-align: right;\n",
       "    }\n",
       "</style>\n",
       "<table border=\"1\" class=\"dataframe\">\n",
       "  <thead>\n",
       "    <tr style=\"text-align: right;\">\n",
       "      <th></th>\n",
       "      <th>sq_metres</th>\n",
       "      <th>rooms</th>\n",
       "      <th>bathrooms</th>\n",
       "      <th>rents</th>\n",
       "      <th>buy_price</th>\n",
       "    </tr>\n",
       "  </thead>\n",
       "  <tbody>\n",
       "    <tr>\n",
       "      <th>sq_metres</th>\n",
       "      <td>1.000000</td>\n",
       "      <td>0.718880</td>\n",
       "      <td>0.853038</td>\n",
       "      <td>-0.232205</td>\n",
       "      <td>0.831201</td>\n",
       "    </tr>\n",
       "    <tr>\n",
       "      <th>rooms</th>\n",
       "      <td>0.718880</td>\n",
       "      <td>1.000000</td>\n",
       "      <td>0.713110</td>\n",
       "      <td>-0.124204</td>\n",
       "      <td>0.587744</td>\n",
       "    </tr>\n",
       "    <tr>\n",
       "      <th>bathrooms</th>\n",
       "      <td>0.853038</td>\n",
       "      <td>0.713110</td>\n",
       "      <td>1.000000</td>\n",
       "      <td>-0.154193</td>\n",
       "      <td>0.755793</td>\n",
       "    </tr>\n",
       "    <tr>\n",
       "      <th>rents</th>\n",
       "      <td>-0.232205</td>\n",
       "      <td>-0.124204</td>\n",
       "      <td>-0.154193</td>\n",
       "      <td>1.000000</td>\n",
       "      <td>-0.436686</td>\n",
       "    </tr>\n",
       "    <tr>\n",
       "      <th>buy_price</th>\n",
       "      <td>0.831201</td>\n",
       "      <td>0.587744</td>\n",
       "      <td>0.755793</td>\n",
       "      <td>-0.436686</td>\n",
       "      <td>1.000000</td>\n",
       "    </tr>\n",
       "  </tbody>\n",
       "</table>\n",
       "</div>"
      ],
      "text/plain": [
       "           sq_metres     rooms  bathrooms     rents  buy_price\n",
       "sq_metres   1.000000  0.718880   0.853038 -0.232205   0.831201\n",
       "rooms       0.718880  1.000000   0.713110 -0.124204   0.587744\n",
       "bathrooms   0.853038  0.713110   1.000000 -0.154193   0.755793\n",
       "rents      -0.232205 -0.124204  -0.154193  1.000000  -0.436686\n",
       "buy_price   0.831201  0.587744   0.755793 -0.436686   1.000000"
      ]
     },
     "execution_count": 27,
     "metadata": {},
     "output_type": "execute_result"
    }
   ],
   "source": [
    "#correlation of the variables present in this analysis\n",
    "corr = data.corr()\n",
    "corr"
   ]
  },
  {
   "cell_type": "code",
   "execution_count": 28,
   "metadata": {},
   "outputs": [
    {
     "data": {
      "text/plain": [
       "buy_price    1.000000\n",
       "sq_metres    0.831201\n",
       "bathrooms    0.755793\n",
       "rooms        0.587744\n",
       "rents       -0.436686\n",
       "Name: buy_price, dtype: float64"
      ]
     },
     "execution_count": 28,
     "metadata": {},
     "output_type": "execute_result"
    }
   ],
   "source": [
    "data.corr()['buy_price'].sort_values(ascending=False)"
   ]
  },
  {
   "cell_type": "code",
   "execution_count": 29,
   "metadata": {},
   "outputs": [
    {
     "data": {
      "text/plain": [
       "<AxesSubplot:>"
      ]
     },
     "execution_count": 29,
     "metadata": {},
     "output_type": "execute_result"
    },
    {
     "data": {
      "image/png": "[encoded data removed]",
      "text/plain": [
       "<Figure size 864x576 with 2 Axes>"
      ]
     },
     "metadata": {
      "needs_background": "light"
     },
     "output_type": "display_data"
    }
   ],
   "source": [
    "# Visualization of the correlations between the variables\n",
    "plt.figure(figsize=(12,8))\n",
    "sns.heatmap(corr)"
   ]
  },
  {
   "cell_type": "markdown",
   "metadata": {},
   "source": [
    "* Strong correlation between 'buy_price' and 'square metres', as well as 'bathrooms'\n",
    "* Very good correlation between 'buy_price' and 'rooms' whiles there was not relationship between 'buy_price' and 'rents'"
   ]
  },
  {
   "cell_type": "code",
   "execution_count": 30,
   "metadata": {},
   "outputs": [
    {
     "name": "stderr",
     "output_type": "stream",
     "text": [
      "c:\\Users\\Ofori Kingsley\\AppData\\Local\\Programs\\Python\\lib\\site-packages\\seaborn\\distributions.py:2619: FutureWarning: `distplot` is a deprecated function and will be removed in a future version. Please adapt your code to use either `displot` (a figure-level function with similar flexibility) or `histplot` (an axes-level function for histograms).\n",
      "  warnings.warn(msg, FutureWarning)\n"
     ]
    },
    {
     "data": {
      "text/plain": [
       "<AxesSubplot:xlabel='buy_price', ylabel='Density'>"
      ]
     },
     "execution_count": 30,
     "metadata": {},
     "output_type": "execute_result"
    },
    {
     "data": {
      "image/png": "[encoded data removed]",
      "text/plain": [
       "<Figure size 864x576 with 1 Axes>"
      ]
     },
     "metadata": {
      "needs_background": "light"
     },
     "output_type": "display_data"
    }
   ],
   "source": [
    "plt.figure(figsize=(12,8))\n",
    "sns.distplot(data['buy_price'],bins=30)"
   ]
  },
  {
   "cell_type": "code",
   "execution_count": 31,
   "metadata": {},
   "outputs": [
    {
     "name": "stderr",
     "output_type": "stream",
     "text": [
      "c:\\Users\\Ofori Kingsley\\AppData\\Local\\Programs\\Python\\lib\\site-packages\\seaborn\\distributions.py:2619: FutureWarning: `distplot` is a deprecated function and will be removed in a future version. Please adapt your code to use either `displot` (a figure-level function with similar flexibility) or `histplot` (an axes-level function for histograms).\n",
      "  warnings.warn(msg, FutureWarning)\n"
     ]
    },
    {
     "data": {
      "text/plain": [
       "<AxesSubplot:xlabel='sq_metres', ylabel='Density'>"
      ]
     },
     "execution_count": 31,
     "metadata": {},
     "output_type": "execute_result"
    },
    {
     "data": {
      "image/png": "[encoded data removed]",
      "text/plain": [
       "<Figure size 864x576 with 1 Axes>"
      ]
     },
     "metadata": {
      "needs_background": "light"
     },
     "output_type": "display_data"
    }
   ],
   "source": [
    "plt.figure(figsize=(12,8))\n",
    "sns.distplot(data['sq_metres'],bins=30)"
   ]
  },
  {
   "cell_type": "code",
   "execution_count": 32,
   "metadata": {},
   "outputs": [
    {
     "data": {
      "text/plain": [
       "<AxesSubplot:xlabel='sq_metres', ylabel='buy_price'>"
      ]
     },
     "execution_count": 32,
     "metadata": {},
     "output_type": "execute_result"
    },
    {
     "data": {
      "image/png": "[encoded data removed]",
      "text/plain": [
       "<Figure size 864x576 with 1 Axes>"
      ]
     },
     "metadata": {
      "needs_background": "light"
     },
     "output_type": "display_data"
    }
   ],
   "source": [
    "# VISUALIZATION SHOWING BUY PRICE AND SQUARE METRES\n",
    "plt.figure(figsize=(12,8))\n",
    "sns.scatterplot(x='sq_metres', y='buy_price', data=data)"
   ]
  },
  {
   "cell_type": "code",
   "execution_count": 33,
   "metadata": {},
   "outputs": [
    {
     "data": {
      "text/plain": [
       "<AxesSubplot:xlabel='rooms', ylabel='buy_price'>"
      ]
     },
     "execution_count": 33,
     "metadata": {},
     "output_type": "execute_result"
    },
    {
     "data": {
      "image/png": "[encoded data removed]",
      "text/plain": [
       "<Figure size 864x576 with 1 Axes>"
      ]
     },
     "metadata": {
      "needs_background": "light"
     },
     "output_type": "display_data"
    }
   ],
   "source": [
    "# Scatterplot showing ROOMS VRS BUY PRICE\n",
    "plt.figure(figsize=(12,8))\n",
    "sns.scatterplot(x='rooms', y='buy_price', data=data)"
   ]
  },
  {
   "cell_type": "code",
   "execution_count": 34,
   "metadata": {},
   "outputs": [
    {
     "data": {
      "text/html": [
       "<div>\n",
       "<style scoped>\n",
       "    .dataframe tbody tr th:only-of-type {\n",
       "        vertical-align: middle;\n",
       "    }\n",
       "\n",
       "    .dataframe tbody tr th {\n",
       "        vertical-align: top;\n",
       "    }\n",
       "\n",
       "    .dataframe thead th {\n",
       "        text-align: right;\n",
       "    }\n",
       "</style>\n",
       "<table border=\"1\" class=\"dataframe\">\n",
       "  <thead>\n",
       "    <tr style=\"text-align: right;\">\n",
       "      <th></th>\n",
       "      <th>sq_metres</th>\n",
       "      <th>rooms</th>\n",
       "      <th>bathrooms</th>\n",
       "      <th>rents</th>\n",
       "      <th>buy_price</th>\n",
       "      <th>newly_developed</th>\n",
       "    </tr>\n",
       "    <tr>\n",
       "      <th>id</th>\n",
       "      <th></th>\n",
       "      <th></th>\n",
       "      <th></th>\n",
       "      <th></th>\n",
       "      <th></th>\n",
       "      <th></th>\n",
       "    </tr>\n",
       "  </thead>\n",
       "  <tbody>\n",
       "    <tr>\n",
       "      <th>7518</th>\n",
       "      <td>682.0</td>\n",
       "      <td>24</td>\n",
       "      <td>4.0</td>\n",
       "      <td>-2443600</td>\n",
       "      <td>4800000</td>\n",
       "      <td>False</td>\n",
       "    </tr>\n",
       "    <tr>\n",
       "      <th>7169</th>\n",
       "      <td>750.0</td>\n",
       "      <td>24</td>\n",
       "      <td>4.0</td>\n",
       "      <td>-2937084</td>\n",
       "      <td>5000000</td>\n",
       "      <td>False</td>\n",
       "    </tr>\n",
       "    <tr>\n",
       "      <th>7452</th>\n",
       "      <td>682.0</td>\n",
       "      <td>24</td>\n",
       "      <td>4.0</td>\n",
       "      <td>-2443600</td>\n",
       "      <td>4800000</td>\n",
       "      <td>False</td>\n",
       "    </tr>\n",
       "    <tr>\n",
       "      <th>6484</th>\n",
       "      <td>750.0</td>\n",
       "      <td>18</td>\n",
       "      <td>7.0</td>\n",
       "      <td>-2937084</td>\n",
       "      <td>5000000</td>\n",
       "      <td>False</td>\n",
       "    </tr>\n",
       "    <tr>\n",
       "      <th>5282</th>\n",
       "      <td>390.0</td>\n",
       "      <td>15</td>\n",
       "      <td>7.0</td>\n",
       "      <td>2012</td>\n",
       "      <td>650000</td>\n",
       "      <td>False</td>\n",
       "    </tr>\n",
       "    <tr>\n",
       "      <th>6127</th>\n",
       "      <td>578.0</td>\n",
       "      <td>15</td>\n",
       "      <td>2.0</td>\n",
       "      <td>-51191</td>\n",
       "      <td>2200000</td>\n",
       "      <td>False</td>\n",
       "    </tr>\n",
       "    <tr>\n",
       "      <th>3285</th>\n",
       "      <td>207.0</td>\n",
       "      <td>14</td>\n",
       "      <td>4.0</td>\n",
       "      <td>1536</td>\n",
       "      <td>1250000</td>\n",
       "      <td>False</td>\n",
       "    </tr>\n",
       "    <tr>\n",
       "      <th>12347</th>\n",
       "      <td>513.0</td>\n",
       "      <td>13</td>\n",
       "      <td>13.0</td>\n",
       "      <td>2159</td>\n",
       "      <td>715000</td>\n",
       "      <td>False</td>\n",
       "    </tr>\n",
       "    <tr>\n",
       "      <th>3515</th>\n",
       "      <td>440.0</td>\n",
       "      <td>13</td>\n",
       "      <td>3.0</td>\n",
       "      <td>-128137</td>\n",
       "      <td>2600000</td>\n",
       "      <td>False</td>\n",
       "    </tr>\n",
       "    <tr>\n",
       "      <th>565</th>\n",
       "      <td>654.0</td>\n",
       "      <td>13</td>\n",
       "      <td>9.0</td>\n",
       "      <td>-24524</td>\n",
       "      <td>1950000</td>\n",
       "      <td>False</td>\n",
       "    </tr>\n",
       "    <tr>\n",
       "      <th>2056</th>\n",
       "      <td>397.0</td>\n",
       "      <td>13</td>\n",
       "      <td>2.0</td>\n",
       "      <td>-28833</td>\n",
       "      <td>2000000</td>\n",
       "      <td>False</td>\n",
       "    </tr>\n",
       "    <tr>\n",
       "      <th>10480</th>\n",
       "      <td>314.0</td>\n",
       "      <td>12</td>\n",
       "      <td>2.0</td>\n",
       "      <td>452</td>\n",
       "      <td>1350000</td>\n",
       "      <td>False</td>\n",
       "    </tr>\n",
       "    <tr>\n",
       "      <th>1123</th>\n",
       "      <td>260.0</td>\n",
       "      <td>12</td>\n",
       "      <td>5.0</td>\n",
       "      <td>2480</td>\n",
       "      <td>900000</td>\n",
       "      <td>False</td>\n",
       "    </tr>\n",
       "    <tr>\n",
       "      <th>14616</th>\n",
       "      <td>500.0</td>\n",
       "      <td>12</td>\n",
       "      <td>4.0</td>\n",
       "      <td>-2333</td>\n",
       "      <td>1500000</td>\n",
       "      <td>False</td>\n",
       "    </tr>\n",
       "    <tr>\n",
       "      <th>17142</th>\n",
       "      <td>350.0</td>\n",
       "      <td>12</td>\n",
       "      <td>7.0</td>\n",
       "      <td>-2333</td>\n",
       "      <td>1500000</td>\n",
       "      <td>False</td>\n",
       "    </tr>\n",
       "    <tr>\n",
       "      <th>11218</th>\n",
       "      <td>416.0</td>\n",
       "      <td>12</td>\n",
       "      <td>8.0</td>\n",
       "      <td>1081</td>\n",
       "      <td>1298000</td>\n",
       "      <td>False</td>\n",
       "    </tr>\n",
       "    <tr>\n",
       "      <th>2993</th>\n",
       "      <td>440.0</td>\n",
       "      <td>11</td>\n",
       "      <td>9.0</td>\n",
       "      <td>-27934</td>\n",
       "      <td>1990000</td>\n",
       "      <td>False</td>\n",
       "    </tr>\n",
       "    <tr>\n",
       "      <th>16585</th>\n",
       "      <td>250.0</td>\n",
       "      <td>11</td>\n",
       "      <td>9.0</td>\n",
       "      <td>1667</td>\n",
       "      <td>499998</td>\n",
       "      <td>False</td>\n",
       "    </tr>\n",
       "    <tr>\n",
       "      <th>12162</th>\n",
       "      <td>654.0</td>\n",
       "      <td>11</td>\n",
       "      <td>9.0</td>\n",
       "      <td>-24524</td>\n",
       "      <td>1950000</td>\n",
       "      <td>False</td>\n",
       "    </tr>\n",
       "    <tr>\n",
       "      <th>11861</th>\n",
       "      <td>654.0</td>\n",
       "      <td>11</td>\n",
       "      <td>7.0</td>\n",
       "      <td>-24524</td>\n",
       "      <td>1950000</td>\n",
       "      <td>False</td>\n",
       "    </tr>\n",
       "  </tbody>\n",
       "</table>\n",
       "</div>"
      ],
      "text/plain": [
       "       sq_metres  rooms  bathrooms    rents  buy_price newly_developed\n",
       "id                                                                    \n",
       "7518       682.0     24        4.0 -2443600    4800000           False\n",
       "7169       750.0     24        4.0 -2937084    5000000           False\n",
       "7452       682.0     24        4.0 -2443600    4800000           False\n",
       "6484       750.0     18        7.0 -2937084    5000000           False\n",
       "5282       390.0     15        7.0     2012     650000           False\n",
       "6127       578.0     15        2.0   -51191    2200000           False\n",
       "3285       207.0     14        4.0     1536    1250000           False\n",
       "12347      513.0     13       13.0     2159     715000           False\n",
       "3515       440.0     13        3.0  -128137    2600000           False\n",
       "565        654.0     13        9.0   -24524    1950000           False\n",
       "2056       397.0     13        2.0   -28833    2000000           False\n",
       "10480      314.0     12        2.0      452    1350000           False\n",
       "1123       260.0     12        5.0     2480     900000           False\n",
       "14616      500.0     12        4.0    -2333    1500000           False\n",
       "17142      350.0     12        7.0    -2333    1500000           False\n",
       "11218      416.0     12        8.0     1081    1298000           False\n",
       "2993       440.0     11        9.0   -27934    1990000           False\n",
       "16585      250.0     11        9.0     1667     499998           False\n",
       "12162      654.0     11        9.0   -24524    1950000           False\n",
       "11861      654.0     11        7.0   -24524    1950000           False"
      ]
     },
     "execution_count": 34,
     "metadata": {},
     "output_type": "execute_result"
    }
   ],
   "source": [
    "# Ranking the dataset by rooms to showcase the three outliers above.\n",
    "data.sort_values('rooms', ascending=False).head(20)"
   ]
  },
  {
   "cell_type": "code",
   "execution_count": 35,
   "metadata": {},
   "outputs": [
    {
     "data": {
      "text/plain": [
       "<AxesSubplot:xlabel='sq_metres'>"
      ]
     },
     "execution_count": 35,
     "metadata": {},
     "output_type": "execute_result"
    },
    {
     "data": {
      "image/png": "[encoded data removed]",
      "text/plain": [
       "<Figure size 864x576 with 1 Axes>"
      ]
     },
     "metadata": {
      "needs_background": "light"
     },
     "output_type": "display_data"
    }
   ],
   "source": [
    "# Visualization of the trend between buy-prices and square metres\n",
    "plt.figure(figsize=(12,8))\n",
    "data.groupby('sq_metres').mean()['buy_price'].plot()"
   ]
  },
  {
   "cell_type": "code",
   "execution_count": 36,
   "metadata": {},
   "outputs": [
    {
     "data": {
      "text/plain": [
       "<AxesSubplot:xlabel='bathrooms', ylabel='buy_price'>"
      ]
     },
     "execution_count": 36,
     "metadata": {},
     "output_type": "execute_result"
    },
    {
     "data": {
      "image/png": "[encoded data removed]",
      "text/plain": [
       "<Figure size 864x576 with 1 Axes>"
      ]
     },
     "metadata": {
      "needs_background": "light"
     },
     "output_type": "display_data"
    }
   ],
   "source": [
    "plt.figure(figsize=(12,8))\n",
    "sns.scatterplot(x='bathrooms', y='buy_price', data=data)"
   ]
  },
  {
   "cell_type": "code",
   "execution_count": 37,
   "metadata": {},
   "outputs": [
    {
     "data": {
      "text/plain": [
       "<AxesSubplot:xlabel='rents', ylabel='buy_price'>"
      ]
     },
     "execution_count": 37,
     "metadata": {},
     "output_type": "execute_result"
    },
    {
     "data": {
      "image/png": "[encoded data removed]",
      "text/plain": [
       "<Figure size 864x576 with 1 Axes>"
      ]
     },
     "metadata": {
      "needs_background": "light"
     },
     "output_type": "display_data"
    }
   ],
   "source": [
    "# Buy price versus Rents\n",
    "plt.figure(figsize=(12,8))\n",
    "sns.scatterplot(x='rents', y='buy_price', data=data)"
   ]
  },
  {
   "cell_type": "markdown",
   "metadata": {},
   "source": [
    "2. Linear Regression"
   ]
  },
  {
   "cell_type": "code",
   "execution_count": 38,
   "metadata": {},
   "outputs": [],
   "source": [
    "x = data.drop(columns=['buy_price'])\n",
    "y = data['buy_price']"
   ]
  },
  {
   "cell_type": "code",
   "execution_count": 39,
   "metadata": {},
   "outputs": [],
   "source": [
    "from sklearn.model_selection import train_test_split"
   ]
  },
  {
   "cell_type": "code",
   "execution_count": 64,
   "metadata": {},
   "outputs": [],
   "source": [
    "x_train, x_test, y_train, y_test =train_test_split(x, y, random_state=5, test_size=0.1)"
   ]
  },
  {
   "cell_type": "markdown",
   "metadata": {},
   "source": [
    "* Calling the 'train test split' module to split the variables into target variables and its features."
   ]
  },
  {
   "cell_type": "code",
   "execution_count": 65,
   "metadata": {},
   "outputs": [
    {
     "name": "stdout",
     "output_type": "stream",
     "text": [
      "(20613, 5) (2062, 5) (18551, 5)\n"
     ]
    }
   ],
   "source": [
    "print(x.shape, x_test.shape, x_train.shape)"
   ]
  },
  {
   "cell_type": "code",
   "execution_count": 66,
   "metadata": {},
   "outputs": [
    {
     "name": "stdout",
     "output_type": "stream",
     "text": [
      "(20613,) (2062,) (18551,)\n"
     ]
    }
   ],
   "source": [
    "print(y.shape, y_test.shape, y_train.shape)"
   ]
  },
  {
   "cell_type": "code",
   "execution_count": 67,
   "metadata": {},
   "outputs": [],
   "source": [
    "from sklearn.linear_model import LinearRegression\n",
    "model = LinearRegression()"
   ]
  },
  {
   "cell_type": "code",
   "execution_count": 68,
   "metadata": {},
   "outputs": [
    {
     "data": {
      "text/html": [
       "<style>#sk-container-id-2 {color: black;background-color: white;}#sk-container-id-2 pre{padding: 0;}#sk-container-id-2 div.sk-toggleable {background-color: white;}#sk-container-id-2 label.sk-toggleable__label {cursor: pointer;display: block;width: 100%;margin-bottom: 0;padding: 0.3em;box-sizing: border-box;text-align: center;}#sk-container-id-2 label.sk-toggleable__label-arrow:before {content: \"▸\";float: left;margin-right: 0.25em;color: #696969;}#sk-container-id-2 label.sk-toggleable__label-arrow:hover:before {color: black;}#sk-container-id-2 div.sk-estimator:hover label.sk-toggleable__label-arrow:before {color: black;}#sk-container-id-2 div.sk-toggleable__content {max-height: 0;max-width: 0;overflow: hidden;text-align: left;background-color: #f0f8ff;}#sk-container-id-2 div.sk-toggleable__content pre {margin: 0.2em;color: black;border-radius: 0.25em;background-color: #f0f8ff;}#sk-container-id-2 input.sk-toggleable__control:checked~div.sk-toggleable__content {max-height: 200px;max-width: 100%;overflow: auto;}#sk-container-id-2 input.sk-toggleable__control:checked~label.sk-toggleable__label-arrow:before {content: \"▾\";}#sk-container-id-2 div.sk-estimator input.sk-toggleable__control:checked~label.sk-toggleable__label {background-color: #d4ebff;}#sk-container-id-2 div.sk-label input.sk-toggleable__control:checked~label.sk-toggleable__label {background-color: #d4ebff;}#sk-container-id-2 input.sk-hidden--visually {border: 0;clip: rect(1px 1px 1px 1px);clip: rect(1px, 1px, 1px, 1px);height: 1px;margin: -1px;overflow: hidden;padding: 0;position: absolute;width: 1px;}#sk-container-id-2 div.sk-estimator {font-family: monospace;background-color: #f0f8ff;border: 1px dotted black;border-radius: 0.25em;box-sizing: border-box;margin-bottom: 0.5em;}#sk-container-id-2 div.sk-estimator:hover {background-color: #d4ebff;}#sk-container-id-2 div.sk-parallel-item::after {content: \"\";width: 100%;border-bottom: 1px solid gray;flex-grow: 1;}#sk-container-id-2 div.sk-label:hover label.sk-toggleable__label {background-color: #d4ebff;}#sk-container-id-2 div.sk-serial::before {content: \"\";position: absolute;border-left: 1px solid gray;box-sizing: border-box;top: 0;bottom: 0;left: 50%;z-index: 0;}#sk-container-id-2 div.sk-serial {display: flex;flex-direction: column;align-items: center;background-color: white;padding-right: 0.2em;padding-left: 0.2em;position: relative;}#sk-container-id-2 div.sk-item {position: relative;z-index: 1;}#sk-container-id-2 div.sk-parallel {display: flex;align-items: stretch;justify-content: center;background-color: white;position: relative;}#sk-container-id-2 div.sk-item::before, #sk-container-id-2 div.sk-parallel-item::before {content: \"\";position: absolute;border-left: 1px solid gray;box-sizing: border-box;top: 0;bottom: 0;left: 50%;z-index: -1;}#sk-container-id-2 div.sk-parallel-item {display: flex;flex-direction: column;z-index: 1;position: relative;background-color: white;}#sk-container-id-2 div.sk-parallel-item:first-child::after {align-self: flex-end;width: 50%;}#sk-container-id-2 div.sk-parallel-item:last-child::after {align-self: flex-start;width: 50%;}#sk-container-id-2 div.sk-parallel-item:only-child::after {width: 0;}#sk-container-id-2 div.sk-dashed-wrapped {border: 1px dashed gray;margin: 0 0.4em 0.5em 0.4em;box-sizing: border-box;padding-bottom: 0.4em;background-color: white;}#sk-container-id-2 div.sk-label label {font-family: monospace;font-weight: bold;display: inline-block;line-height: 1.2em;}#sk-container-id-2 div.sk-label-container {text-align: center;}#sk-container-id-2 div.sk-container {/* jupyter's `normalize.less` sets `[hidden] { display: none; }` but bootstrap.min.css set `[hidden] { display: none !important; }` so we also need the `!important` here to be able to override the default hidden behavior on the sphinx rendered scikit-learn.org. See: https://github.com/scikit-learn/scikit-learn/issues/21755 */display: inline-block !important;position: relative;}#sk-container-id-2 div.sk-text-repr-fallback {display: none;}</style><div id=\"sk-container-id-2\" class=\"sk-top-container\"><div class=\"sk-text-repr-fallback\"><pre>LinearRegression()</pre><b>In a Jupyter environment, please rerun this cell to show the HTML representation or trust the notebook. <br />On GitHub, the HTML representation is unable to render, please try loading this page with nbviewer.org.</b></div><div class=\"sk-container\" hidden><div class=\"sk-item\"><div class=\"sk-estimator sk-toggleable\"><input class=\"sk-toggleable__control sk-hidden--visually\" id=\"sk-estimator-id-2\" type=\"checkbox\" checked><label for=\"sk-estimator-id-2\" class=\"sk-toggleable__label sk-toggleable__label-arrow\">LinearRegression</label><div class=\"sk-toggleable__content\"><pre>LinearRegression()</pre></div></div></div></div></div>"
      ],
      "text/plain": [
       "LinearRegression()"
      ]
     },
     "execution_count": 68,
     "metadata": {},
     "output_type": "execute_result"
    }
   ],
   "source": [
    "model.fit(x_train, y_train)"
   ]
  },
  {
   "cell_type": "code",
   "execution_count": 69,
   "metadata": {},
   "outputs": [
    {
     "data": {
      "text/plain": [
       "-58131.40523033892"
      ]
     },
     "execution_count": 69,
     "metadata": {},
     "output_type": "execute_result"
    }
   ],
   "source": [
    "model.intercept_"
   ]
  },
  {
   "cell_type": "code",
   "execution_count": 70,
   "metadata": {},
   "outputs": [
    {
     "data": {
      "text/plain": [
       "array([ 3.39576647e+03, -2.56064990e+04,  1.28700003e+05, -2.45925441e-01,\n",
       "       -2.40992153e+04])"
      ]
     },
     "execution_count": 70,
     "metadata": {},
     "output_type": "execute_result"
    }
   ],
   "source": [
    "model.coef_"
   ]
  },
  {
   "cell_type": "code",
   "execution_count": 71,
   "metadata": {},
   "outputs": [],
   "source": [
    "predictions = model.predict(x_test)"
   ]
  },
  {
   "cell_type": "code",
   "execution_count": 72,
   "metadata": {},
   "outputs": [
    {
     "data": {
      "text/plain": [
       "array([205951.09935546, 292297.42431095, 468446.42754737, ...,\n",
       "       912428.80975029, 548136.97041604, 876937.08860017])"
      ]
     },
     "execution_count": 72,
     "metadata": {},
     "output_type": "execute_result"
    }
   ],
   "source": [
    "predictions"
   ]
  },
  {
   "cell_type": "code",
   "execution_count": 73,
   "metadata": {},
   "outputs": [
    {
     "data": {
      "text/plain": [
       "219176.99493543775"
      ]
     },
     "execution_count": 73,
     "metadata": {},
     "output_type": "execute_result"
    }
   ],
   "source": [
    "from sklearn.metrics import mean_absolute_error\n",
    "\n",
    "\n",
    "mean_absolute_error(y_test, predictions)"
   ]
  },
  {
   "cell_type": "code",
   "execution_count": 74,
   "metadata": {},
   "outputs": [
    {
     "data": {
      "text/plain": [
       "144957342258.74692"
      ]
     },
     "execution_count": 74,
     "metadata": {},
     "output_type": "execute_result"
    }
   ],
   "source": [
    "from sklearn.metrics import mean_squared_error\n",
    "\n",
    "\n",
    "mean_squared_error(y_test, predictions)"
   ]
  },
  {
   "cell_type": "code",
   "execution_count": 75,
   "metadata": {},
   "outputs": [
    {
     "data": {
      "text/plain": [
       "380732.638814624"
      ]
     },
     "execution_count": 75,
     "metadata": {},
     "output_type": "execute_result"
    }
   ],
   "source": [
    "np.sqrt(mean_squared_error(y_test, predictions))"
   ]
  },
  {
   "cell_type": "code",
   "execution_count": 76,
   "metadata": {},
   "outputs": [
    {
     "data": {
      "text/plain": [
       "count    2.061300e+04\n",
       "mean     6.445759e+05\n",
       "std      7.448765e+05\n",
       "min      3.600000e+04\n",
       "25%      2.000000e+05\n",
       "50%      3.782000e+05\n",
       "75%      7.650000e+05\n",
       "max      8.800000e+06\n",
       "Name: buy_price, dtype: float64"
      ]
     },
     "execution_count": 76,
     "metadata": {},
     "output_type": "execute_result"
    }
   ],
   "source": [
    "data['buy_price'].describe()"
   ]
  },
  {
   "cell_type": "code",
   "execution_count": 53,
   "metadata": {},
   "outputs": [
    {
     "data": {
      "text/plain": [
       "644575.9"
      ]
     },
     "execution_count": 53,
     "metadata": {},
     "output_type": "execute_result"
    }
   ],
   "source": [
    "6.445759e+05"
   ]
  },
  {
   "cell_type": "code",
   "execution_count": 78,
   "metadata": {},
   "outputs": [
    {
     "data": {
      "text/plain": [
       "34.00328726771164"
      ]
     },
     "execution_count": 78,
     "metadata": {},
     "output_type": "execute_result"
    }
   ],
   "source": [
    "100*219176.99493543775/644575.9"
   ]
  },
  {
   "cell_type": "code",
   "execution_count": 79,
   "metadata": {},
   "outputs": [
    {
     "data": {
      "text/plain": [
       "0.7188012663735766"
      ]
     },
     "execution_count": 79,
     "metadata": {},
     "output_type": "execute_result"
    }
   ],
   "source": [
    "from sklearn.metrics import explained_variance_score\n",
    "\n",
    "\n",
    "explained_variance_score(y_test, predictions)"
   ]
  },
  {
   "cell_type": "code",
   "execution_count": 80,
   "metadata": {},
   "outputs": [
    {
     "data": {
      "image/png": "[encoded data removed]",
      "text/plain": [
       "<Figure size 864x576 with 1 Axes>"
      ]
     },
     "metadata": {
      "needs_background": "light"
     },
     "output_type": "display_data"
    }
   ],
   "source": [
    "plt.figure(figsize=(12,8))\n",
    "\n",
    "# Our predictions\n",
    "plt.scatter(y_test, predictions);\n",
    "\n",
    "# Perfect predictions\n",
    "plt.plot(y_test, y_test, color='r', label='perfect fit line')\n",
    "plt.legend();"
   ]
  },
  {
   "cell_type": "code",
   "execution_count": 81,
   "metadata": {},
   "outputs": [
    {
     "name": "stdout",
     "output_type": "stream",
     "text": [
      "Test accuracy: 71.86960984743604\n"
     ]
    }
   ],
   "source": [
    "score = model.score(x_test, y_test)\n",
    "print('Test accuracy:',(score)*100)"
   ]
  }
 ],
 "metadata": {
  "kernelspec": {
   "display_name": "Python 3.10.5 ('Python310')",
   "language": "python",
   "name": "python3"
  },
  "language_info": {
   "codemirror_mode": {
    "name": "ipython",
    "version": 3
   },
   "file_extension": ".py",
   "mimetype": "text/x-python",
   "name": "python",
   "nbconvert_exporter": "python",
   "pygments_lexer": "ipython3",
   "version": "3.10.5"
  },
  "orig_nbformat": 4,
  "vscode": {
   "interpreter": {
    "hash": "66d7c64ea5898974a154f1ca9fe9c42e7ebde3f07e1cdff02c9a07a710ae1216"
   }
  }
 },
 "nbformat": 4,
 "nbformat_minor": 2
}
