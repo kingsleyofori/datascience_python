{
 "cells": [
  {
   "cell_type": "markdown",
   "metadata": {},
   "source": [
    "#### Task\n",
    "\n",
    "This analysis explores the world population through the eyes of the dataset presented to us from kaggle.\n",
    "\n",
    "#### Workflow\n",
    "\n",
    "- [Queries](#queries)\n",
    "- [Data Wrangling](#data-wrangling)\n",
    "- [Exploratory Data Analysis](#exploratory-analysis)\n",
    "- [Conclusions](#conclusion)\n",
    "\n",
    "**World Population Dataset**: https://www.kaggle.com/datasets/iamsouravbanerjee/world-population-dataset\n"
   ]
  },
  {
   "cell_type": "markdown",
   "metadata": {},
   "source": [
    "#### Data Attributes\n",
    "* Rank : Ranked particular country by population\n",
    "* CCA3 : 3 digit country code.\n",
    "* Country : Country name\n",
    "* Capital : Capital of Country\n",
    "* 2022 population : The Population of the Country in year 2022.\n",
    "* 2020 population : The Population of the Country in year 2020.\n",
    "*  2015 population : The Population of the Country in year 2015.\n",
    "* 2010 population : The Population of the Country in year 2010.\n",
    "* 2000 population : The Population of the Country in year 2000.\n",
    "* 1990 population : The Population of the Country in year 1990.\n",
    "* 1980 population : The Population of the Country in year 1980.\n",
    "* 1970 population : The Population of the Country in year 1970.\n",
    "* Area : The land area of the Country (measured in km^2).\n",
    "* Density : The Population Density of the Country (measured in per km^2).\n",
    "* Growth Rate : The Population Growth Rate of the Country.\n",
    "* World Population Percentage : The percentage of the World Population residing in that Country."
   ]
  },
  {
   "cell_type": "markdown",
   "metadata": {},
   "source": [
    "#### Queries\n",
    "\n",
    "Based on the dataset, we are interested in the queries below:\n",
    "\n",
    "- What is the most populated continent in the world at the moment?\n",
    "- What is the most populated country in the world at the moment?\n",
    "- What is the least populated continent in the world at the moment?\n",
    "- What is the least populated country in the world at the moment?\n",
    "- Is there a relationship between the numerical characteristics of human population along the years?\n"
   ]
  },
  {
   "cell_type": "markdown",
   "metadata": {},
   "source": [
    "#### Data Wrangling\n",
    "\n",
    "This is the stage where we clean, organize and structure our data into a desired format for beter decision making. Here, we will load the various libraries that will aid our analysis\n"
   ]
  },
  {
   "cell_type": "markdown",
   "metadata": {},
   "source": [
    "##### Preparing the Environment"
   ]
  },
  {
   "cell_type": "code",
   "execution_count": 3,
   "metadata": {},
   "outputs": [],
   "source": [
    "# Importation of relevant libraries.\n",
    "import pyforest"
   ]
  },
  {
   "cell_type": "markdown",
   "metadata": {},
   "source": [
    "_`pyforest` was settled for because of it being the lighter version of all the releveant traditional libraries like `numpy`, `pandas`, `matplotlib` and `seaborn`_"
   ]
  },
  {
   "cell_type": "code",
   "execution_count": 4,
   "metadata": {},
   "outputs": [
    {
     "data": {
      "text/plain": [
       "['ARIMA',\n",
       " 'CountVectorizer',\n",
       " 'ElasticNet',\n",
       " 'ElasticNetCV',\n",
       " 'GradientBoostingClassifier',\n",
       " 'GradientBoostingRegressor',\n",
       " 'GridSearchCV',\n",
       " 'Image',\n",
       " 'KFold',\n",
       " 'KMeans',\n",
       " 'LabelEncoder',\n",
       " 'Lasso',\n",
       " 'LassoCV',\n",
       " 'LazyImport',\n",
       " 'LinearRegression',\n",
       " 'LogisticRegression',\n",
       " 'MinMaxScaler',\n",
       " 'OneHotEncoder',\n",
       " 'PCA',\n",
       " 'Path',\n",
       " 'PolynomialFeatures',\n",
       " 'Prophet',\n",
       " 'RandomForestClassifier',\n",
       " 'RandomForestRegressor',\n",
       " 'RandomizedSearchCV',\n",
       " 'Ridge',\n",
       " 'RidgeCV',\n",
       " 'RobustScaler',\n",
       " 'SimpleImputer',\n",
       " 'SparkContext',\n",
       " 'StandardScaler',\n",
       " 'StratifiedKFold',\n",
       " 'TSNE',\n",
       " 'TfidfVectorizer',\n",
       " '__builtins__',\n",
       " '__cached__',\n",
       " '__doc__',\n",
       " '__file__',\n",
       " '__loader__',\n",
       " '__name__',\n",
       " '__package__',\n",
       " '__path__',\n",
       " '__spec__',\n",
       " '__version__',\n",
       " '_importable',\n",
       " '_imports',\n",
       " '_jupyter_labextension_paths',\n",
       " '_jupyter_nbextension_paths',\n",
       " 'active_imports',\n",
       " 'alt',\n",
       " 'bokeh',\n",
       " 'cross_val_score',\n",
       " 'cv2',\n",
       " 'dash',\n",
       " 'dd',\n",
       " 'dt',\n",
       " 'fastai',\n",
       " 'fbprophet',\n",
       " 'gensim',\n",
       " 'get_user_symbols',\n",
       " 'glob',\n",
       " 'go',\n",
       " 'import_symbol',\n",
       " 'imutils',\n",
       " 'install_extensions',\n",
       " 'install_labextension',\n",
       " 'install_nbextension',\n",
       " 'keras',\n",
       " 'lazy_imports',\n",
       " 'lgb',\n",
       " 'load_workbook',\n",
       " 'metrics',\n",
       " 'mpl',\n",
       " 'nltk',\n",
       " 'np',\n",
       " 'open_workbook',\n",
       " 'os',\n",
       " 'pd',\n",
       " 'pickle',\n",
       " 'plt',\n",
       " 'px',\n",
       " 'py',\n",
       " 'pydot',\n",
       " 'pyforest_imports',\n",
       " 're',\n",
       " 'sg',\n",
       " 'skimage',\n",
       " 'sklearn',\n",
       " 'sm',\n",
       " 'sns',\n",
       " 'spacy',\n",
       " 'statistics',\n",
       " 'stats',\n",
       " 'svm',\n",
       " 'sys',\n",
       " 'textblob',\n",
       " 'tf',\n",
       " 'torch',\n",
       " 'tqdm',\n",
       " 'train_test_split',\n",
       " 'user_specific_imports',\n",
       " 'user_symbols',\n",
       " 'utils',\n",
       " 'wr',\n",
       " 'xgb']"
      ]
     },
     "execution_count": 4,
     "metadata": {},
     "output_type": "execute_result"
    }
   ],
   "source": [
    "#Functions present in pyforest\n",
    "dir(pyforest)"
   ]
  },
  {
   "cell_type": "markdown",
   "metadata": {},
   "source": [
    "##### Assessing the Data\n",
    "\n",
    "Here, we will read in the dataset and view it to get basic information"
   ]
  },
  {
   "cell_type": "code",
   "execution_count": 5,
   "metadata": {},
   "outputs": [
    {
     "data": {
      "application/javascript": "\n        if (window._pyforest_update_imports_cell) { window._pyforest_update_imports_cell('import pandas as pd'); }\n    ",
      "text/plain": [
       "<IPython.core.display.Javascript object>"
      ]
     },
     "metadata": {},
     "output_type": "display_data"
    },
    {
     "data": {
      "text/html": [
       "<div>\n",
       "<style scoped>\n",
       "    .dataframe tbody tr th:only-of-type {\n",
       "        vertical-align: middle;\n",
       "    }\n",
       "\n",
       "    .dataframe tbody tr th {\n",
       "        vertical-align: top;\n",
       "    }\n",
       "\n",
       "    .dataframe thead th {\n",
       "        text-align: right;\n",
       "    }\n",
       "</style>\n",
       "<table border=\"1\" class=\"dataframe\">\n",
       "  <thead>\n",
       "    <tr style=\"text-align: right;\">\n",
       "      <th></th>\n",
       "      <th>Rank</th>\n",
       "      <th>CCA3</th>\n",
       "      <th>Country</th>\n",
       "      <th>Capital</th>\n",
       "      <th>Continent</th>\n",
       "      <th>2022 Population</th>\n",
       "      <th>2020 Population</th>\n",
       "      <th>2015 Population</th>\n",
       "      <th>2010 Population</th>\n",
       "      <th>2000 Population</th>\n",
       "      <th>1990 Population</th>\n",
       "      <th>1980 Population</th>\n",
       "      <th>1970 Population</th>\n",
       "      <th>Area (km²)</th>\n",
       "      <th>Density (per km²)</th>\n",
       "      <th>Growth Rate</th>\n",
       "      <th>World Population Percentage</th>\n",
       "    </tr>\n",
       "  </thead>\n",
       "  <tbody>\n",
       "    <tr>\n",
       "      <th>0</th>\n",
       "      <td>36</td>\n",
       "      <td>AFG</td>\n",
       "      <td>Afghanistan</td>\n",
       "      <td>Kabul</td>\n",
       "      <td>Asia</td>\n",
       "      <td>41128771</td>\n",
       "      <td>38972230</td>\n",
       "      <td>33753499</td>\n",
       "      <td>28189672</td>\n",
       "      <td>19542982</td>\n",
       "      <td>10694796</td>\n",
       "      <td>12486631</td>\n",
       "      <td>10752971</td>\n",
       "      <td>652230</td>\n",
       "      <td>63.0587</td>\n",
       "      <td>1.0257</td>\n",
       "      <td>0.52</td>\n",
       "    </tr>\n",
       "    <tr>\n",
       "      <th>1</th>\n",
       "      <td>138</td>\n",
       "      <td>ALB</td>\n",
       "      <td>Albania</td>\n",
       "      <td>Tirana</td>\n",
       "      <td>Europe</td>\n",
       "      <td>2842321</td>\n",
       "      <td>2866849</td>\n",
       "      <td>2882481</td>\n",
       "      <td>2913399</td>\n",
       "      <td>3182021</td>\n",
       "      <td>3295066</td>\n",
       "      <td>2941651</td>\n",
       "      <td>2324731</td>\n",
       "      <td>28748</td>\n",
       "      <td>98.8702</td>\n",
       "      <td>0.9957</td>\n",
       "      <td>0.04</td>\n",
       "    </tr>\n",
       "    <tr>\n",
       "      <th>2</th>\n",
       "      <td>34</td>\n",
       "      <td>DZA</td>\n",
       "      <td>Algeria</td>\n",
       "      <td>Algiers</td>\n",
       "      <td>Africa</td>\n",
       "      <td>44903225</td>\n",
       "      <td>43451666</td>\n",
       "      <td>39543154</td>\n",
       "      <td>35856344</td>\n",
       "      <td>30774621</td>\n",
       "      <td>25518074</td>\n",
       "      <td>18739378</td>\n",
       "      <td>13795915</td>\n",
       "      <td>2381741</td>\n",
       "      <td>18.8531</td>\n",
       "      <td>1.0164</td>\n",
       "      <td>0.56</td>\n",
       "    </tr>\n",
       "    <tr>\n",
       "      <th>3</th>\n",
       "      <td>213</td>\n",
       "      <td>ASM</td>\n",
       "      <td>American Samoa</td>\n",
       "      <td>Pago Pago</td>\n",
       "      <td>Oceania</td>\n",
       "      <td>44273</td>\n",
       "      <td>46189</td>\n",
       "      <td>51368</td>\n",
       "      <td>54849</td>\n",
       "      <td>58230</td>\n",
       "      <td>47818</td>\n",
       "      <td>32886</td>\n",
       "      <td>27075</td>\n",
       "      <td>199</td>\n",
       "      <td>222.4774</td>\n",
       "      <td>0.9831</td>\n",
       "      <td>0.00</td>\n",
       "    </tr>\n",
       "    <tr>\n",
       "      <th>4</th>\n",
       "      <td>203</td>\n",
       "      <td>AND</td>\n",
       "      <td>Andorra</td>\n",
       "      <td>Andorra la Vella</td>\n",
       "      <td>Europe</td>\n",
       "      <td>79824</td>\n",
       "      <td>77700</td>\n",
       "      <td>71746</td>\n",
       "      <td>71519</td>\n",
       "      <td>66097</td>\n",
       "      <td>53569</td>\n",
       "      <td>35611</td>\n",
       "      <td>19860</td>\n",
       "      <td>468</td>\n",
       "      <td>170.5641</td>\n",
       "      <td>1.0100</td>\n",
       "      <td>0.00</td>\n",
       "    </tr>\n",
       "  </tbody>\n",
       "</table>\n",
       "</div>"
      ],
      "text/plain": [
       "   Rank CCA3         Country           Capital Continent  2022 Population  \\\n",
       "0    36  AFG     Afghanistan             Kabul      Asia         41128771   \n",
       "1   138  ALB         Albania            Tirana    Europe          2842321   \n",
       "2    34  DZA         Algeria           Algiers    Africa         44903225   \n",
       "3   213  ASM  American Samoa         Pago Pago   Oceania            44273   \n",
       "4   203  AND         Andorra  Andorra la Vella    Europe            79824   \n",
       "\n",
       "   2020 Population  2015 Population  2010 Population  2000 Population  \\\n",
       "0         38972230         33753499         28189672         19542982   \n",
       "1          2866849          2882481          2913399          3182021   \n",
       "2         43451666         39543154         35856344         30774621   \n",
       "3            46189            51368            54849            58230   \n",
       "4            77700            71746            71519            66097   \n",
       "\n",
       "   1990 Population  1980 Population  1970 Population  Area (km²)  \\\n",
       "0         10694796         12486631         10752971      652230   \n",
       "1          3295066          2941651          2324731       28748   \n",
       "2         25518074         18739378         13795915     2381741   \n",
       "3            47818            32886            27075         199   \n",
       "4            53569            35611            19860         468   \n",
       "\n",
       "   Density (per km²)  Growth Rate  World Population Percentage  \n",
       "0            63.0587       1.0257                         0.52  \n",
       "1            98.8702       0.9957                         0.04  \n",
       "2            18.8531       1.0164                         0.56  \n",
       "3           222.4774       0.9831                         0.00  \n",
       "4           170.5641       1.0100                         0.00  "
      ]
     },
     "execution_count": 5,
     "metadata": {},
     "output_type": "execute_result"
    }
   ],
   "source": [
    "# Read in the data(csv)\n",
    "data = pd.read_csv('world_population.csv')\n",
    "\n",
    "# calling or loading the csv to view the first five(5) entries or rows.\n",
    "data.head()"
   ]
  },
  {
   "cell_type": "code",
   "execution_count": 6,
   "metadata": {},
   "outputs": [
    {
     "data": {
      "text/html": [
       "<div>\n",
       "<style scoped>\n",
       "    .dataframe tbody tr th:only-of-type {\n",
       "        vertical-align: middle;\n",
       "    }\n",
       "\n",
       "    .dataframe tbody tr th {\n",
       "        vertical-align: top;\n",
       "    }\n",
       "\n",
       "    .dataframe thead th {\n",
       "        text-align: right;\n",
       "    }\n",
       "</style>\n",
       "<table border=\"1\" class=\"dataframe\">\n",
       "  <thead>\n",
       "    <tr style=\"text-align: right;\">\n",
       "      <th></th>\n",
       "      <th>Rank</th>\n",
       "      <th>CCA3</th>\n",
       "      <th>Country</th>\n",
       "      <th>Capital</th>\n",
       "      <th>Continent</th>\n",
       "      <th>2022 Population</th>\n",
       "      <th>2020 Population</th>\n",
       "      <th>2015 Population</th>\n",
       "      <th>2010 Population</th>\n",
       "      <th>2000 Population</th>\n",
       "      <th>1990 Population</th>\n",
       "      <th>1980 Population</th>\n",
       "      <th>1970 Population</th>\n",
       "      <th>Area (km²)</th>\n",
       "      <th>Density (per km²)</th>\n",
       "      <th>Growth Rate</th>\n",
       "      <th>World Population Percentage</th>\n",
       "    </tr>\n",
       "  </thead>\n",
       "  <tbody>\n",
       "    <tr>\n",
       "      <th>229</th>\n",
       "      <td>226</td>\n",
       "      <td>WLF</td>\n",
       "      <td>Wallis and Futuna</td>\n",
       "      <td>Mata-Utu</td>\n",
       "      <td>Oceania</td>\n",
       "      <td>11572</td>\n",
       "      <td>11655</td>\n",
       "      <td>12182</td>\n",
       "      <td>13142</td>\n",
       "      <td>14723</td>\n",
       "      <td>13454</td>\n",
       "      <td>11315</td>\n",
       "      <td>9377</td>\n",
       "      <td>142</td>\n",
       "      <td>81.4930</td>\n",
       "      <td>0.9953</td>\n",
       "      <td>0.00</td>\n",
       "    </tr>\n",
       "    <tr>\n",
       "      <th>230</th>\n",
       "      <td>172</td>\n",
       "      <td>ESH</td>\n",
       "      <td>Western Sahara</td>\n",
       "      <td>El Aaiún</td>\n",
       "      <td>Africa</td>\n",
       "      <td>575986</td>\n",
       "      <td>556048</td>\n",
       "      <td>491824</td>\n",
       "      <td>413296</td>\n",
       "      <td>270375</td>\n",
       "      <td>178529</td>\n",
       "      <td>116775</td>\n",
       "      <td>76371</td>\n",
       "      <td>266000</td>\n",
       "      <td>2.1654</td>\n",
       "      <td>1.0184</td>\n",
       "      <td>0.01</td>\n",
       "    </tr>\n",
       "    <tr>\n",
       "      <th>231</th>\n",
       "      <td>46</td>\n",
       "      <td>YEM</td>\n",
       "      <td>Yemen</td>\n",
       "      <td>Sanaa</td>\n",
       "      <td>Asia</td>\n",
       "      <td>33696614</td>\n",
       "      <td>32284046</td>\n",
       "      <td>28516545</td>\n",
       "      <td>24743946</td>\n",
       "      <td>18628700</td>\n",
       "      <td>13375121</td>\n",
       "      <td>9204938</td>\n",
       "      <td>6843607</td>\n",
       "      <td>527968</td>\n",
       "      <td>63.8232</td>\n",
       "      <td>1.0217</td>\n",
       "      <td>0.42</td>\n",
       "    </tr>\n",
       "    <tr>\n",
       "      <th>232</th>\n",
       "      <td>63</td>\n",
       "      <td>ZMB</td>\n",
       "      <td>Zambia</td>\n",
       "      <td>Lusaka</td>\n",
       "      <td>Africa</td>\n",
       "      <td>20017675</td>\n",
       "      <td>18927715</td>\n",
       "      <td>16248230</td>\n",
       "      <td>13792086</td>\n",
       "      <td>9891136</td>\n",
       "      <td>7686401</td>\n",
       "      <td>5720438</td>\n",
       "      <td>4281671</td>\n",
       "      <td>752612</td>\n",
       "      <td>26.5976</td>\n",
       "      <td>1.0280</td>\n",
       "      <td>0.25</td>\n",
       "    </tr>\n",
       "    <tr>\n",
       "      <th>233</th>\n",
       "      <td>74</td>\n",
       "      <td>ZWE</td>\n",
       "      <td>Zimbabwe</td>\n",
       "      <td>Harare</td>\n",
       "      <td>Africa</td>\n",
       "      <td>16320537</td>\n",
       "      <td>15669666</td>\n",
       "      <td>14154937</td>\n",
       "      <td>12839771</td>\n",
       "      <td>11834676</td>\n",
       "      <td>10113893</td>\n",
       "      <td>7049926</td>\n",
       "      <td>5202918</td>\n",
       "      <td>390757</td>\n",
       "      <td>41.7665</td>\n",
       "      <td>1.0204</td>\n",
       "      <td>0.20</td>\n",
       "    </tr>\n",
       "  </tbody>\n",
       "</table>\n",
       "</div>"
      ],
      "text/plain": [
       "     Rank CCA3            Country   Capital Continent  2022 Population  \\\n",
       "229   226  WLF  Wallis and Futuna  Mata-Utu   Oceania            11572   \n",
       "230   172  ESH     Western Sahara  El Aaiún    Africa           575986   \n",
       "231    46  YEM              Yemen     Sanaa      Asia         33696614   \n",
       "232    63  ZMB             Zambia    Lusaka    Africa         20017675   \n",
       "233    74  ZWE           Zimbabwe    Harare    Africa         16320537   \n",
       "\n",
       "     2020 Population  2015 Population  2010 Population  2000 Population  \\\n",
       "229            11655            12182            13142            14723   \n",
       "230           556048           491824           413296           270375   \n",
       "231         32284046         28516545         24743946         18628700   \n",
       "232         18927715         16248230         13792086          9891136   \n",
       "233         15669666         14154937         12839771         11834676   \n",
       "\n",
       "     1990 Population  1980 Population  1970 Population  Area (km²)  \\\n",
       "229            13454            11315             9377         142   \n",
       "230           178529           116775            76371      266000   \n",
       "231         13375121          9204938          6843607      527968   \n",
       "232          7686401          5720438          4281671      752612   \n",
       "233         10113893          7049926          5202918      390757   \n",
       "\n",
       "     Density (per km²)  Growth Rate  World Population Percentage  \n",
       "229            81.4930       0.9953                         0.00  \n",
       "230             2.1654       1.0184                         0.01  \n",
       "231            63.8232       1.0217                         0.42  \n",
       "232            26.5976       1.0280                         0.25  \n",
       "233            41.7665       1.0204                         0.20  "
      ]
     },
     "execution_count": 6,
     "metadata": {},
     "output_type": "execute_result"
    }
   ],
   "source": [
    "# Viewing the last 5 entries in this dataset\n",
    "data.tail()"
   ]
  },
  {
   "cell_type": "markdown",
   "metadata": {},
   "source": [
    "_The automated index at the far left gives us a peek of the total rows in the dataset._"
   ]
  },
  {
   "cell_type": "code",
   "execution_count": 7,
   "metadata": {},
   "outputs": [
    {
     "name": "stdout",
     "output_type": "stream",
     "text": [
      "Total Entries Made in this Dataset: 3978\n"
     ]
    }
   ],
   "source": [
    "# Total Entries in this dataset\n",
    "print('Total Entries Made in this Dataset: {}'.format(data.size))"
   ]
  },
  {
   "cell_type": "code",
   "execution_count": 8,
   "metadata": {},
   "outputs": [
    {
     "name": "stdout",
     "output_type": "stream",
     "text": [
      "(Rows, Columns): \n",
      " (234, 17)\n"
     ]
    }
   ],
   "source": [
    "# How many rows and columns are in this dataset\n",
    "print('(Rows, Columns): \\n {}'.format(data.shape))"
   ]
  },
  {
   "cell_type": "code",
   "execution_count": 9,
   "metadata": {},
   "outputs": [
    {
     "name": "stdout",
     "output_type": "stream",
     "text": [
      "Rows x Columns= 3978\n"
     ]
    }
   ],
   "source": [
    "#The multiplication of the entire rows and columns ought to give us the total entries figure given supra:\n",
    "print('Rows x Columns= {}'.format(234*17))"
   ]
  },
  {
   "cell_type": "code",
   "execution_count": 10,
   "metadata": {},
   "outputs": [
    {
     "name": "stdout",
     "output_type": "stream",
     "text": [
      "<class 'pandas.core.frame.DataFrame'>\n",
      "RangeIndex: 234 entries, 0 to 233\n",
      "Data columns (total 17 columns):\n",
      " #   Column                       Non-Null Count  Dtype  \n",
      "---  ------                       --------------  -----  \n",
      " 0   Rank                         234 non-null    int64  \n",
      " 1   CCA3                         234 non-null    object \n",
      " 2   Country                      234 non-null    object \n",
      " 3   Capital                      234 non-null    object \n",
      " 4   Continent                    234 non-null    object \n",
      " 5   2022 Population              234 non-null    int64  \n",
      " 6   2020 Population              234 non-null    int64  \n",
      " 7   2015 Population              234 non-null    int64  \n",
      " 8   2010 Population              234 non-null    int64  \n",
      " 9   2000 Population              234 non-null    int64  \n",
      " 10  1990 Population              234 non-null    int64  \n",
      " 11  1980 Population              234 non-null    int64  \n",
      " 12  1970 Population              234 non-null    int64  \n",
      " 13  Area (km²)                   234 non-null    int64  \n",
      " 14  Density (per km²)            234 non-null    float64\n",
      " 15  Growth Rate                  234 non-null    float64\n",
      " 16  World Population Percentage  234 non-null    float64\n",
      "dtypes: float64(3), int64(10), object(4)\n",
      "memory usage: 31.2+ KB\n"
     ]
    }
   ],
   "source": [
    "#Basic information of the dataset\n",
    "data.info()"
   ]
  },
  {
   "cell_type": "markdown",
   "metadata": {},
   "source": [
    "Observations:\n",
    "* There seem to be `No Null Counts` in the dataset"
   ]
  },
  {
   "cell_type": "code",
   "execution_count": 11,
   "metadata": {},
   "outputs": [
    {
     "name": "stdout",
     "output_type": "stream",
     "text": [
      "Number of Null Values: Rank                           0\n",
      "CCA3                           0\n",
      "Country                        0\n",
      "Capital                        0\n",
      "Continent                      0\n",
      "2022 Population                0\n",
      "2020 Population                0\n",
      "2015 Population                0\n",
      "2010 Population                0\n",
      "2000 Population                0\n",
      "1990 Population                0\n",
      "1980 Population                0\n",
      "1970 Population                0\n",
      "Area (km²)                     0\n",
      "Density (per km²)              0\n",
      "Growth Rate                    0\n",
      "World Population Percentage    0\n",
      "dtype: int64\n"
     ]
    }
   ],
   "source": [
    "#Cross Checking if there are null values in our dataset\n",
    "print('Number of Null Values: {}'.format(data.isna().sum()))"
   ]
  },
  {
   "cell_type": "code",
   "execution_count": 12,
   "metadata": {},
   "outputs": [
    {
     "name": "stdout",
     "output_type": "stream",
     "text": [
      "Duplicated Values: 0\n"
     ]
    }
   ],
   "source": [
    "#Are there Duplicates in our dataset\n",
    "print('Duplicated Values: {}'.format(data.duplicated().sum()))"
   ]
  },
  {
   "cell_type": "code",
   "execution_count": 13,
   "metadata": {},
   "outputs": [
    {
     "name": "stdout",
     "output_type": "stream",
     "text": [
      "Columns: \n",
      " Index(['Rank', 'CCA3', 'Country', 'Capital', 'Continent', '2022 Population',\n",
      "       '2020 Population', '2015 Population', '2010 Population',\n",
      "       '2000 Population', '1990 Population', '1980 Population',\n",
      "       '1970 Population', 'Area (km²)', 'Density (per km²)', 'Growth Rate',\n",
      "       'World Population Percentage'],\n",
      "      dtype='object')\n"
     ]
    }
   ],
   "source": [
    "#Lets drop irrelevant columns but before that, lets view our columns\n",
    "print('Columns: \\n {}'.format(data.columns))"
   ]
  },
  {
   "cell_type": "code",
   "execution_count": 14,
   "metadata": {},
   "outputs": [],
   "source": [
    "#Dropped the Capitals and Country code columns\n",
    "data.drop(['CCA3','Capital'], axis=1, inplace=True)"
   ]
  },
  {
   "cell_type": "code",
   "execution_count": 15,
   "metadata": {},
   "outputs": [
    {
     "data": {
      "text/html": [
       "<div>\n",
       "<style scoped>\n",
       "    .dataframe tbody tr th:only-of-type {\n",
       "        vertical-align: middle;\n",
       "    }\n",
       "\n",
       "    .dataframe tbody tr th {\n",
       "        vertical-align: top;\n",
       "    }\n",
       "\n",
       "    .dataframe thead th {\n",
       "        text-align: right;\n",
       "    }\n",
       "</style>\n",
       "<table border=\"1\" class=\"dataframe\">\n",
       "  <thead>\n",
       "    <tr style=\"text-align: right;\">\n",
       "      <th></th>\n",
       "      <th>Rank</th>\n",
       "      <th>Country</th>\n",
       "      <th>Continent</th>\n",
       "      <th>2022 Population</th>\n",
       "      <th>2020 Population</th>\n",
       "      <th>2015 Population</th>\n",
       "      <th>2010 Population</th>\n",
       "      <th>2000 Population</th>\n",
       "      <th>1990 Population</th>\n",
       "      <th>1980 Population</th>\n",
       "      <th>1970 Population</th>\n",
       "      <th>Area (km²)</th>\n",
       "      <th>Density (per km²)</th>\n",
       "      <th>Growth Rate</th>\n",
       "      <th>World Population Percentage</th>\n",
       "    </tr>\n",
       "  </thead>\n",
       "  <tbody>\n",
       "    <tr>\n",
       "      <th>0</th>\n",
       "      <td>36</td>\n",
       "      <td>Afghanistan</td>\n",
       "      <td>Asia</td>\n",
       "      <td>41128771</td>\n",
       "      <td>38972230</td>\n",
       "      <td>33753499</td>\n",
       "      <td>28189672</td>\n",
       "      <td>19542982</td>\n",
       "      <td>10694796</td>\n",
       "      <td>12486631</td>\n",
       "      <td>10752971</td>\n",
       "      <td>652230</td>\n",
       "      <td>63.0587</td>\n",
       "      <td>1.0257</td>\n",
       "      <td>0.52</td>\n",
       "    </tr>\n",
       "    <tr>\n",
       "      <th>1</th>\n",
       "      <td>138</td>\n",
       "      <td>Albania</td>\n",
       "      <td>Europe</td>\n",
       "      <td>2842321</td>\n",
       "      <td>2866849</td>\n",
       "      <td>2882481</td>\n",
       "      <td>2913399</td>\n",
       "      <td>3182021</td>\n",
       "      <td>3295066</td>\n",
       "      <td>2941651</td>\n",
       "      <td>2324731</td>\n",
       "      <td>28748</td>\n",
       "      <td>98.8702</td>\n",
       "      <td>0.9957</td>\n",
       "      <td>0.04</td>\n",
       "    </tr>\n",
       "    <tr>\n",
       "      <th>2</th>\n",
       "      <td>34</td>\n",
       "      <td>Algeria</td>\n",
       "      <td>Africa</td>\n",
       "      <td>44903225</td>\n",
       "      <td>43451666</td>\n",
       "      <td>39543154</td>\n",
       "      <td>35856344</td>\n",
       "      <td>30774621</td>\n",
       "      <td>25518074</td>\n",
       "      <td>18739378</td>\n",
       "      <td>13795915</td>\n",
       "      <td>2381741</td>\n",
       "      <td>18.8531</td>\n",
       "      <td>1.0164</td>\n",
       "      <td>0.56</td>\n",
       "    </tr>\n",
       "    <tr>\n",
       "      <th>3</th>\n",
       "      <td>213</td>\n",
       "      <td>American Samoa</td>\n",
       "      <td>Oceania</td>\n",
       "      <td>44273</td>\n",
       "      <td>46189</td>\n",
       "      <td>51368</td>\n",
       "      <td>54849</td>\n",
       "      <td>58230</td>\n",
       "      <td>47818</td>\n",
       "      <td>32886</td>\n",
       "      <td>27075</td>\n",
       "      <td>199</td>\n",
       "      <td>222.4774</td>\n",
       "      <td>0.9831</td>\n",
       "      <td>0.00</td>\n",
       "    </tr>\n",
       "    <tr>\n",
       "      <th>4</th>\n",
       "      <td>203</td>\n",
       "      <td>Andorra</td>\n",
       "      <td>Europe</td>\n",
       "      <td>79824</td>\n",
       "      <td>77700</td>\n",
       "      <td>71746</td>\n",
       "      <td>71519</td>\n",
       "      <td>66097</td>\n",
       "      <td>53569</td>\n",
       "      <td>35611</td>\n",
       "      <td>19860</td>\n",
       "      <td>468</td>\n",
       "      <td>170.5641</td>\n",
       "      <td>1.0100</td>\n",
       "      <td>0.00</td>\n",
       "    </tr>\n",
       "    <tr>\n",
       "      <th>...</th>\n",
       "      <td>...</td>\n",
       "      <td>...</td>\n",
       "      <td>...</td>\n",
       "      <td>...</td>\n",
       "      <td>...</td>\n",
       "      <td>...</td>\n",
       "      <td>...</td>\n",
       "      <td>...</td>\n",
       "      <td>...</td>\n",
       "      <td>...</td>\n",
       "      <td>...</td>\n",
       "      <td>...</td>\n",
       "      <td>...</td>\n",
       "      <td>...</td>\n",
       "      <td>...</td>\n",
       "    </tr>\n",
       "    <tr>\n",
       "      <th>229</th>\n",
       "      <td>226</td>\n",
       "      <td>Wallis and Futuna</td>\n",
       "      <td>Oceania</td>\n",
       "      <td>11572</td>\n",
       "      <td>11655</td>\n",
       "      <td>12182</td>\n",
       "      <td>13142</td>\n",
       "      <td>14723</td>\n",
       "      <td>13454</td>\n",
       "      <td>11315</td>\n",
       "      <td>9377</td>\n",
       "      <td>142</td>\n",
       "      <td>81.4930</td>\n",
       "      <td>0.9953</td>\n",
       "      <td>0.00</td>\n",
       "    </tr>\n",
       "    <tr>\n",
       "      <th>230</th>\n",
       "      <td>172</td>\n",
       "      <td>Western Sahara</td>\n",
       "      <td>Africa</td>\n",
       "      <td>575986</td>\n",
       "      <td>556048</td>\n",
       "      <td>491824</td>\n",
       "      <td>413296</td>\n",
       "      <td>270375</td>\n",
       "      <td>178529</td>\n",
       "      <td>116775</td>\n",
       "      <td>76371</td>\n",
       "      <td>266000</td>\n",
       "      <td>2.1654</td>\n",
       "      <td>1.0184</td>\n",
       "      <td>0.01</td>\n",
       "    </tr>\n",
       "    <tr>\n",
       "      <th>231</th>\n",
       "      <td>46</td>\n",
       "      <td>Yemen</td>\n",
       "      <td>Asia</td>\n",
       "      <td>33696614</td>\n",
       "      <td>32284046</td>\n",
       "      <td>28516545</td>\n",
       "      <td>24743946</td>\n",
       "      <td>18628700</td>\n",
       "      <td>13375121</td>\n",
       "      <td>9204938</td>\n",
       "      <td>6843607</td>\n",
       "      <td>527968</td>\n",
       "      <td>63.8232</td>\n",
       "      <td>1.0217</td>\n",
       "      <td>0.42</td>\n",
       "    </tr>\n",
       "    <tr>\n",
       "      <th>232</th>\n",
       "      <td>63</td>\n",
       "      <td>Zambia</td>\n",
       "      <td>Africa</td>\n",
       "      <td>20017675</td>\n",
       "      <td>18927715</td>\n",
       "      <td>16248230</td>\n",
       "      <td>13792086</td>\n",
       "      <td>9891136</td>\n",
       "      <td>7686401</td>\n",
       "      <td>5720438</td>\n",
       "      <td>4281671</td>\n",
       "      <td>752612</td>\n",
       "      <td>26.5976</td>\n",
       "      <td>1.0280</td>\n",
       "      <td>0.25</td>\n",
       "    </tr>\n",
       "    <tr>\n",
       "      <th>233</th>\n",
       "      <td>74</td>\n",
       "      <td>Zimbabwe</td>\n",
       "      <td>Africa</td>\n",
       "      <td>16320537</td>\n",
       "      <td>15669666</td>\n",
       "      <td>14154937</td>\n",
       "      <td>12839771</td>\n",
       "      <td>11834676</td>\n",
       "      <td>10113893</td>\n",
       "      <td>7049926</td>\n",
       "      <td>5202918</td>\n",
       "      <td>390757</td>\n",
       "      <td>41.7665</td>\n",
       "      <td>1.0204</td>\n",
       "      <td>0.20</td>\n",
       "    </tr>\n",
       "  </tbody>\n",
       "</table>\n",
       "<p>234 rows × 15 columns</p>\n",
       "</div>"
      ],
      "text/plain": [
       "     Rank            Country Continent  2022 Population  2020 Population  \\\n",
       "0      36        Afghanistan      Asia         41128771         38972230   \n",
       "1     138            Albania    Europe          2842321          2866849   \n",
       "2      34            Algeria    Africa         44903225         43451666   \n",
       "3     213     American Samoa   Oceania            44273            46189   \n",
       "4     203            Andorra    Europe            79824            77700   \n",
       "..    ...                ...       ...              ...              ...   \n",
       "229   226  Wallis and Futuna   Oceania            11572            11655   \n",
       "230   172     Western Sahara    Africa           575986           556048   \n",
       "231    46              Yemen      Asia         33696614         32284046   \n",
       "232    63             Zambia    Africa         20017675         18927715   \n",
       "233    74           Zimbabwe    Africa         16320537         15669666   \n",
       "\n",
       "     2015 Population  2010 Population  2000 Population  1990 Population  \\\n",
       "0           33753499         28189672         19542982         10694796   \n",
       "1            2882481          2913399          3182021          3295066   \n",
       "2           39543154         35856344         30774621         25518074   \n",
       "3              51368            54849            58230            47818   \n",
       "4              71746            71519            66097            53569   \n",
       "..               ...              ...              ...              ...   \n",
       "229            12182            13142            14723            13454   \n",
       "230           491824           413296           270375           178529   \n",
       "231         28516545         24743946         18628700         13375121   \n",
       "232         16248230         13792086          9891136          7686401   \n",
       "233         14154937         12839771         11834676         10113893   \n",
       "\n",
       "     1980 Population  1970 Population  Area (km²)  Density (per km²)  \\\n",
       "0           12486631         10752971      652230            63.0587   \n",
       "1            2941651          2324731       28748            98.8702   \n",
       "2           18739378         13795915     2381741            18.8531   \n",
       "3              32886            27075         199           222.4774   \n",
       "4              35611            19860         468           170.5641   \n",
       "..               ...              ...         ...                ...   \n",
       "229            11315             9377         142            81.4930   \n",
       "230           116775            76371      266000             2.1654   \n",
       "231          9204938          6843607      527968            63.8232   \n",
       "232          5720438          4281671      752612            26.5976   \n",
       "233          7049926          5202918      390757            41.7665   \n",
       "\n",
       "     Growth Rate  World Population Percentage  \n",
       "0         1.0257                         0.52  \n",
       "1         0.9957                         0.04  \n",
       "2         1.0164                         0.56  \n",
       "3         0.9831                         0.00  \n",
       "4         1.0100                         0.00  \n",
       "..           ...                          ...  \n",
       "229       0.9953                         0.00  \n",
       "230       1.0184                         0.01  \n",
       "231       1.0217                         0.42  \n",
       "232       1.0280                         0.25  \n",
       "233       1.0204                         0.20  \n",
       "\n",
       "[234 rows x 15 columns]"
      ]
     },
     "execution_count": 15,
     "metadata": {},
     "output_type": "execute_result"
    }
   ],
   "source": [
    "#confirming whether the columns are dropped\n",
    "data"
   ]
  },
  {
   "cell_type": "code",
   "execution_count": 16,
   "metadata": {},
   "outputs": [
    {
     "data": {
      "text/html": [
       "<div>\n",
       "<style scoped>\n",
       "    .dataframe tbody tr th:only-of-type {\n",
       "        vertical-align: middle;\n",
       "    }\n",
       "\n",
       "    .dataframe tbody tr th {\n",
       "        vertical-align: top;\n",
       "    }\n",
       "\n",
       "    .dataframe thead th {\n",
       "        text-align: right;\n",
       "    }\n",
       "</style>\n",
       "<table border=\"1\" class=\"dataframe\">\n",
       "  <thead>\n",
       "    <tr style=\"text-align: right;\">\n",
       "      <th></th>\n",
       "      <th>Country</th>\n",
       "      <th>Continent</th>\n",
       "      <th>2022 Population</th>\n",
       "      <th>2020 Population</th>\n",
       "      <th>2015 Population</th>\n",
       "      <th>2010 Population</th>\n",
       "      <th>2000 Population</th>\n",
       "      <th>1990 Population</th>\n",
       "      <th>1980 Population</th>\n",
       "      <th>1970 Population</th>\n",
       "      <th>Area (km²)</th>\n",
       "      <th>Density (per km²)</th>\n",
       "      <th>Growth Rate</th>\n",
       "      <th>World Population Percentage</th>\n",
       "    </tr>\n",
       "    <tr>\n",
       "      <th>Rank</th>\n",
       "      <th></th>\n",
       "      <th></th>\n",
       "      <th></th>\n",
       "      <th></th>\n",
       "      <th></th>\n",
       "      <th></th>\n",
       "      <th></th>\n",
       "      <th></th>\n",
       "      <th></th>\n",
       "      <th></th>\n",
       "      <th></th>\n",
       "      <th></th>\n",
       "      <th></th>\n",
       "      <th></th>\n",
       "    </tr>\n",
       "  </thead>\n",
       "  <tbody>\n",
       "    <tr>\n",
       "      <th>36</th>\n",
       "      <td>Afghanistan</td>\n",
       "      <td>Asia</td>\n",
       "      <td>41128771</td>\n",
       "      <td>38972230</td>\n",
       "      <td>33753499</td>\n",
       "      <td>28189672</td>\n",
       "      <td>19542982</td>\n",
       "      <td>10694796</td>\n",
       "      <td>12486631</td>\n",
       "      <td>10752971</td>\n",
       "      <td>652230</td>\n",
       "      <td>63.0587</td>\n",
       "      <td>1.0257</td>\n",
       "      <td>0.52</td>\n",
       "    </tr>\n",
       "    <tr>\n",
       "      <th>138</th>\n",
       "      <td>Albania</td>\n",
       "      <td>Europe</td>\n",
       "      <td>2842321</td>\n",
       "      <td>2866849</td>\n",
       "      <td>2882481</td>\n",
       "      <td>2913399</td>\n",
       "      <td>3182021</td>\n",
       "      <td>3295066</td>\n",
       "      <td>2941651</td>\n",
       "      <td>2324731</td>\n",
       "      <td>28748</td>\n",
       "      <td>98.8702</td>\n",
       "      <td>0.9957</td>\n",
       "      <td>0.04</td>\n",
       "    </tr>\n",
       "    <tr>\n",
       "      <th>34</th>\n",
       "      <td>Algeria</td>\n",
       "      <td>Africa</td>\n",
       "      <td>44903225</td>\n",
       "      <td>43451666</td>\n",
       "      <td>39543154</td>\n",
       "      <td>35856344</td>\n",
       "      <td>30774621</td>\n",
       "      <td>25518074</td>\n",
       "      <td>18739378</td>\n",
       "      <td>13795915</td>\n",
       "      <td>2381741</td>\n",
       "      <td>18.8531</td>\n",
       "      <td>1.0164</td>\n",
       "      <td>0.56</td>\n",
       "    </tr>\n",
       "    <tr>\n",
       "      <th>213</th>\n",
       "      <td>American Samoa</td>\n",
       "      <td>Oceania</td>\n",
       "      <td>44273</td>\n",
       "      <td>46189</td>\n",
       "      <td>51368</td>\n",
       "      <td>54849</td>\n",
       "      <td>58230</td>\n",
       "      <td>47818</td>\n",
       "      <td>32886</td>\n",
       "      <td>27075</td>\n",
       "      <td>199</td>\n",
       "      <td>222.4774</td>\n",
       "      <td>0.9831</td>\n",
       "      <td>0.00</td>\n",
       "    </tr>\n",
       "    <tr>\n",
       "      <th>203</th>\n",
       "      <td>Andorra</td>\n",
       "      <td>Europe</td>\n",
       "      <td>79824</td>\n",
       "      <td>77700</td>\n",
       "      <td>71746</td>\n",
       "      <td>71519</td>\n",
       "      <td>66097</td>\n",
       "      <td>53569</td>\n",
       "      <td>35611</td>\n",
       "      <td>19860</td>\n",
       "      <td>468</td>\n",
       "      <td>170.5641</td>\n",
       "      <td>1.0100</td>\n",
       "      <td>0.00</td>\n",
       "    </tr>\n",
       "    <tr>\n",
       "      <th>...</th>\n",
       "      <td>...</td>\n",
       "      <td>...</td>\n",
       "      <td>...</td>\n",
       "      <td>...</td>\n",
       "      <td>...</td>\n",
       "      <td>...</td>\n",
       "      <td>...</td>\n",
       "      <td>...</td>\n",
       "      <td>...</td>\n",
       "      <td>...</td>\n",
       "      <td>...</td>\n",
       "      <td>...</td>\n",
       "      <td>...</td>\n",
       "      <td>...</td>\n",
       "    </tr>\n",
       "    <tr>\n",
       "      <th>226</th>\n",
       "      <td>Wallis and Futuna</td>\n",
       "      <td>Oceania</td>\n",
       "      <td>11572</td>\n",
       "      <td>11655</td>\n",
       "      <td>12182</td>\n",
       "      <td>13142</td>\n",
       "      <td>14723</td>\n",
       "      <td>13454</td>\n",
       "      <td>11315</td>\n",
       "      <td>9377</td>\n",
       "      <td>142</td>\n",
       "      <td>81.4930</td>\n",
       "      <td>0.9953</td>\n",
       "      <td>0.00</td>\n",
       "    </tr>\n",
       "    <tr>\n",
       "      <th>172</th>\n",
       "      <td>Western Sahara</td>\n",
       "      <td>Africa</td>\n",
       "      <td>575986</td>\n",
       "      <td>556048</td>\n",
       "      <td>491824</td>\n",
       "      <td>413296</td>\n",
       "      <td>270375</td>\n",
       "      <td>178529</td>\n",
       "      <td>116775</td>\n",
       "      <td>76371</td>\n",
       "      <td>266000</td>\n",
       "      <td>2.1654</td>\n",
       "      <td>1.0184</td>\n",
       "      <td>0.01</td>\n",
       "    </tr>\n",
       "    <tr>\n",
       "      <th>46</th>\n",
       "      <td>Yemen</td>\n",
       "      <td>Asia</td>\n",
       "      <td>33696614</td>\n",
       "      <td>32284046</td>\n",
       "      <td>28516545</td>\n",
       "      <td>24743946</td>\n",
       "      <td>18628700</td>\n",
       "      <td>13375121</td>\n",
       "      <td>9204938</td>\n",
       "      <td>6843607</td>\n",
       "      <td>527968</td>\n",
       "      <td>63.8232</td>\n",
       "      <td>1.0217</td>\n",
       "      <td>0.42</td>\n",
       "    </tr>\n",
       "    <tr>\n",
       "      <th>63</th>\n",
       "      <td>Zambia</td>\n",
       "      <td>Africa</td>\n",
       "      <td>20017675</td>\n",
       "      <td>18927715</td>\n",
       "      <td>16248230</td>\n",
       "      <td>13792086</td>\n",
       "      <td>9891136</td>\n",
       "      <td>7686401</td>\n",
       "      <td>5720438</td>\n",
       "      <td>4281671</td>\n",
       "      <td>752612</td>\n",
       "      <td>26.5976</td>\n",
       "      <td>1.0280</td>\n",
       "      <td>0.25</td>\n",
       "    </tr>\n",
       "    <tr>\n",
       "      <th>74</th>\n",
       "      <td>Zimbabwe</td>\n",
       "      <td>Africa</td>\n",
       "      <td>16320537</td>\n",
       "      <td>15669666</td>\n",
       "      <td>14154937</td>\n",
       "      <td>12839771</td>\n",
       "      <td>11834676</td>\n",
       "      <td>10113893</td>\n",
       "      <td>7049926</td>\n",
       "      <td>5202918</td>\n",
       "      <td>390757</td>\n",
       "      <td>41.7665</td>\n",
       "      <td>1.0204</td>\n",
       "      <td>0.20</td>\n",
       "    </tr>\n",
       "  </tbody>\n",
       "</table>\n",
       "<p>234 rows × 14 columns</p>\n",
       "</div>"
      ],
      "text/plain": [
       "                Country Continent  2022 Population  2020 Population  \\\n",
       "Rank                                                                  \n",
       "36          Afghanistan      Asia         41128771         38972230   \n",
       "138             Albania    Europe          2842321          2866849   \n",
       "34              Algeria    Africa         44903225         43451666   \n",
       "213      American Samoa   Oceania            44273            46189   \n",
       "203             Andorra    Europe            79824            77700   \n",
       "...                 ...       ...              ...              ...   \n",
       "226   Wallis and Futuna   Oceania            11572            11655   \n",
       "172      Western Sahara    Africa           575986           556048   \n",
       "46                Yemen      Asia         33696614         32284046   \n",
       "63               Zambia    Africa         20017675         18927715   \n",
       "74             Zimbabwe    Africa         16320537         15669666   \n",
       "\n",
       "      2015 Population  2010 Population  2000 Population  1990 Population  \\\n",
       "Rank                                                                       \n",
       "36           33753499         28189672         19542982         10694796   \n",
       "138           2882481          2913399          3182021          3295066   \n",
       "34           39543154         35856344         30774621         25518074   \n",
       "213             51368            54849            58230            47818   \n",
       "203             71746            71519            66097            53569   \n",
       "...               ...              ...              ...              ...   \n",
       "226             12182            13142            14723            13454   \n",
       "172            491824           413296           270375           178529   \n",
       "46           28516545         24743946         18628700         13375121   \n",
       "63           16248230         13792086          9891136          7686401   \n",
       "74           14154937         12839771         11834676         10113893   \n",
       "\n",
       "      1980 Population  1970 Population  Area (km²)  Density (per km²)  \\\n",
       "Rank                                                                    \n",
       "36           12486631         10752971      652230            63.0587   \n",
       "138           2941651          2324731       28748            98.8702   \n",
       "34           18739378         13795915     2381741            18.8531   \n",
       "213             32886            27075         199           222.4774   \n",
       "203             35611            19860         468           170.5641   \n",
       "...               ...              ...         ...                ...   \n",
       "226             11315             9377         142            81.4930   \n",
       "172            116775            76371      266000             2.1654   \n",
       "46            9204938          6843607      527968            63.8232   \n",
       "63            5720438          4281671      752612            26.5976   \n",
       "74            7049926          5202918      390757            41.7665   \n",
       "\n",
       "      Growth Rate  World Population Percentage  \n",
       "Rank                                            \n",
       "36         1.0257                         0.52  \n",
       "138        0.9957                         0.04  \n",
       "34         1.0164                         0.56  \n",
       "213        0.9831                         0.00  \n",
       "203        1.0100                         0.00  \n",
       "...           ...                          ...  \n",
       "226        0.9953                         0.00  \n",
       "172        1.0184                         0.01  \n",
       "46         1.0217                         0.42  \n",
       "63         1.0280                         0.25  \n",
       "74         1.0204                         0.20  \n",
       "\n",
       "[234 rows x 14 columns]"
      ]
     },
     "execution_count": 16,
     "metadata": {},
     "output_type": "execute_result"
    }
   ],
   "source": [
    "#making 'rank' the index and previewing if the changes has been made.\n",
    "data = data.set_index(['Rank'])\n",
    "data"
   ]
  },
  {
   "cell_type": "code",
   "execution_count": 17,
   "metadata": {},
   "outputs": [],
   "source": [
    "#Sorting by Rank\n",
    "data = data.sort_values(by='Rank')"
   ]
  },
  {
   "cell_type": "code",
   "execution_count": 18,
   "metadata": {},
   "outputs": [
    {
     "data": {
      "text/html": [
       "<div>\n",
       "<style scoped>\n",
       "    .dataframe tbody tr th:only-of-type {\n",
       "        vertical-align: middle;\n",
       "    }\n",
       "\n",
       "    .dataframe tbody tr th {\n",
       "        vertical-align: top;\n",
       "    }\n",
       "\n",
       "    .dataframe thead th {\n",
       "        text-align: right;\n",
       "    }\n",
       "</style>\n",
       "<table border=\"1\" class=\"dataframe\">\n",
       "  <thead>\n",
       "    <tr style=\"text-align: right;\">\n",
       "      <th></th>\n",
       "      <th>Country</th>\n",
       "      <th>Continent</th>\n",
       "      <th>2022 Population</th>\n",
       "      <th>2020 Population</th>\n",
       "      <th>2015 Population</th>\n",
       "      <th>2010 Population</th>\n",
       "      <th>2000 Population</th>\n",
       "      <th>1990 Population</th>\n",
       "      <th>1980 Population</th>\n",
       "      <th>1970 Population</th>\n",
       "      <th>Area (km²)</th>\n",
       "      <th>Density (per km²)</th>\n",
       "      <th>Growth Rate</th>\n",
       "      <th>World Population Percentage</th>\n",
       "    </tr>\n",
       "    <tr>\n",
       "      <th>Rank</th>\n",
       "      <th></th>\n",
       "      <th></th>\n",
       "      <th></th>\n",
       "      <th></th>\n",
       "      <th></th>\n",
       "      <th></th>\n",
       "      <th></th>\n",
       "      <th></th>\n",
       "      <th></th>\n",
       "      <th></th>\n",
       "      <th></th>\n",
       "      <th></th>\n",
       "      <th></th>\n",
       "      <th></th>\n",
       "    </tr>\n",
       "  </thead>\n",
       "  <tbody>\n",
       "    <tr>\n",
       "      <th>1</th>\n",
       "      <td>China</td>\n",
       "      <td>Asia</td>\n",
       "      <td>1425887337</td>\n",
       "      <td>1424929781</td>\n",
       "      <td>1393715448</td>\n",
       "      <td>1348191368</td>\n",
       "      <td>1264099069</td>\n",
       "      <td>1153704252</td>\n",
       "      <td>982372466</td>\n",
       "      <td>822534450</td>\n",
       "      <td>9706961</td>\n",
       "      <td>146.8933</td>\n",
       "      <td>1.0000</td>\n",
       "      <td>17.88</td>\n",
       "    </tr>\n",
       "    <tr>\n",
       "      <th>2</th>\n",
       "      <td>India</td>\n",
       "      <td>Asia</td>\n",
       "      <td>1417173173</td>\n",
       "      <td>1396387127</td>\n",
       "      <td>1322866505</td>\n",
       "      <td>1240613620</td>\n",
       "      <td>1059633675</td>\n",
       "      <td>870452165</td>\n",
       "      <td>696828385</td>\n",
       "      <td>557501301</td>\n",
       "      <td>3287590</td>\n",
       "      <td>431.0675</td>\n",
       "      <td>1.0068</td>\n",
       "      <td>17.77</td>\n",
       "    </tr>\n",
       "    <tr>\n",
       "      <th>3</th>\n",
       "      <td>United States</td>\n",
       "      <td>North America</td>\n",
       "      <td>338289857</td>\n",
       "      <td>335942003</td>\n",
       "      <td>324607776</td>\n",
       "      <td>311182845</td>\n",
       "      <td>282398554</td>\n",
       "      <td>248083732</td>\n",
       "      <td>223140018</td>\n",
       "      <td>200328340</td>\n",
       "      <td>9372610</td>\n",
       "      <td>36.0935</td>\n",
       "      <td>1.0038</td>\n",
       "      <td>4.24</td>\n",
       "    </tr>\n",
       "    <tr>\n",
       "      <th>4</th>\n",
       "      <td>Indonesia</td>\n",
       "      <td>Asia</td>\n",
       "      <td>275501339</td>\n",
       "      <td>271857970</td>\n",
       "      <td>259091970</td>\n",
       "      <td>244016173</td>\n",
       "      <td>214072421</td>\n",
       "      <td>182159874</td>\n",
       "      <td>148177096</td>\n",
       "      <td>115228394</td>\n",
       "      <td>1904569</td>\n",
       "      <td>144.6529</td>\n",
       "      <td>1.0064</td>\n",
       "      <td>3.45</td>\n",
       "    </tr>\n",
       "    <tr>\n",
       "      <th>5</th>\n",
       "      <td>Pakistan</td>\n",
       "      <td>Asia</td>\n",
       "      <td>235824862</td>\n",
       "      <td>227196741</td>\n",
       "      <td>210969298</td>\n",
       "      <td>194454498</td>\n",
       "      <td>154369924</td>\n",
       "      <td>115414069</td>\n",
       "      <td>80624057</td>\n",
       "      <td>59290872</td>\n",
       "      <td>881912</td>\n",
       "      <td>267.4018</td>\n",
       "      <td>1.0191</td>\n",
       "      <td>2.96</td>\n",
       "    </tr>\n",
       "    <tr>\n",
       "      <th>...</th>\n",
       "      <td>...</td>\n",
       "      <td>...</td>\n",
       "      <td>...</td>\n",
       "      <td>...</td>\n",
       "      <td>...</td>\n",
       "      <td>...</td>\n",
       "      <td>...</td>\n",
       "      <td>...</td>\n",
       "      <td>...</td>\n",
       "      <td>...</td>\n",
       "      <td>...</td>\n",
       "      <td>...</td>\n",
       "      <td>...</td>\n",
       "      <td>...</td>\n",
       "    </tr>\n",
       "    <tr>\n",
       "      <th>230</th>\n",
       "      <td>Montserrat</td>\n",
       "      <td>North America</td>\n",
       "      <td>4390</td>\n",
       "      <td>4500</td>\n",
       "      <td>5059</td>\n",
       "      <td>4938</td>\n",
       "      <td>5138</td>\n",
       "      <td>10805</td>\n",
       "      <td>11452</td>\n",
       "      <td>11402</td>\n",
       "      <td>102</td>\n",
       "      <td>43.0392</td>\n",
       "      <td>0.9939</td>\n",
       "      <td>0.00</td>\n",
       "    </tr>\n",
       "    <tr>\n",
       "      <th>231</th>\n",
       "      <td>Falkland Islands</td>\n",
       "      <td>South America</td>\n",
       "      <td>3780</td>\n",
       "      <td>3747</td>\n",
       "      <td>3408</td>\n",
       "      <td>3187</td>\n",
       "      <td>3080</td>\n",
       "      <td>2332</td>\n",
       "      <td>2240</td>\n",
       "      <td>2274</td>\n",
       "      <td>12173</td>\n",
       "      <td>0.3105</td>\n",
       "      <td>1.0043</td>\n",
       "      <td>0.00</td>\n",
       "    </tr>\n",
       "    <tr>\n",
       "      <th>232</th>\n",
       "      <td>Niue</td>\n",
       "      <td>Oceania</td>\n",
       "      <td>1934</td>\n",
       "      <td>1942</td>\n",
       "      <td>1847</td>\n",
       "      <td>1812</td>\n",
       "      <td>2074</td>\n",
       "      <td>2533</td>\n",
       "      <td>3637</td>\n",
       "      <td>5185</td>\n",
       "      <td>260</td>\n",
       "      <td>7.4385</td>\n",
       "      <td>0.9985</td>\n",
       "      <td>0.00</td>\n",
       "    </tr>\n",
       "    <tr>\n",
       "      <th>233</th>\n",
       "      <td>Tokelau</td>\n",
       "      <td>Oceania</td>\n",
       "      <td>1871</td>\n",
       "      <td>1827</td>\n",
       "      <td>1454</td>\n",
       "      <td>1367</td>\n",
       "      <td>1666</td>\n",
       "      <td>1669</td>\n",
       "      <td>1647</td>\n",
       "      <td>1714</td>\n",
       "      <td>12</td>\n",
       "      <td>155.9167</td>\n",
       "      <td>1.0119</td>\n",
       "      <td>0.00</td>\n",
       "    </tr>\n",
       "    <tr>\n",
       "      <th>234</th>\n",
       "      <td>Vatican City</td>\n",
       "      <td>Europe</td>\n",
       "      <td>510</td>\n",
       "      <td>520</td>\n",
       "      <td>564</td>\n",
       "      <td>596</td>\n",
       "      <td>651</td>\n",
       "      <td>700</td>\n",
       "      <td>733</td>\n",
       "      <td>752</td>\n",
       "      <td>1</td>\n",
       "      <td>510.0000</td>\n",
       "      <td>0.9980</td>\n",
       "      <td>0.00</td>\n",
       "    </tr>\n",
       "  </tbody>\n",
       "</table>\n",
       "<p>234 rows × 14 columns</p>\n",
       "</div>"
      ],
      "text/plain": [
       "               Country      Continent  2022 Population  2020 Population  \\\n",
       "Rank                                                                      \n",
       "1                China           Asia       1425887337       1424929781   \n",
       "2                India           Asia       1417173173       1396387127   \n",
       "3        United States  North America        338289857        335942003   \n",
       "4            Indonesia           Asia        275501339        271857970   \n",
       "5             Pakistan           Asia        235824862        227196741   \n",
       "...                ...            ...              ...              ...   \n",
       "230         Montserrat  North America             4390             4500   \n",
       "231   Falkland Islands  South America             3780             3747   \n",
       "232               Niue        Oceania             1934             1942   \n",
       "233            Tokelau        Oceania             1871             1827   \n",
       "234       Vatican City         Europe              510              520   \n",
       "\n",
       "      2015 Population  2010 Population  2000 Population  1990 Population  \\\n",
       "Rank                                                                       \n",
       "1          1393715448       1348191368       1264099069       1153704252   \n",
       "2          1322866505       1240613620       1059633675        870452165   \n",
       "3           324607776        311182845        282398554        248083732   \n",
       "4           259091970        244016173        214072421        182159874   \n",
       "5           210969298        194454498        154369924        115414069   \n",
       "...               ...              ...              ...              ...   \n",
       "230              5059             4938             5138            10805   \n",
       "231              3408             3187             3080             2332   \n",
       "232              1847             1812             2074             2533   \n",
       "233              1454             1367             1666             1669   \n",
       "234               564              596              651              700   \n",
       "\n",
       "      1980 Population  1970 Population  Area (km²)  Density (per km²)  \\\n",
       "Rank                                                                    \n",
       "1           982372466        822534450     9706961           146.8933   \n",
       "2           696828385        557501301     3287590           431.0675   \n",
       "3           223140018        200328340     9372610            36.0935   \n",
       "4           148177096        115228394     1904569           144.6529   \n",
       "5            80624057         59290872      881912           267.4018   \n",
       "...               ...              ...         ...                ...   \n",
       "230             11452            11402         102            43.0392   \n",
       "231              2240             2274       12173             0.3105   \n",
       "232              3637             5185         260             7.4385   \n",
       "233              1647             1714          12           155.9167   \n",
       "234               733              752           1           510.0000   \n",
       "\n",
       "      Growth Rate  World Population Percentage  \n",
       "Rank                                            \n",
       "1          1.0000                        17.88  \n",
       "2          1.0068                        17.77  \n",
       "3          1.0038                         4.24  \n",
       "4          1.0064                         3.45  \n",
       "5          1.0191                         2.96  \n",
       "...           ...                          ...  \n",
       "230        0.9939                         0.00  \n",
       "231        1.0043                         0.00  \n",
       "232        0.9985                         0.00  \n",
       "233        1.0119                         0.00  \n",
       "234        0.9980                         0.00  \n",
       "\n",
       "[234 rows x 14 columns]"
      ]
     },
     "execution_count": 18,
     "metadata": {},
     "output_type": "execute_result"
    }
   ],
   "source": [
    "#Previewing the sorted data\n",
    "data"
   ]
  },
  {
   "cell_type": "markdown",
   "metadata": {},
   "source": [
    "#### Exploratory Analysis"
   ]
  },
  {
   "cell_type": "code",
   "execution_count": 19,
   "metadata": {},
   "outputs": [
    {
     "name": "stdout",
     "output_type": "stream",
     "text": [
      "Total Continents: 6\n"
     ]
    }
   ],
   "source": [
    "#How many continents do we have in the world?\n",
    "print('Total Continents: {}'.format(data['Continent'].nunique()))"
   ]
  },
  {
   "cell_type": "code",
   "execution_count": 20,
   "metadata": {},
   "outputs": [
    {
     "name": "stdout",
     "output_type": "stream",
     "text": [
      "Total Continents: \n",
      " ['Asia' 'North America' 'Africa' 'South America' 'Europe' 'Oceania']\n"
     ]
    }
   ],
   "source": [
    "#What are the names of these continents?\n",
    "print('Total Continents: \\n {}'.format(data['Continent'].unique()))"
   ]
  },
  {
   "cell_type": "code",
   "execution_count": 21,
   "metadata": {},
   "outputs": [
    {
     "data": {
      "text/plain": [
       "Continent\n",
       "Africa           57\n",
       "Asia             50\n",
       "Europe           50\n",
       "North America    40\n",
       "Oceania          23\n",
       "South America    14\n",
       "Name: Country, dtype: int64"
      ]
     },
     "execution_count": 21,
     "metadata": {},
     "output_type": "execute_result"
    }
   ],
   "source": [
    "#How many countries are present in each continent?\n",
    "data.groupby(['Continent'])['Country'].nunique()"
   ]
  },
  {
   "cell_type": "markdown",
   "metadata": {},
   "source": [
    "The results above shows that the continent with most countries is `Africa`, with the least continent with countries being `South America`."
   ]
  },
  {
   "cell_type": "code",
   "execution_count": 22,
   "metadata": {},
   "outputs": [
    {
     "data": {
      "text/html": [
       "<div>\n",
       "<style scoped>\n",
       "    .dataframe tbody tr th:only-of-type {\n",
       "        vertical-align: middle;\n",
       "    }\n",
       "\n",
       "    .dataframe tbody tr th {\n",
       "        vertical-align: top;\n",
       "    }\n",
       "\n",
       "    .dataframe thead th {\n",
       "        text-align: right;\n",
       "    }\n",
       "</style>\n",
       "<table border=\"1\" class=\"dataframe\">\n",
       "  <thead>\n",
       "    <tr style=\"text-align: right;\">\n",
       "      <th></th>\n",
       "      <th>Continent</th>\n",
       "      <th>Number of Countries per Continent</th>\n",
       "    </tr>\n",
       "  </thead>\n",
       "  <tbody>\n",
       "    <tr>\n",
       "      <th>0</th>\n",
       "      <td>Africa</td>\n",
       "      <td>57</td>\n",
       "    </tr>\n",
       "    <tr>\n",
       "      <th>1</th>\n",
       "      <td>Asia</td>\n",
       "      <td>50</td>\n",
       "    </tr>\n",
       "    <tr>\n",
       "      <th>2</th>\n",
       "      <td>Europe</td>\n",
       "      <td>50</td>\n",
       "    </tr>\n",
       "    <tr>\n",
       "      <th>3</th>\n",
       "      <td>North America</td>\n",
       "      <td>40</td>\n",
       "    </tr>\n",
       "    <tr>\n",
       "      <th>4</th>\n",
       "      <td>Oceania</td>\n",
       "      <td>23</td>\n",
       "    </tr>\n",
       "    <tr>\n",
       "      <th>5</th>\n",
       "      <td>South America</td>\n",
       "      <td>14</td>\n",
       "    </tr>\n",
       "  </tbody>\n",
       "</table>\n",
       "</div>"
      ],
      "text/plain": [
       "       Continent  Number of Countries per Continent\n",
       "0         Africa                                 57\n",
       "1           Asia                                 50\n",
       "2         Europe                                 50\n",
       "3  North America                                 40\n",
       "4        Oceania                                 23\n",
       "5  South America                                 14"
      ]
     },
     "execution_count": 22,
     "metadata": {},
     "output_type": "execute_result"
    }
   ],
   "source": [
    "# The snippet above can also be represented as:\n",
    "g_continents = data.groupby(['Continent'])\n",
    "g_continents.size().reset_index(name= 'Number of Countries per Continent')"
   ]
  },
  {
   "cell_type": "code",
   "execution_count": 23,
   "metadata": {},
   "outputs": [
    {
     "data": {
      "application/javascript": "\n        if (window._pyforest_update_imports_cell) { window._pyforest_update_imports_cell('import pandas as pd\\nimport matplotlib.pyplot as plt'); }\n    ",
      "text/plain": [
       "<IPython.core.display.Javascript object>"
      ]
     },
     "metadata": {},
     "output_type": "display_data"
    },
    {
     "data": {
      "application/javascript": "\n        if (window._pyforest_update_imports_cell) { window._pyforest_update_imports_cell('import pandas as pd\\nimport matplotlib.pyplot as plt'); }\n    ",
      "text/plain": [
       "<IPython.core.display.Javascript object>"
      ]
     },
     "metadata": {},
     "output_type": "display_data"
    },
    {
     "data": {
      "text/plain": [
       "Text(0.5, 1.0, 'Number of countries present in each Continent')"
      ]
     },
     "execution_count": 23,
     "metadata": {},
     "output_type": "execute_result"
    },
    {
     "data": {
      "image/png": "[encoded data removed]",
      "text/plain": [
       "<Figure size 1224x720 with 1 Axes>"
      ]
     },
     "metadata": {
      "needs_background": "light"
     },
     "output_type": "display_data"
    }
   ],
   "source": [
    "#Visualization of the countries present in each continent\n",
    "colors = ['red', 'blue', 'green', 'orange', 'purple', 'yellow']\n",
    "plt.style.use('fivethirtyeight')\n",
    "plt.figure(figsize=(17,10))\n",
    "data.groupby(['Continent'])['Country'].nunique().plot(kind='bar', color=colors, rot=0).set_title('Number of countries present in each Continent',fontsize=18)\n"
   ]
  },
  {
   "cell_type": "code",
   "execution_count": 24,
   "metadata": {},
   "outputs": [
    {
     "data": {
      "text/plain": [
       "Continent\n",
       "Asia             4721383274\n",
       "Africa           1426730932\n",
       "Europe            743147538\n",
       "North America     600296136\n",
       "South America     436816608\n",
       "Oceania            45038554\n",
       "Name: 2022 Population, dtype: int64"
      ]
     },
     "execution_count": 24,
     "metadata": {},
     "output_type": "execute_result"
    }
   ],
   "source": [
    "# What is the population of the world as at now per continent?\n",
    "Continents_2022 = data.groupby(['Continent'])['2022 Population'].sum().sort_values(ascending=False)\n",
    "Continents_2022"
   ]
  },
  {
   "cell_type": "code",
   "execution_count": 25,
   "metadata": {},
   "outputs": [
    {
     "data": {
      "application/javascript": "\n        if (window._pyforest_update_imports_cell) { window._pyforest_update_imports_cell('import pandas as pd\\nimport matplotlib.pyplot as plt'); }\n    ",
      "text/plain": [
       "<IPython.core.display.Javascript object>"
      ]
     },
     "metadata": {},
     "output_type": "display_data"
    },
    {
     "data": {
      "application/javascript": "\n        if (window._pyforest_update_imports_cell) { window._pyforest_update_imports_cell('import pandas as pd\\nimport matplotlib.pyplot as plt'); }\n    ",
      "text/plain": [
       "<IPython.core.display.Javascript object>"
      ]
     },
     "metadata": {},
     "output_type": "display_data"
    },
    {
     "data": {
      "application/javascript": "\n        if (window._pyforest_update_imports_cell) { window._pyforest_update_imports_cell('import pandas as pd\\nimport matplotlib.pyplot as plt'); }\n    ",
      "text/plain": [
       "<IPython.core.display.Javascript object>"
      ]
     },
     "metadata": {},
     "output_type": "display_data"
    },
    {
     "data": {
      "application/javascript": "\n        if (window._pyforest_update_imports_cell) { window._pyforest_update_imports_cell('import pandas as pd\\nimport numpy as np\\nimport matplotlib.pyplot as plt'); }\n    ",
      "text/plain": [
       "<IPython.core.display.Javascript object>"
      ]
     },
     "metadata": {},
     "output_type": "display_data"
    },
    {
     "data": {
      "text/plain": [
       "Text(0.5, 1.0, 'Population per Continents for Year 2022')"
      ]
     },
     "execution_count": 25,
     "metadata": {},
     "output_type": "execute_result"
    },
    {
     "data": {
      "image/png": "[encoded data removed]",
      "text/plain": [
       "<Figure size 1224x720 with 1 Axes>"
      ]
     },
     "metadata": {
      "needs_background": "light"
     },
     "output_type": "display_data"
    }
   ],
   "source": [
    "#Visualization of the Population per Continents for Year 2022\n",
    "plt.figure(figsize=(17,10))\n",
    "plt.style.use('fivethirtyeight')\n",
    "colors = ['red', 'blue', 'green', 'orange', 'purple', 'yellow']\n",
    "plt.yticks(np.arange(30000000, 5000000000, step=300000000))\n",
    "Continents_2022.plot(kind='bar', color=colors, rot=0).set_title('Population per Continents for Year 2022', fontsize=18)"
   ]
  },
  {
   "cell_type": "code",
   "execution_count": 26,
   "metadata": {},
   "outputs": [
    {
     "data": {
      "text/html": [
       "<div>\n",
       "<style scoped>\n",
       "    .dataframe tbody tr th:only-of-type {\n",
       "        vertical-align: middle;\n",
       "    }\n",
       "\n",
       "    .dataframe tbody tr th {\n",
       "        vertical-align: top;\n",
       "    }\n",
       "\n",
       "    .dataframe thead th {\n",
       "        text-align: right;\n",
       "    }\n",
       "</style>\n",
       "<table border=\"1\" class=\"dataframe\">\n",
       "  <thead>\n",
       "    <tr style=\"text-align: right;\">\n",
       "      <th></th>\n",
       "      <th>Country</th>\n",
       "      <th>2022 Population</th>\n",
       "    </tr>\n",
       "    <tr>\n",
       "      <th>Rank</th>\n",
       "      <th></th>\n",
       "      <th></th>\n",
       "    </tr>\n",
       "  </thead>\n",
       "  <tbody>\n",
       "    <tr>\n",
       "      <th>1</th>\n",
       "      <td>China</td>\n",
       "      <td>1425887337</td>\n",
       "    </tr>\n",
       "    <tr>\n",
       "      <th>2</th>\n",
       "      <td>India</td>\n",
       "      <td>1417173173</td>\n",
       "    </tr>\n",
       "    <tr>\n",
       "      <th>3</th>\n",
       "      <td>United States</td>\n",
       "      <td>338289857</td>\n",
       "    </tr>\n",
       "    <tr>\n",
       "      <th>4</th>\n",
       "      <td>Indonesia</td>\n",
       "      <td>275501339</td>\n",
       "    </tr>\n",
       "    <tr>\n",
       "      <th>5</th>\n",
       "      <td>Pakistan</td>\n",
       "      <td>235824862</td>\n",
       "    </tr>\n",
       "    <tr>\n",
       "      <th>6</th>\n",
       "      <td>Nigeria</td>\n",
       "      <td>218541212</td>\n",
       "    </tr>\n",
       "    <tr>\n",
       "      <th>7</th>\n",
       "      <td>Brazil</td>\n",
       "      <td>215313498</td>\n",
       "    </tr>\n",
       "    <tr>\n",
       "      <th>8</th>\n",
       "      <td>Bangladesh</td>\n",
       "      <td>171186372</td>\n",
       "    </tr>\n",
       "    <tr>\n",
       "      <th>9</th>\n",
       "      <td>Russia</td>\n",
       "      <td>144713314</td>\n",
       "    </tr>\n",
       "    <tr>\n",
       "      <th>10</th>\n",
       "      <td>Mexico</td>\n",
       "      <td>127504125</td>\n",
       "    </tr>\n",
       "  </tbody>\n",
       "</table>\n",
       "</div>"
      ],
      "text/plain": [
       "            Country  2022 Population\n",
       "Rank                                \n",
       "1             China       1425887337\n",
       "2             India       1417173173\n",
       "3     United States        338289857\n",
       "4         Indonesia        275501339\n",
       "5          Pakistan        235824862\n",
       "6           Nigeria        218541212\n",
       "7            Brazil        215313498\n",
       "8        Bangladesh        171186372\n",
       "9            Russia        144713314\n",
       "10           Mexico        127504125"
      ]
     },
     "execution_count": 26,
     "metadata": {},
     "output_type": "execute_result"
    }
   ],
   "source": [
    "#Top 10 most populated countries in the world(2022)\n",
    "Top_10_Countries = data[['Country', '2022 Population']].head(10)\n",
    "Top_10_Countries"
   ]
  },
  {
   "cell_type": "code",
   "execution_count": 27,
   "metadata": {},
   "outputs": [
    {
     "data": {
      "application/javascript": "\n        if (window._pyforest_update_imports_cell) { window._pyforest_update_imports_cell('import pandas as pd\\nimport numpy as np\\nimport matplotlib.pyplot as plt'); }\n    ",
      "text/plain": [
       "<IPython.core.display.Javascript object>"
      ]
     },
     "metadata": {},
     "output_type": "display_data"
    },
    {
     "data": {
      "text/plain": [
       "<AxesSubplot:title={'center':'Top 10 Populated Countries(2022)'}, xlabel='Country'>"
      ]
     },
     "execution_count": 27,
     "metadata": {},
     "output_type": "execute_result"
    },
    {
     "data": {
      "image/png": "[encoded data removed]",
      "text/plain": [
       "<Figure size 1440x720 with 1 Axes>"
      ]
     },
     "metadata": {},
     "output_type": "display_data"
    }
   ],
   "source": [
    "plt.style.use('fivethirtyeight')\n",
    "Top_10_Countries.plot(kind='bar', x='Country', rot=0, title='Top 10 Populated Countries(2022)', figsize=(20,10), fontsize=18, color='g')"
   ]
  },
  {
   "cell_type": "code",
   "execution_count": 28,
   "metadata": {},
   "outputs": [
    {
     "name": "stdout",
     "output_type": "stream",
     "text": [
      "            Country  2022 Population\n",
      "Rank                                \n",
      "1             China       1425887337\n",
      "2             India       1417173173\n",
      "3     United States        338289857\n",
      "4         Indonesia        275501339\n",
      "5          Pakistan        235824862\n",
      "*************************************\n",
      "            Country  2020 Population\n",
      "Rank                                \n",
      "1             China       1424929781\n",
      "2             India       1396387127\n",
      "3     United States        335942003\n",
      "4         Indonesia        271857970\n",
      "5          Pakistan        227196741\n",
      "*************************************\n",
      "            Country  2015 Population\n",
      "Rank                                \n",
      "1             China       1393715448\n",
      "2             India       1322866505\n",
      "3     United States        324607776\n",
      "4         Indonesia        259091970\n",
      "5          Pakistan        210969298\n",
      "*************************************\n",
      "            Country  2010 Population\n",
      "Rank                                \n",
      "1             China       1348191368\n",
      "2             India       1240613620\n",
      "3     United States        311182845\n",
      "4         Indonesia        244016173\n",
      "5          Pakistan        194454498\n",
      "*************************************\n",
      "            Country  2000 Population\n",
      "Rank                                \n",
      "1             China       1264099069\n",
      "2             India       1059633675\n",
      "3     United States        282398554\n",
      "4         Indonesia        214072421\n",
      "5          Pakistan        154369924\n",
      "*************************************\n",
      "            Country  1990 Population\n",
      "Rank                                \n",
      "1             China       1153704252\n",
      "2             India        870452165\n",
      "3     United States        248083732\n",
      "4         Indonesia        182159874\n",
      "5          Pakistan        115414069\n",
      "*************************************\n",
      "            Country  1980 Population\n",
      "Rank                                \n",
      "1             China        982372466\n",
      "2             India        696828385\n",
      "3     United States        223140018\n",
      "4         Indonesia        148177096\n",
      "5          Pakistan         80624057\n",
      "*************************************\n",
      "            Country  1970 Population\n",
      "Rank                                \n",
      "1             China        822534450\n",
      "2             India        557501301\n",
      "3     United States        200328340\n",
      "4         Indonesia        115228394\n",
      "5          Pakistan         59290872\n",
      "*************************************\n"
     ]
    }
   ],
   "source": [
    "#Top 5 Most Populated Countries as at 1970,1980,1990,2000,2010,2015,2020 and 2022.\n",
    "attributes = ['2022 Population', '2020 Population', '2015 Population', '2010 Population', '2000 Population','1990 Population','1980 Population','1970 Population']\n",
    "\n",
    "for i in attributes:\n",
    "        print(data[['Country', i]].head())\n",
    "        print('*************************************')"
   ]
  },
  {
   "cell_type": "code",
   "execution_count": 29,
   "metadata": {},
   "outputs": [
    {
     "name": "stdout",
     "output_type": "stream",
     "text": [
      "               Country  2022 Population\n",
      "Rank                                   \n",
      "230         Montserrat             4390\n",
      "231   Falkland Islands             3780\n",
      "232               Niue             1934\n",
      "233            Tokelau             1871\n",
      "234       Vatican City              510\n",
      "****************************************\n",
      "               Country  2020 Population\n",
      "Rank                                   \n",
      "230         Montserrat             4500\n",
      "231   Falkland Islands             3747\n",
      "232               Niue             1942\n",
      "233            Tokelau             1827\n",
      "234       Vatican City              520\n",
      "****************************************\n",
      "               Country  2015 Population\n",
      "Rank                                   \n",
      "230         Montserrat             5059\n",
      "231   Falkland Islands             3408\n",
      "232               Niue             1847\n",
      "233            Tokelau             1454\n",
      "234       Vatican City              564\n",
      "****************************************\n",
      "               Country  2010 Population\n",
      "Rank                                   \n",
      "230         Montserrat             4938\n",
      "231   Falkland Islands             3187\n",
      "232               Niue             1812\n",
      "233            Tokelau             1367\n",
      "234       Vatican City              596\n",
      "****************************************\n",
      "               Country  2000 Population\n",
      "Rank                                   \n",
      "230         Montserrat             5138\n",
      "231   Falkland Islands             3080\n",
      "232               Niue             2074\n",
      "233            Tokelau             1666\n",
      "234       Vatican City              651\n",
      "****************************************\n",
      "               Country  1990 Population\n",
      "Rank                                   \n",
      "230         Montserrat            10805\n",
      "231   Falkland Islands             2332\n",
      "232               Niue             2533\n",
      "233            Tokelau             1669\n",
      "234       Vatican City              700\n",
      "****************************************\n",
      "               Country  1980 Population\n",
      "Rank                                   \n",
      "230         Montserrat            11452\n",
      "231   Falkland Islands             2240\n",
      "232               Niue             3637\n",
      "233            Tokelau             1647\n",
      "234       Vatican City              733\n",
      "****************************************\n",
      "               Country  1970 Population\n",
      "Rank                                   \n",
      "230         Montserrat            11402\n",
      "231   Falkland Islands             2274\n",
      "232               Niue             5185\n",
      "233            Tokelau             1714\n",
      "234       Vatican City              752\n",
      "****************************************\n"
     ]
    }
   ],
   "source": [
    "#Top 5 Least Populated Countries as at 1970,1980,1990,2000,2010,2015,2020 and 2022.\n",
    "attributes = ['2022 Population', '2020 Population', '2015 Population', '2010 Population', '2000 Population','1990 Population','1980 Population','1970 Population']\n",
    "\n",
    "for i in attributes:\n",
    "        print(data[['Country', i]].tail())\n",
    "        print('****************************************')"
   ]
  },
  {
   "cell_type": "code",
   "execution_count": 30,
   "metadata": {},
   "outputs": [
    {
     "data": {
      "text/html": [
       "<div>\n",
       "<style scoped>\n",
       "    .dataframe tbody tr th:only-of-type {\n",
       "        vertical-align: middle;\n",
       "    }\n",
       "\n",
       "    .dataframe tbody tr th {\n",
       "        vertical-align: top;\n",
       "    }\n",
       "\n",
       "    .dataframe thead th {\n",
       "        text-align: right;\n",
       "    }\n",
       "</style>\n",
       "<table border=\"1\" class=\"dataframe\">\n",
       "  <thead>\n",
       "    <tr style=\"text-align: right;\">\n",
       "      <th></th>\n",
       "      <th>Continent</th>\n",
       "      <th>1970 Population</th>\n",
       "      <th>2022 Population</th>\n",
       "    </tr>\n",
       "  </thead>\n",
       "  <tbody>\n",
       "    <tr>\n",
       "      <th>0</th>\n",
       "      <td>Africa</td>\n",
       "      <td>365444348</td>\n",
       "      <td>1426730932</td>\n",
       "    </tr>\n",
       "    <tr>\n",
       "      <th>1</th>\n",
       "      <td>Asia</td>\n",
       "      <td>2144906290</td>\n",
       "      <td>4721383274</td>\n",
       "    </tr>\n",
       "    <tr>\n",
       "      <th>2</th>\n",
       "      <td>Europe</td>\n",
       "      <td>655923991</td>\n",
       "      <td>743147538</td>\n",
       "    </tr>\n",
       "    <tr>\n",
       "      <th>3</th>\n",
       "      <td>North America</td>\n",
       "      <td>315434606</td>\n",
       "      <td>600296136</td>\n",
       "    </tr>\n",
       "    <tr>\n",
       "      <th>4</th>\n",
       "      <td>Oceania</td>\n",
       "      <td>19480270</td>\n",
       "      <td>45038554</td>\n",
       "    </tr>\n",
       "    <tr>\n",
       "      <th>5</th>\n",
       "      <td>South America</td>\n",
       "      <td>192947156</td>\n",
       "      <td>436816608</td>\n",
       "    </tr>\n",
       "  </tbody>\n",
       "</table>\n",
       "</div>"
      ],
      "text/plain": [
       "       Continent  1970 Population  2022 Population\n",
       "0         Africa        365444348       1426730932\n",
       "1           Asia       2144906290       4721383274\n",
       "2         Europe        655923991        743147538\n",
       "3  North America        315434606        600296136\n",
       "4        Oceania         19480270         45038554\n",
       "5  South America        192947156        436816608"
      ]
     },
     "execution_count": 30,
     "metadata": {},
     "output_type": "execute_result"
    }
   ],
   "source": [
    "#Has there been a change in population from the start of 1970 to 2022?\n",
    "Population_change = data.groupby('Continent')[['1970 Population', '2022 Population']].sum().sort_values(by='Continent').reset_index()\n",
    "Population_change"
   ]
  },
  {
   "cell_type": "code",
   "execution_count": 31,
   "metadata": {},
   "outputs": [
    {
     "data": {
      "text/html": [
       "<div>\n",
       "<style scoped>\n",
       "    .dataframe tbody tr th:only-of-type {\n",
       "        vertical-align: middle;\n",
       "    }\n",
       "\n",
       "    .dataframe tbody tr th {\n",
       "        vertical-align: top;\n",
       "    }\n",
       "\n",
       "    .dataframe thead th {\n",
       "        text-align: right;\n",
       "    }\n",
       "</style>\n",
       "<table border=\"1\" class=\"dataframe\">\n",
       "  <thead>\n",
       "    <tr style=\"text-align: right;\">\n",
       "      <th></th>\n",
       "      <th>Continent</th>\n",
       "      <th>1970 Population</th>\n",
       "      <th>2022 Population</th>\n",
       "      <th>Change In Population</th>\n",
       "    </tr>\n",
       "  </thead>\n",
       "  <tbody>\n",
       "    <tr>\n",
       "      <th>0</th>\n",
       "      <td>Africa</td>\n",
       "      <td>365444348</td>\n",
       "      <td>1426730932</td>\n",
       "      <td>1061286584</td>\n",
       "    </tr>\n",
       "    <tr>\n",
       "      <th>1</th>\n",
       "      <td>Asia</td>\n",
       "      <td>2144906290</td>\n",
       "      <td>4721383274</td>\n",
       "      <td>2576476984</td>\n",
       "    </tr>\n",
       "    <tr>\n",
       "      <th>2</th>\n",
       "      <td>Europe</td>\n",
       "      <td>655923991</td>\n",
       "      <td>743147538</td>\n",
       "      <td>87223547</td>\n",
       "    </tr>\n",
       "    <tr>\n",
       "      <th>3</th>\n",
       "      <td>North America</td>\n",
       "      <td>315434606</td>\n",
       "      <td>600296136</td>\n",
       "      <td>284861530</td>\n",
       "    </tr>\n",
       "    <tr>\n",
       "      <th>4</th>\n",
       "      <td>Oceania</td>\n",
       "      <td>19480270</td>\n",
       "      <td>45038554</td>\n",
       "      <td>25558284</td>\n",
       "    </tr>\n",
       "    <tr>\n",
       "      <th>5</th>\n",
       "      <td>South America</td>\n",
       "      <td>192947156</td>\n",
       "      <td>436816608</td>\n",
       "      <td>243869452</td>\n",
       "    </tr>\n",
       "  </tbody>\n",
       "</table>\n",
       "</div>"
      ],
      "text/plain": [
       "       Continent  1970 Population  2022 Population  Change In Population\n",
       "0         Africa        365444348       1426730932            1061286584\n",
       "1           Asia       2144906290       4721383274            2576476984\n",
       "2         Europe        655923991        743147538              87223547\n",
       "3  North America        315434606        600296136             284861530\n",
       "4        Oceania         19480270         45038554              25558284\n",
       "5  South America        192947156        436816608             243869452"
      ]
     },
     "execution_count": 31,
     "metadata": {},
     "output_type": "execute_result"
    }
   ],
   "source": [
    "Population_change['Change In Population'] =(Population_change['2022 Population']-Population_change['1970 Population'])\n",
    "Population_change"
   ]
  },
  {
   "cell_type": "code",
   "execution_count": 32,
   "metadata": {},
   "outputs": [
    {
     "data": {
      "text/html": [
       "<div>\n",
       "<style scoped>\n",
       "    .dataframe tbody tr th:only-of-type {\n",
       "        vertical-align: middle;\n",
       "    }\n",
       "\n",
       "    .dataframe tbody tr th {\n",
       "        vertical-align: top;\n",
       "    }\n",
       "\n",
       "    .dataframe thead th {\n",
       "        text-align: right;\n",
       "    }\n",
       "</style>\n",
       "<table border=\"1\" class=\"dataframe\">\n",
       "  <thead>\n",
       "    <tr style=\"text-align: right;\">\n",
       "      <th></th>\n",
       "      <th>Continent</th>\n",
       "      <th>1970 Population</th>\n",
       "      <th>2022 Population</th>\n",
       "      <th>Change In Population</th>\n",
       "      <th>Growth Rate</th>\n",
       "    </tr>\n",
       "  </thead>\n",
       "  <tbody>\n",
       "    <tr>\n",
       "      <th>0</th>\n",
       "      <td>Africa</td>\n",
       "      <td>365444348</td>\n",
       "      <td>1426730932</td>\n",
       "      <td>1061286584</td>\n",
       "      <td>2.040936e+07</td>\n",
       "    </tr>\n",
       "    <tr>\n",
       "      <th>1</th>\n",
       "      <td>Asia</td>\n",
       "      <td>2144906290</td>\n",
       "      <td>4721383274</td>\n",
       "      <td>2576476984</td>\n",
       "      <td>4.954763e+07</td>\n",
       "    </tr>\n",
       "    <tr>\n",
       "      <th>2</th>\n",
       "      <td>Europe</td>\n",
       "      <td>655923991</td>\n",
       "      <td>743147538</td>\n",
       "      <td>87223547</td>\n",
       "      <td>1.677376e+06</td>\n",
       "    </tr>\n",
       "    <tr>\n",
       "      <th>3</th>\n",
       "      <td>North America</td>\n",
       "      <td>315434606</td>\n",
       "      <td>600296136</td>\n",
       "      <td>284861530</td>\n",
       "      <td>5.478106e+06</td>\n",
       "    </tr>\n",
       "    <tr>\n",
       "      <th>4</th>\n",
       "      <td>Oceania</td>\n",
       "      <td>19480270</td>\n",
       "      <td>45038554</td>\n",
       "      <td>25558284</td>\n",
       "      <td>4.915055e+05</td>\n",
       "    </tr>\n",
       "    <tr>\n",
       "      <th>5</th>\n",
       "      <td>South America</td>\n",
       "      <td>192947156</td>\n",
       "      <td>436816608</td>\n",
       "      <td>243869452</td>\n",
       "      <td>4.689797e+06</td>\n",
       "    </tr>\n",
       "  </tbody>\n",
       "</table>\n",
       "</div>"
      ],
      "text/plain": [
       "       Continent  1970 Population  2022 Population  Change In Population  \\\n",
       "0         Africa        365444348       1426730932            1061286584   \n",
       "1           Asia       2144906290       4721383274            2576476984   \n",
       "2         Europe        655923991        743147538              87223547   \n",
       "3  North America        315434606        600296136             284861530   \n",
       "4        Oceania         19480270         45038554              25558284   \n",
       "5  South America        192947156        436816608             243869452   \n",
       "\n",
       "    Growth Rate  \n",
       "0  2.040936e+07  \n",
       "1  4.954763e+07  \n",
       "2  1.677376e+06  \n",
       "3  5.478106e+06  \n",
       "4  4.915055e+05  \n",
       "5  4.689797e+06  "
      ]
     },
     "execution_count": 32,
     "metadata": {},
     "output_type": "execute_result"
    }
   ],
   "source": [
    "Population_change['Growth Rate'] = Population_change['Change In Population']/ (2022-1970)\n",
    "Population_change"
   ]
  },
  {
   "cell_type": "markdown",
   "metadata": {},
   "source": [
    "According to the results, population growth occurred on every continent in the world.\n",
    "* In `Africa`, an approximated 20,409,360 humans were added annually since 1970.\n",
    "* In `Asia`, an approximated 49,547,630 humans were added annually since 1970.\n",
    "* In `Europe`, an approximated 1,677,376 humans were added annually since 1970 with the least population addition being 491,506 - Oceania."
   ]
  },
  {
   "cell_type": "markdown",
   "metadata": {},
   "source": [
    "Population_Density refers to the population per kilometres square ratio. It simply determines the human count per a square kilometre of a region "
   ]
  },
  {
   "cell_type": "code",
   "execution_count": 33,
   "metadata": {},
   "outputs": [
    {
     "data": {
      "text/plain": [
       "Continent\n",
       "Africa           30317963\n",
       "Asia             32138141\n",
       "Europe           23010411\n",
       "North America    24244178\n",
       "Oceania           8515081\n",
       "South America    17833382\n",
       "Name: Area (km²), dtype: int64"
      ]
     },
     "execution_count": 33,
     "metadata": {},
     "output_type": "execute_result"
    }
   ],
   "source": [
    "#Total areas enjoyed by a continent\n",
    "size = data.groupby('Continent')['Area (km²)'].sum()\n",
    "size"
   ]
  },
  {
   "cell_type": "code",
   "execution_count": 34,
   "metadata": {},
   "outputs": [
    {
     "data": {
      "text/plain": [
       "Continent\n",
       "Africa           1426730932\n",
       "Asia             4721383274\n",
       "Europe            743147538\n",
       "North America     600296136\n",
       "Oceania            45038554\n",
       "South America     436816608\n",
       "Name: 2022 Population, dtype: int64"
      ]
     },
     "execution_count": 34,
     "metadata": {},
     "output_type": "execute_result"
    }
   ],
   "source": [
    "#Entire Population recorded for 2022 per continents\n",
    "pop= data.groupby('Continent')['2022 Population'].sum()\n",
    "pop"
   ]
  },
  {
   "cell_type": "code",
   "execution_count": 35,
   "metadata": {},
   "outputs": [
    {
     "data": {
      "text/html": [
       "<div>\n",
       "<style scoped>\n",
       "    .dataframe tbody tr th:only-of-type {\n",
       "        vertical-align: middle;\n",
       "    }\n",
       "\n",
       "    .dataframe tbody tr th {\n",
       "        vertical-align: top;\n",
       "    }\n",
       "\n",
       "    .dataframe thead th {\n",
       "        text-align: right;\n",
       "    }\n",
       "</style>\n",
       "<table border=\"1\" class=\"dataframe\">\n",
       "  <thead>\n",
       "    <tr style=\"text-align: right;\">\n",
       "      <th></th>\n",
       "      <th>Population per km.sq</th>\n",
       "    </tr>\n",
       "    <tr>\n",
       "      <th>Continent</th>\n",
       "      <th></th>\n",
       "    </tr>\n",
       "  </thead>\n",
       "  <tbody>\n",
       "    <tr>\n",
       "      <th>Oceania</th>\n",
       "      <td>5.289269</td>\n",
       "    </tr>\n",
       "    <tr>\n",
       "      <th>South America</th>\n",
       "      <td>24.494322</td>\n",
       "    </tr>\n",
       "    <tr>\n",
       "      <th>North America</th>\n",
       "      <td>24.760424</td>\n",
       "    </tr>\n",
       "    <tr>\n",
       "      <th>Europe</th>\n",
       "      <td>32.296144</td>\n",
       "    </tr>\n",
       "    <tr>\n",
       "      <th>Africa</th>\n",
       "      <td>47.058931</td>\n",
       "    </tr>\n",
       "    <tr>\n",
       "      <th>Asia</th>\n",
       "      <td>146.909035</td>\n",
       "    </tr>\n",
       "  </tbody>\n",
       "</table>\n",
       "</div>"
      ],
      "text/plain": [
       "               Population per km.sq\n",
       "Continent                          \n",
       "Oceania                    5.289269\n",
       "South America             24.494322\n",
       "North America             24.760424\n",
       "Europe                    32.296144\n",
       "Africa                    47.058931\n",
       "Asia                     146.909035"
      ]
     },
     "execution_count": 35,
     "metadata": {},
     "output_type": "execute_result"
    }
   ],
   "source": [
    "#Population Density\n",
    "Population_Density = pop/size\n",
    "Population_Density.to_frame(name= 'Population per km.sq').sort_values(by='Population per km.sq')"
   ]
  },
  {
   "cell_type": "markdown",
   "metadata": {},
   "source": [
    "The output from the above calculation shows that `Asia` is the continent with the largest human population density, which is consistent with study results showing that Asia's \"HONG KONG\" has one of the highest human population densities in the world.\n",
    "In `Asia`, there are `147` people per square kilometer, according to the data, while `Oceania` has the fewest people per square kilometer at `5` per square kilometer."
   ]
  },
  {
   "cell_type": "code",
   "execution_count": 36,
   "metadata": {},
   "outputs": [
    {
     "data": {
      "text/html": [
       "<div>\n",
       "<style scoped>\n",
       "    .dataframe tbody tr th:only-of-type {\n",
       "        vertical-align: middle;\n",
       "    }\n",
       "\n",
       "    .dataframe tbody tr th {\n",
       "        vertical-align: top;\n",
       "    }\n",
       "\n",
       "    .dataframe thead th {\n",
       "        text-align: right;\n",
       "    }\n",
       "</style>\n",
       "<table border=\"1\" class=\"dataframe\">\n",
       "  <thead>\n",
       "    <tr style=\"text-align: right;\">\n",
       "      <th></th>\n",
       "      <th>World Population Percentage</th>\n",
       "    </tr>\n",
       "    <tr>\n",
       "      <th>Continent</th>\n",
       "      <th></th>\n",
       "    </tr>\n",
       "  </thead>\n",
       "  <tbody>\n",
       "    <tr>\n",
       "      <th>Asia</th>\n",
       "      <td>59.19</td>\n",
       "    </tr>\n",
       "    <tr>\n",
       "      <th>Africa</th>\n",
       "      <td>17.87</td>\n",
       "    </tr>\n",
       "    <tr>\n",
       "      <th>Europe</th>\n",
       "      <td>9.33</td>\n",
       "    </tr>\n",
       "    <tr>\n",
       "      <th>North America</th>\n",
       "      <td>7.51</td>\n",
       "    </tr>\n",
       "    <tr>\n",
       "      <th>South America</th>\n",
       "      <td>5.48</td>\n",
       "    </tr>\n",
       "    <tr>\n",
       "      <th>Oceania</th>\n",
       "      <td>0.55</td>\n",
       "    </tr>\n",
       "  </tbody>\n",
       "</table>\n",
       "</div>"
      ],
      "text/plain": [
       "               World Population Percentage\n",
       "Continent                                 \n",
       "Asia                                 59.19\n",
       "Africa                               17.87\n",
       "Europe                                9.33\n",
       "North America                         7.51\n",
       "South America                         5.48\n",
       "Oceania                               0.55"
      ]
     },
     "execution_count": 36,
     "metadata": {},
     "output_type": "execute_result"
    }
   ],
   "source": [
    "#World Population Percentage\n",
    "data.groupby('Continent')['World Population Percentage'].sum().to_frame().sort_values(by='World Population Percentage', ascending=False)"
   ]
  },
  {
   "cell_type": "code",
   "execution_count": 37,
   "metadata": {},
   "outputs": [],
   "source": [
    "percent_wp = data.groupby('Continent')['World Population Percentage'].sum().to_frame().sort_values(by='World Population Percentage', ascending=False)"
   ]
  },
  {
   "cell_type": "code",
   "execution_count": 38,
   "metadata": {},
   "outputs": [
    {
     "data": {
      "application/javascript": "\n        if (window._pyforest_update_imports_cell) { window._pyforest_update_imports_cell('import pandas as pd\\nimport numpy as np\\nimport matplotlib.pyplot as plt'); }\n    ",
      "text/plain": [
       "<IPython.core.display.Javascript object>"
      ]
     },
     "metadata": {},
     "output_type": "display_data"
    },
    {
     "data": {
      "text/plain": [
       "<AxesSubplot:title={'center':'Population percentage by continents'}, ylabel='World Population Percentage'>"
      ]
     },
     "execution_count": 38,
     "metadata": {},
     "output_type": "execute_result"
    },
    {
     "data": {
      "image/png": "[encoded data removed]",
      "text/plain": [
       "<Figure size 1440x864 with 1 Axes>"
      ]
     },
     "metadata": {},
     "output_type": "display_data"
    }
   ],
   "source": [
    "#Visualization of the Population by Population Percentages.\n",
    "plt.style.use('fivethirtyeight')\n",
    "percent_wp.plot(kind='pie', y='World Population Percentage', autopct='%0.1f%%', title='Population percentage by continents', fontsize=18, figsize=(20,12))"
   ]
  },
  {
   "cell_type": "code",
   "execution_count": null,
   "metadata": {},
   "outputs": [],
   "source": []
  },
  {
   "cell_type": "code",
   "execution_count": 39,
   "metadata": {},
   "outputs": [
    {
     "name": "stdout",
     "output_type": "stream",
     "text": [
      "Human Population 2022: 7973413042\n"
     ]
    }
   ],
   "source": [
    "Entire_2022_Population = data['2022 Population'].sum()\n",
    "print('Human Population 2022: {}'.format(Entire_2022_Population))"
   ]
  },
  {
   "cell_type": "code",
   "execution_count": 40,
   "metadata": {},
   "outputs": [
    {
     "data": {
      "text/plain": [
       "Continent\n",
       "Asia             4663086535\n",
       "Africa           1360671810\n",
       "Europe            745792196\n",
       "North America     594236593\n",
       "South America     431530043\n",
       "Oceania            43933426\n",
       "Name: 2020 Population, dtype: int64"
      ]
     },
     "execution_count": 40,
     "metadata": {},
     "output_type": "execute_result"
    }
   ],
   "source": [
    "#2022 Population by Continent\n",
    "data.groupby(['Continent'])['2020 Population'].sum().sort_values(ascending=False)"
   ]
  },
  {
   "cell_type": "code",
   "execution_count": 41,
   "metadata": {},
   "outputs": [
    {
     "data": {
      "application/javascript": "\n        if (window._pyforest_update_imports_cell) { window._pyforest_update_imports_cell('import pandas as pd\\nimport numpy as np\\nimport matplotlib.pyplot as plt'); }\n    ",
      "text/plain": [
       "<IPython.core.display.Javascript object>"
      ]
     },
     "metadata": {},
     "output_type": "display_data"
    },
    {
     "data": {
      "application/javascript": "\n        if (window._pyforest_update_imports_cell) { window._pyforest_update_imports_cell('import pandas as pd\\nimport numpy as np\\nimport matplotlib.pyplot as plt'); }\n    ",
      "text/plain": [
       "<IPython.core.display.Javascript object>"
      ]
     },
     "metadata": {},
     "output_type": "display_data"
    },
    {
     "data": {
      "text/plain": [
       "Text(0.5, 1.0, '2022 Population by Continent')"
      ]
     },
     "execution_count": 41,
     "metadata": {},
     "output_type": "execute_result"
    },
    {
     "data": {
      "image/png": "[encoded data removed]",
      "text/plain": [
       "<Figure size 1296x720 with 1 Axes>"
      ]
     },
     "metadata": {},
     "output_type": "display_data"
    }
   ],
   "source": [
    "#Visualization of the 2022 Year Population\n",
    "plt.figure(figsize=(18,10))\n",
    "plt.style.use('fivethirtyeight')\n",
    "data.groupby(['Continent'])['2020 Population'].sum().plot(kind='pie').set_title('2022 Population by Continent', fontsize= 15)"
   ]
  },
  {
   "cell_type": "code",
   "execution_count": 42,
   "metadata": {},
   "outputs": [
    {
     "name": "stdout",
     "output_type": "stream",
     "text": [
      "Continent\n",
      "Asia             4721383274\n",
      "Africa           1426730932\n",
      "Europe            743147538\n",
      "North America     600296136\n",
      "South America     436816608\n",
      "Oceania            45038554\n",
      "Name: 2022 Population, dtype: int64\n",
      " \n",
      "Total Population for the year: 7973413042\n",
      "***************************************\n",
      "Continent\n",
      "Asia             4663086535\n",
      "Africa           1360671810\n",
      "Europe            745792196\n",
      "North America     594236593\n",
      "South America     431530043\n",
      "Oceania            43933426\n",
      "Name: 2020 Population, dtype: int64\n",
      " \n",
      "Total Population for the year: 7839250603\n",
      "***************************************\n",
      "Continent\n",
      "Asia             4458250182\n",
      "Africa           1201102442\n",
      "Europe            741535608\n",
      "North America     570383850\n",
      "South America     413134396\n",
      "Oceania            40403283\n",
      "Name: 2015 Population, dtype: int64\n",
      " \n",
      "Total Population for the year: 7424809761\n",
      "***************************************\n",
      "Continent\n",
      "Asia             4220041327\n",
      "Africa           1055228072\n",
      "Europe            735613934\n",
      "North America     542720651\n",
      "South America     393078250\n",
      "Oceania            37102764\n",
      "Name: 2010 Population, dtype: int64\n",
      " \n",
      "Total Population for the year: 6983784998\n",
      "***************************************\n",
      "Continent\n",
      "Asia             3735089604\n",
      "Africa            818946032\n",
      "Europe            726093423\n",
      "North America     486069584\n",
      "South America     349634282\n",
      "Oceania            31222778\n",
      "Name: 2000 Population, dtype: int64\n",
      " \n",
      "Total Population for the year: 6147055703\n",
      "***************************************\n",
      "Continent\n",
      "Asia             3210563577\n",
      "Europe            720320797\n",
      "Africa            638150629\n",
      "North America     421266425\n",
      "South America     297146415\n",
      "Oceania            26743822\n",
      "Name: 1990 Population, dtype: int64\n",
      " \n",
      "Total Population for the year: 5314191665\n",
      "***************************************\n",
      "Continent\n",
      "Asia             2635334228\n",
      "Europe            692527159\n",
      "Africa            481536377\n",
      "North America     368293361\n",
      "South America     241789006\n",
      "Oceania            22920240\n",
      "Name: 1980 Population, dtype: int64\n",
      " \n",
      "Total Population for the year: 4442400371\n",
      "***************************************\n",
      "Continent\n",
      "Asia             2144906290\n",
      "Europe            655923991\n",
      "Africa            365444348\n",
      "North America     315434606\n",
      "South America     192947156\n",
      "Oceania            19480270\n",
      "Name: 1970 Population, dtype: int64\n",
      " \n",
      "Total Population for the year: 3694136661\n",
      "***************************************\n"
     ]
    }
   ],
   "source": [
    "#Populations per Continent for the years undersigned\n",
    "for i in attributes:\n",
    "    print(data.groupby(['Continent'])[i].sum().sort_values(ascending=False))\n",
    "    print(\" \")\n",
    "    print('Total Population for the year: {}'.format(data[i].sum()))\n",
    "    print('***************************************')"
   ]
  },
  {
   "cell_type": "code",
   "execution_count": 43,
   "metadata": {},
   "outputs": [
    {
     "name": "stdout",
     "output_type": "stream",
     "text": [
      "TOP 5 ASIAN MOST POPULATED COUNTRIES\n"
     ]
    },
    {
     "data": {
      "text/html": [
       "<div>\n",
       "<style scoped>\n",
       "    .dataframe tbody tr th:only-of-type {\n",
       "        vertical-align: middle;\n",
       "    }\n",
       "\n",
       "    .dataframe tbody tr th {\n",
       "        vertical-align: top;\n",
       "    }\n",
       "\n",
       "    .dataframe thead th {\n",
       "        text-align: right;\n",
       "    }\n",
       "</style>\n",
       "<table border=\"1\" class=\"dataframe\">\n",
       "  <thead>\n",
       "    <tr style=\"text-align: right;\">\n",
       "      <th></th>\n",
       "      <th>Country</th>\n",
       "      <th>2022 Population</th>\n",
       "    </tr>\n",
       "  </thead>\n",
       "  <tbody>\n",
       "    <tr>\n",
       "      <th>0</th>\n",
       "      <td>China</td>\n",
       "      <td>1425887337</td>\n",
       "    </tr>\n",
       "    <tr>\n",
       "      <th>1</th>\n",
       "      <td>India</td>\n",
       "      <td>1417173173</td>\n",
       "    </tr>\n",
       "    <tr>\n",
       "      <th>2</th>\n",
       "      <td>Indonesia</td>\n",
       "      <td>275501339</td>\n",
       "    </tr>\n",
       "    <tr>\n",
       "      <th>3</th>\n",
       "      <td>Pakistan</td>\n",
       "      <td>235824862</td>\n",
       "    </tr>\n",
       "    <tr>\n",
       "      <th>4</th>\n",
       "      <td>Bangladesh</td>\n",
       "      <td>171186372</td>\n",
       "    </tr>\n",
       "  </tbody>\n",
       "</table>\n",
       "</div>"
      ],
      "text/plain": [
       "      Country  2022 Population\n",
       "0       China       1425887337\n",
       "1       India       1417173173\n",
       "2   Indonesia        275501339\n",
       "3    Pakistan        235824862\n",
       "4  Bangladesh        171186372"
      ]
     },
     "execution_count": 43,
     "metadata": {},
     "output_type": "execute_result"
    }
   ],
   "source": [
    "print('TOP 5 ASIAN MOST POPULATED COUNTRIES')\n",
    "Continent_Asia= data.loc[data[\"Continent\"]==\"Asia\"].sort_values(by=[\"2022 Population\"], ascending=False, ignore_index=True)\n",
    "Continent_Asia[[\"Country\", \"2022 Population\"]].head()"
   ]
  },
  {
   "cell_type": "code",
   "execution_count": 44,
   "metadata": {},
   "outputs": [
    {
     "name": "stdout",
     "output_type": "stream",
     "text": [
      "TOP 5 ASIAN LEAST POPULATED COUNTRIES\n"
     ]
    },
    {
     "data": {
      "text/html": [
       "<div>\n",
       "<style scoped>\n",
       "    .dataframe tbody tr th:only-of-type {\n",
       "        vertical-align: middle;\n",
       "    }\n",
       "\n",
       "    .dataframe tbody tr th {\n",
       "        vertical-align: top;\n",
       "    }\n",
       "\n",
       "    .dataframe thead th {\n",
       "        text-align: right;\n",
       "    }\n",
       "</style>\n",
       "<table border=\"1\" class=\"dataframe\">\n",
       "  <thead>\n",
       "    <tr style=\"text-align: right;\">\n",
       "      <th></th>\n",
       "      <th>Country</th>\n",
       "      <th>2022 Population</th>\n",
       "    </tr>\n",
       "  </thead>\n",
       "  <tbody>\n",
       "    <tr>\n",
       "      <th>45</th>\n",
       "      <td>Timor-Leste</td>\n",
       "      <td>1341296</td>\n",
       "    </tr>\n",
       "    <tr>\n",
       "      <th>46</th>\n",
       "      <td>Bhutan</td>\n",
       "      <td>782455</td>\n",
       "    </tr>\n",
       "    <tr>\n",
       "      <th>47</th>\n",
       "      <td>Macau</td>\n",
       "      <td>695168</td>\n",
       "    </tr>\n",
       "    <tr>\n",
       "      <th>48</th>\n",
       "      <td>Maldives</td>\n",
       "      <td>523787</td>\n",
       "    </tr>\n",
       "    <tr>\n",
       "      <th>49</th>\n",
       "      <td>Brunei</td>\n",
       "      <td>449002</td>\n",
       "    </tr>\n",
       "  </tbody>\n",
       "</table>\n",
       "</div>"
      ],
      "text/plain": [
       "        Country  2022 Population\n",
       "45  Timor-Leste          1341296\n",
       "46       Bhutan           782455\n",
       "47        Macau           695168\n",
       "48     Maldives           523787\n",
       "49       Brunei           449002"
      ]
     },
     "execution_count": 44,
     "metadata": {},
     "output_type": "execute_result"
    }
   ],
   "source": [
    "print('TOP 5 ASIAN LEAST POPULATED COUNTRIES')\n",
    "Continent_Asia= data.loc[data[\"Continent\"]==\"Asia\"].sort_values(by=[\"2022 Population\"], ascending=False, ignore_index=True)\n",
    "Continent_Asia[[\"Country\", \"2022 Population\"]].tail()"
   ]
  },
  {
   "cell_type": "code",
   "execution_count": 45,
   "metadata": {},
   "outputs": [
    {
     "name": "stdout",
     "output_type": "stream",
     "text": [
      "TOP 5 EUROPEAN MOST POPULATED COUNTRIES\n"
     ]
    },
    {
     "data": {
      "text/html": [
       "<div>\n",
       "<style scoped>\n",
       "    .dataframe tbody tr th:only-of-type {\n",
       "        vertical-align: middle;\n",
       "    }\n",
       "\n",
       "    .dataframe tbody tr th {\n",
       "        vertical-align: top;\n",
       "    }\n",
       "\n",
       "    .dataframe thead th {\n",
       "        text-align: right;\n",
       "    }\n",
       "</style>\n",
       "<table border=\"1\" class=\"dataframe\">\n",
       "  <thead>\n",
       "    <tr style=\"text-align: right;\">\n",
       "      <th></th>\n",
       "      <th>Country</th>\n",
       "      <th>2022 Population</th>\n",
       "    </tr>\n",
       "  </thead>\n",
       "  <tbody>\n",
       "    <tr>\n",
       "      <th>0</th>\n",
       "      <td>Russia</td>\n",
       "      <td>144713314</td>\n",
       "    </tr>\n",
       "    <tr>\n",
       "      <th>1</th>\n",
       "      <td>Germany</td>\n",
       "      <td>83369843</td>\n",
       "    </tr>\n",
       "    <tr>\n",
       "      <th>2</th>\n",
       "      <td>United Kingdom</td>\n",
       "      <td>67508936</td>\n",
       "    </tr>\n",
       "    <tr>\n",
       "      <th>3</th>\n",
       "      <td>France</td>\n",
       "      <td>64626628</td>\n",
       "    </tr>\n",
       "    <tr>\n",
       "      <th>4</th>\n",
       "      <td>Italy</td>\n",
       "      <td>59037474</td>\n",
       "    </tr>\n",
       "  </tbody>\n",
       "</table>\n",
       "</div>"
      ],
      "text/plain": [
       "          Country  2022 Population\n",
       "0          Russia        144713314\n",
       "1         Germany         83369843\n",
       "2  United Kingdom         67508936\n",
       "3          France         64626628\n",
       "4           Italy         59037474"
      ]
     },
     "execution_count": 45,
     "metadata": {},
     "output_type": "execute_result"
    }
   ],
   "source": [
    "print('TOP 5 EUROPEAN MOST POPULATED COUNTRIES')\n",
    "Continent_Europe= data.loc[data[\"Continent\"]==\"Europe\"].sort_values(by=[\"2022 Population\"], ascending=False, ignore_index=True)\n",
    "Continent_Europe[[\"Country\", \"2022 Population\"]].head()"
   ]
  },
  {
   "cell_type": "code",
   "execution_count": 46,
   "metadata": {},
   "outputs": [
    {
     "name": "stdout",
     "output_type": "stream",
     "text": [
      "TOP 5 EUROPEAN LEAST POPULATED COUNTRIES\n"
     ]
    },
    {
     "data": {
      "text/html": [
       "<div>\n",
       "<style scoped>\n",
       "    .dataframe tbody tr th:only-of-type {\n",
       "        vertical-align: middle;\n",
       "    }\n",
       "\n",
       "    .dataframe tbody tr th {\n",
       "        vertical-align: top;\n",
       "    }\n",
       "\n",
       "    .dataframe thead th {\n",
       "        text-align: right;\n",
       "    }\n",
       "</style>\n",
       "<table border=\"1\" class=\"dataframe\">\n",
       "  <thead>\n",
       "    <tr style=\"text-align: right;\">\n",
       "      <th></th>\n",
       "      <th>Country</th>\n",
       "      <th>2022 Population</th>\n",
       "    </tr>\n",
       "  </thead>\n",
       "  <tbody>\n",
       "    <tr>\n",
       "      <th>45</th>\n",
       "      <td>Liechtenstein</td>\n",
       "      <td>39327</td>\n",
       "    </tr>\n",
       "    <tr>\n",
       "      <th>46</th>\n",
       "      <td>Monaco</td>\n",
       "      <td>36469</td>\n",
       "    </tr>\n",
       "    <tr>\n",
       "      <th>47</th>\n",
       "      <td>San Marino</td>\n",
       "      <td>33660</td>\n",
       "    </tr>\n",
       "    <tr>\n",
       "      <th>48</th>\n",
       "      <td>Gibraltar</td>\n",
       "      <td>32649</td>\n",
       "    </tr>\n",
       "    <tr>\n",
       "      <th>49</th>\n",
       "      <td>Vatican City</td>\n",
       "      <td>510</td>\n",
       "    </tr>\n",
       "  </tbody>\n",
       "</table>\n",
       "</div>"
      ],
      "text/plain": [
       "          Country  2022 Population\n",
       "45  Liechtenstein            39327\n",
       "46         Monaco            36469\n",
       "47     San Marino            33660\n",
       "48      Gibraltar            32649\n",
       "49   Vatican City              510"
      ]
     },
     "execution_count": 46,
     "metadata": {},
     "output_type": "execute_result"
    }
   ],
   "source": [
    "print('TOP 5 EUROPEAN LEAST POPULATED COUNTRIES')\n",
    "Continent_Europe= data.loc[data[\"Continent\"]==\"Europe\"].sort_values(by=[\"2022 Population\"], ascending=False, ignore_index=True)\n",
    "Continent_Europe[[\"Country\", \"2022 Population\"]].tail()"
   ]
  },
  {
   "cell_type": "code",
   "execution_count": 47,
   "metadata": {},
   "outputs": [
    {
     "name": "stdout",
     "output_type": "stream",
     "text": [
      "TOP 5 AFRICAN MOST POPULATED COUNTRIES\n"
     ]
    },
    {
     "data": {
      "text/html": [
       "<div>\n",
       "<style scoped>\n",
       "    .dataframe tbody tr th:only-of-type {\n",
       "        vertical-align: middle;\n",
       "    }\n",
       "\n",
       "    .dataframe tbody tr th {\n",
       "        vertical-align: top;\n",
       "    }\n",
       "\n",
       "    .dataframe thead th {\n",
       "        text-align: right;\n",
       "    }\n",
       "</style>\n",
       "<table border=\"1\" class=\"dataframe\">\n",
       "  <thead>\n",
       "    <tr style=\"text-align: right;\">\n",
       "      <th></th>\n",
       "      <th>Country</th>\n",
       "      <th>2022 Population</th>\n",
       "    </tr>\n",
       "  </thead>\n",
       "  <tbody>\n",
       "    <tr>\n",
       "      <th>0</th>\n",
       "      <td>Nigeria</td>\n",
       "      <td>218541212</td>\n",
       "    </tr>\n",
       "    <tr>\n",
       "      <th>1</th>\n",
       "      <td>Ethiopia</td>\n",
       "      <td>123379924</td>\n",
       "    </tr>\n",
       "    <tr>\n",
       "      <th>2</th>\n",
       "      <td>Egypt</td>\n",
       "      <td>110990103</td>\n",
       "    </tr>\n",
       "    <tr>\n",
       "      <th>3</th>\n",
       "      <td>DR Congo</td>\n",
       "      <td>99010212</td>\n",
       "    </tr>\n",
       "    <tr>\n",
       "      <th>4</th>\n",
       "      <td>Tanzania</td>\n",
       "      <td>65497748</td>\n",
       "    </tr>\n",
       "  </tbody>\n",
       "</table>\n",
       "</div>"
      ],
      "text/plain": [
       "    Country  2022 Population\n",
       "0   Nigeria        218541212\n",
       "1  Ethiopia        123379924\n",
       "2     Egypt        110990103\n",
       "3  DR Congo         99010212\n",
       "4  Tanzania         65497748"
      ]
     },
     "execution_count": 47,
     "metadata": {},
     "output_type": "execute_result"
    }
   ],
   "source": [
    "print('TOP 5 AFRICAN MOST POPULATED COUNTRIES')\n",
    "Continent_Africa= data.loc[data[\"Continent\"]==\"Africa\"].sort_values(by=[\"2022 Population\"], ascending=False, ignore_index=True)\n",
    "Continent_Africa[[\"Country\", \"2022 Population\"]].head()"
   ]
  },
  {
   "cell_type": "code",
   "execution_count": 48,
   "metadata": {},
   "outputs": [
    {
     "name": "stdout",
     "output_type": "stream",
     "text": [
      "TOP 10 AFRICAN MOST POPULATED COUNTRIES\n"
     ]
    },
    {
     "data": {
      "text/html": [
       "<div>\n",
       "<style scoped>\n",
       "    .dataframe tbody tr th:only-of-type {\n",
       "        vertical-align: middle;\n",
       "    }\n",
       "\n",
       "    .dataframe tbody tr th {\n",
       "        vertical-align: top;\n",
       "    }\n",
       "\n",
       "    .dataframe thead th {\n",
       "        text-align: right;\n",
       "    }\n",
       "</style>\n",
       "<table border=\"1\" class=\"dataframe\">\n",
       "  <thead>\n",
       "    <tr style=\"text-align: right;\">\n",
       "      <th></th>\n",
       "      <th>Country</th>\n",
       "      <th>2022 Population</th>\n",
       "    </tr>\n",
       "  </thead>\n",
       "  <tbody>\n",
       "    <tr>\n",
       "      <th>0</th>\n",
       "      <td>Nigeria</td>\n",
       "      <td>218541212</td>\n",
       "    </tr>\n",
       "    <tr>\n",
       "      <th>1</th>\n",
       "      <td>Ethiopia</td>\n",
       "      <td>123379924</td>\n",
       "    </tr>\n",
       "    <tr>\n",
       "      <th>2</th>\n",
       "      <td>Egypt</td>\n",
       "      <td>110990103</td>\n",
       "    </tr>\n",
       "    <tr>\n",
       "      <th>3</th>\n",
       "      <td>DR Congo</td>\n",
       "      <td>99010212</td>\n",
       "    </tr>\n",
       "    <tr>\n",
       "      <th>4</th>\n",
       "      <td>Tanzania</td>\n",
       "      <td>65497748</td>\n",
       "    </tr>\n",
       "    <tr>\n",
       "      <th>5</th>\n",
       "      <td>South Africa</td>\n",
       "      <td>59893885</td>\n",
       "    </tr>\n",
       "    <tr>\n",
       "      <th>6</th>\n",
       "      <td>Kenya</td>\n",
       "      <td>54027487</td>\n",
       "    </tr>\n",
       "    <tr>\n",
       "      <th>7</th>\n",
       "      <td>Uganda</td>\n",
       "      <td>47249585</td>\n",
       "    </tr>\n",
       "    <tr>\n",
       "      <th>8</th>\n",
       "      <td>Sudan</td>\n",
       "      <td>46874204</td>\n",
       "    </tr>\n",
       "    <tr>\n",
       "      <th>9</th>\n",
       "      <td>Algeria</td>\n",
       "      <td>44903225</td>\n",
       "    </tr>\n",
       "  </tbody>\n",
       "</table>\n",
       "</div>"
      ],
      "text/plain": [
       "        Country  2022 Population\n",
       "0       Nigeria        218541212\n",
       "1      Ethiopia        123379924\n",
       "2         Egypt        110990103\n",
       "3      DR Congo         99010212\n",
       "4      Tanzania         65497748\n",
       "5  South Africa         59893885\n",
       "6         Kenya         54027487\n",
       "7        Uganda         47249585\n",
       "8         Sudan         46874204\n",
       "9       Algeria         44903225"
      ]
     },
     "execution_count": 48,
     "metadata": {},
     "output_type": "execute_result"
    }
   ],
   "source": [
    "print('TOP 10 AFRICAN MOST POPULATED COUNTRIES')\n",
    "Continent_Africa= data.loc[data[\"Continent\"]==\"Africa\"].sort_values(by=[\"2022 Population\"], ascending=False, ignore_index=True)\n",
    "Continent_Africa[[\"Country\", \"2022 Population\"]].head(10)"
   ]
  },
  {
   "cell_type": "code",
   "execution_count": 49,
   "metadata": {},
   "outputs": [
    {
     "name": "stdout",
     "output_type": "stream",
     "text": [
      "TOP 5 AFRICAN LEAST POPULATED COUNTRIES\n"
     ]
    },
    {
     "data": {
      "text/html": [
       "<div>\n",
       "<style scoped>\n",
       "    .dataframe tbody tr th:only-of-type {\n",
       "        vertical-align: middle;\n",
       "    }\n",
       "\n",
       "    .dataframe tbody tr th {\n",
       "        vertical-align: top;\n",
       "    }\n",
       "\n",
       "    .dataframe thead th {\n",
       "        text-align: right;\n",
       "    }\n",
       "</style>\n",
       "<table border=\"1\" class=\"dataframe\">\n",
       "  <thead>\n",
       "    <tr style=\"text-align: right;\">\n",
       "      <th></th>\n",
       "      <th>Country</th>\n",
       "      <th>2022 Population</th>\n",
       "    </tr>\n",
       "  </thead>\n",
       "  <tbody>\n",
       "    <tr>\n",
       "      <th>52</th>\n",
       "      <td>Cape Verde</td>\n",
       "      <td>593149</td>\n",
       "    </tr>\n",
       "    <tr>\n",
       "      <th>53</th>\n",
       "      <td>Western Sahara</td>\n",
       "      <td>575986</td>\n",
       "    </tr>\n",
       "    <tr>\n",
       "      <th>54</th>\n",
       "      <td>Mayotte</td>\n",
       "      <td>326101</td>\n",
       "    </tr>\n",
       "    <tr>\n",
       "      <th>55</th>\n",
       "      <td>Sao Tome and Principe</td>\n",
       "      <td>227380</td>\n",
       "    </tr>\n",
       "    <tr>\n",
       "      <th>56</th>\n",
       "      <td>Seychelles</td>\n",
       "      <td>107118</td>\n",
       "    </tr>\n",
       "  </tbody>\n",
       "</table>\n",
       "</div>"
      ],
      "text/plain": [
       "                  Country  2022 Population\n",
       "52             Cape Verde           593149\n",
       "53         Western Sahara           575986\n",
       "54                Mayotte           326101\n",
       "55  Sao Tome and Principe           227380\n",
       "56             Seychelles           107118"
      ]
     },
     "execution_count": 49,
     "metadata": {},
     "output_type": "execute_result"
    }
   ],
   "source": [
    "print('TOP 5 AFRICAN LEAST POPULATED COUNTRIES')\n",
    "Continent_Africa= data.loc[data[\"Continent\"]==\"Africa\"].sort_values(by=[\"2022 Population\"], ascending=False, ignore_index=True)\n",
    "Continent_Africa[[\"Country\", \"2022 Population\"]].tail()"
   ]
  },
  {
   "cell_type": "code",
   "execution_count": 50,
   "metadata": {},
   "outputs": [
    {
     "name": "stdout",
     "output_type": "stream",
     "text": [
      "TOP 5 SOUTH AMERICAN MOST POPULATED COUNTRIES\n"
     ]
    },
    {
     "data": {
      "text/html": [
       "<div>\n",
       "<style scoped>\n",
       "    .dataframe tbody tr th:only-of-type {\n",
       "        vertical-align: middle;\n",
       "    }\n",
       "\n",
       "    .dataframe tbody tr th {\n",
       "        vertical-align: top;\n",
       "    }\n",
       "\n",
       "    .dataframe thead th {\n",
       "        text-align: right;\n",
       "    }\n",
       "</style>\n",
       "<table border=\"1\" class=\"dataframe\">\n",
       "  <thead>\n",
       "    <tr style=\"text-align: right;\">\n",
       "      <th></th>\n",
       "      <th>Country</th>\n",
       "      <th>2022 Population</th>\n",
       "    </tr>\n",
       "  </thead>\n",
       "  <tbody>\n",
       "    <tr>\n",
       "      <th>0</th>\n",
       "      <td>Brazil</td>\n",
       "      <td>215313498</td>\n",
       "    </tr>\n",
       "    <tr>\n",
       "      <th>1</th>\n",
       "      <td>Colombia</td>\n",
       "      <td>51874024</td>\n",
       "    </tr>\n",
       "    <tr>\n",
       "      <th>2</th>\n",
       "      <td>Argentina</td>\n",
       "      <td>45510318</td>\n",
       "    </tr>\n",
       "    <tr>\n",
       "      <th>3</th>\n",
       "      <td>Peru</td>\n",
       "      <td>34049588</td>\n",
       "    </tr>\n",
       "    <tr>\n",
       "      <th>4</th>\n",
       "      <td>Venezuela</td>\n",
       "      <td>28301696</td>\n",
       "    </tr>\n",
       "  </tbody>\n",
       "</table>\n",
       "</div>"
      ],
      "text/plain": [
       "     Country  2022 Population\n",
       "0     Brazil        215313498\n",
       "1   Colombia         51874024\n",
       "2  Argentina         45510318\n",
       "3       Peru         34049588\n",
       "4  Venezuela         28301696"
      ]
     },
     "execution_count": 50,
     "metadata": {},
     "output_type": "execute_result"
    }
   ],
   "source": [
    "print('TOP 5 SOUTH AMERICAN MOST POPULATED COUNTRIES')\n",
    "Continent_South_America= data.loc[data[\"Continent\"]==\"South America\"].sort_values(by=[\"2022 Population\"], ascending=False, ignore_index=True)\n",
    "Continent_South_America[[\"Country\", \"2022 Population\"]].head()"
   ]
  },
  {
   "cell_type": "code",
   "execution_count": 51,
   "metadata": {},
   "outputs": [
    {
     "name": "stdout",
     "output_type": "stream",
     "text": [
      "TOP 5 SOUTH AMERICAN LEAST POPULATED COUNTRIES\n"
     ]
    },
    {
     "data": {
      "text/html": [
       "<div>\n",
       "<style scoped>\n",
       "    .dataframe tbody tr th:only-of-type {\n",
       "        vertical-align: middle;\n",
       "    }\n",
       "\n",
       "    .dataframe tbody tr th {\n",
       "        vertical-align: top;\n",
       "    }\n",
       "\n",
       "    .dataframe thead th {\n",
       "        text-align: right;\n",
       "    }\n",
       "</style>\n",
       "<table border=\"1\" class=\"dataframe\">\n",
       "  <thead>\n",
       "    <tr style=\"text-align: right;\">\n",
       "      <th></th>\n",
       "      <th>Country</th>\n",
       "      <th>2022 Population</th>\n",
       "    </tr>\n",
       "  </thead>\n",
       "  <tbody>\n",
       "    <tr>\n",
       "      <th>9</th>\n",
       "      <td>Uruguay</td>\n",
       "      <td>3422794</td>\n",
       "    </tr>\n",
       "    <tr>\n",
       "      <th>10</th>\n",
       "      <td>Guyana</td>\n",
       "      <td>808726</td>\n",
       "    </tr>\n",
       "    <tr>\n",
       "      <th>11</th>\n",
       "      <td>Suriname</td>\n",
       "      <td>618040</td>\n",
       "    </tr>\n",
       "    <tr>\n",
       "      <th>12</th>\n",
       "      <td>French Guiana</td>\n",
       "      <td>304557</td>\n",
       "    </tr>\n",
       "    <tr>\n",
       "      <th>13</th>\n",
       "      <td>Falkland Islands</td>\n",
       "      <td>3780</td>\n",
       "    </tr>\n",
       "  </tbody>\n",
       "</table>\n",
       "</div>"
      ],
      "text/plain": [
       "             Country  2022 Population\n",
       "9            Uruguay          3422794\n",
       "10            Guyana           808726\n",
       "11          Suriname           618040\n",
       "12     French Guiana           304557\n",
       "13  Falkland Islands             3780"
      ]
     },
     "execution_count": 51,
     "metadata": {},
     "output_type": "execute_result"
    }
   ],
   "source": [
    "print('TOP 5 SOUTH AMERICAN LEAST POPULATED COUNTRIES')\n",
    "Continent_South_America= data.loc[data[\"Continent\"]==\"South America\"].sort_values(by=[\"2022 Population\"], ascending=False, ignore_index=True)\n",
    "Continent_South_America[[\"Country\", \"2022 Population\"]].tail()"
   ]
  },
  {
   "cell_type": "code",
   "execution_count": 52,
   "metadata": {},
   "outputs": [
    {
     "name": "stdout",
     "output_type": "stream",
     "text": [
      "TOP 5 NORTH AMERICAN MOST POPULATED COUNTRIES\n"
     ]
    },
    {
     "data": {
      "text/html": [
       "<div>\n",
       "<style scoped>\n",
       "    .dataframe tbody tr th:only-of-type {\n",
       "        vertical-align: middle;\n",
       "    }\n",
       "\n",
       "    .dataframe tbody tr th {\n",
       "        vertical-align: top;\n",
       "    }\n",
       "\n",
       "    .dataframe thead th {\n",
       "        text-align: right;\n",
       "    }\n",
       "</style>\n",
       "<table border=\"1\" class=\"dataframe\">\n",
       "  <thead>\n",
       "    <tr style=\"text-align: right;\">\n",
       "      <th></th>\n",
       "      <th>Country</th>\n",
       "      <th>2022 Population</th>\n",
       "    </tr>\n",
       "  </thead>\n",
       "  <tbody>\n",
       "    <tr>\n",
       "      <th>0</th>\n",
       "      <td>United States</td>\n",
       "      <td>338289857</td>\n",
       "    </tr>\n",
       "    <tr>\n",
       "      <th>1</th>\n",
       "      <td>Mexico</td>\n",
       "      <td>127504125</td>\n",
       "    </tr>\n",
       "    <tr>\n",
       "      <th>2</th>\n",
       "      <td>Canada</td>\n",
       "      <td>38454327</td>\n",
       "    </tr>\n",
       "    <tr>\n",
       "      <th>3</th>\n",
       "      <td>Guatemala</td>\n",
       "      <td>17843908</td>\n",
       "    </tr>\n",
       "    <tr>\n",
       "      <th>4</th>\n",
       "      <td>Haiti</td>\n",
       "      <td>11584996</td>\n",
       "    </tr>\n",
       "  </tbody>\n",
       "</table>\n",
       "</div>"
      ],
      "text/plain": [
       "         Country  2022 Population\n",
       "0  United States        338289857\n",
       "1         Mexico        127504125\n",
       "2         Canada         38454327\n",
       "3      Guatemala         17843908\n",
       "4          Haiti         11584996"
      ]
     },
     "execution_count": 52,
     "metadata": {},
     "output_type": "execute_result"
    }
   ],
   "source": [
    "print('TOP 5 NORTH AMERICAN MOST POPULATED COUNTRIES')\n",
    "Continent_North_America= data.loc[data[\"Continent\"]==\"North America\"].sort_values(by=[\"2022 Population\"], ascending=False, ignore_index=True)\n",
    "Continent_North_America[[\"Country\", \"2022 Population\"]].head()"
   ]
  },
  {
   "cell_type": "code",
   "execution_count": 53,
   "metadata": {},
   "outputs": [
    {
     "name": "stdout",
     "output_type": "stream",
     "text": [
      "TOP 5 NORTH AMERICAN LEAST POPULATED COUNTRIES\n"
     ]
    },
    {
     "data": {
      "text/html": [
       "<div>\n",
       "<style scoped>\n",
       "    .dataframe tbody tr th:only-of-type {\n",
       "        vertical-align: middle;\n",
       "    }\n",
       "\n",
       "    .dataframe tbody tr th {\n",
       "        vertical-align: top;\n",
       "    }\n",
       "\n",
       "    .dataframe thead th {\n",
       "        text-align: right;\n",
       "    }\n",
       "</style>\n",
       "<table border=\"1\" class=\"dataframe\">\n",
       "  <thead>\n",
       "    <tr style=\"text-align: right;\">\n",
       "      <th></th>\n",
       "      <th>Country</th>\n",
       "      <th>2022 Population</th>\n",
       "    </tr>\n",
       "  </thead>\n",
       "  <tbody>\n",
       "    <tr>\n",
       "      <th>35</th>\n",
       "      <td>British Virgin Islands</td>\n",
       "      <td>31305</td>\n",
       "    </tr>\n",
       "    <tr>\n",
       "      <th>36</th>\n",
       "      <td>Anguilla</td>\n",
       "      <td>15857</td>\n",
       "    </tr>\n",
       "    <tr>\n",
       "      <th>37</th>\n",
       "      <td>Saint Barthelemy</td>\n",
       "      <td>10967</td>\n",
       "    </tr>\n",
       "    <tr>\n",
       "      <th>38</th>\n",
       "      <td>Saint Pierre and Miquelon</td>\n",
       "      <td>5862</td>\n",
       "    </tr>\n",
       "    <tr>\n",
       "      <th>39</th>\n",
       "      <td>Montserrat</td>\n",
       "      <td>4390</td>\n",
       "    </tr>\n",
       "  </tbody>\n",
       "</table>\n",
       "</div>"
      ],
      "text/plain": [
       "                      Country  2022 Population\n",
       "35     British Virgin Islands            31305\n",
       "36                   Anguilla            15857\n",
       "37           Saint Barthelemy            10967\n",
       "38  Saint Pierre and Miquelon             5862\n",
       "39                 Montserrat             4390"
      ]
     },
     "execution_count": 53,
     "metadata": {},
     "output_type": "execute_result"
    }
   ],
   "source": [
    "print('TOP 5 NORTH AMERICAN LEAST POPULATED COUNTRIES')\n",
    "Continent_North_America= data.loc[data[\"Continent\"]==\"North America\"].sort_values(by=[\"2022 Population\"], ascending=False, ignore_index=True)\n",
    "Continent_North_America[[\"Country\", \"2022 Population\"]].tail()"
   ]
  },
  {
   "cell_type": "code",
   "execution_count": 54,
   "metadata": {},
   "outputs": [
    {
     "name": "stdout",
     "output_type": "stream",
     "text": [
      "TOP 5 OCEANIA MOST POPULATED COUNTRIES\n"
     ]
    },
    {
     "data": {
      "text/html": [
       "<div>\n",
       "<style scoped>\n",
       "    .dataframe tbody tr th:only-of-type {\n",
       "        vertical-align: middle;\n",
       "    }\n",
       "\n",
       "    .dataframe tbody tr th {\n",
       "        vertical-align: top;\n",
       "    }\n",
       "\n",
       "    .dataframe thead th {\n",
       "        text-align: right;\n",
       "    }\n",
       "</style>\n",
       "<table border=\"1\" class=\"dataframe\">\n",
       "  <thead>\n",
       "    <tr style=\"text-align: right;\">\n",
       "      <th></th>\n",
       "      <th>Country</th>\n",
       "      <th>2022 Population</th>\n",
       "    </tr>\n",
       "  </thead>\n",
       "  <tbody>\n",
       "    <tr>\n",
       "      <th>0</th>\n",
       "      <td>Australia</td>\n",
       "      <td>26177413</td>\n",
       "    </tr>\n",
       "    <tr>\n",
       "      <th>1</th>\n",
       "      <td>Papua New Guinea</td>\n",
       "      <td>10142619</td>\n",
       "    </tr>\n",
       "    <tr>\n",
       "      <th>2</th>\n",
       "      <td>New Zealand</td>\n",
       "      <td>5185288</td>\n",
       "    </tr>\n",
       "    <tr>\n",
       "      <th>3</th>\n",
       "      <td>Fiji</td>\n",
       "      <td>929766</td>\n",
       "    </tr>\n",
       "    <tr>\n",
       "      <th>4</th>\n",
       "      <td>Solomon Islands</td>\n",
       "      <td>724273</td>\n",
       "    </tr>\n",
       "  </tbody>\n",
       "</table>\n",
       "</div>"
      ],
      "text/plain": [
       "            Country  2022 Population\n",
       "0         Australia         26177413\n",
       "1  Papua New Guinea         10142619\n",
       "2       New Zealand          5185288\n",
       "3              Fiji           929766\n",
       "4   Solomon Islands           724273"
      ]
     },
     "execution_count": 54,
     "metadata": {},
     "output_type": "execute_result"
    }
   ],
   "source": [
    "print('TOP 5 OCEANIA MOST POPULATED COUNTRIES')\n",
    "Continent_Oceania= data.loc[data[\"Continent\"]==\"Oceania\"].sort_values(by=[\"2022 Population\"], ascending=False, ignore_index=True)\n",
    "Continent_Oceania[[\"Country\", \"2022 Population\"]].head()"
   ]
  },
  {
   "cell_type": "code",
   "execution_count": 55,
   "metadata": {},
   "outputs": [
    {
     "name": "stdout",
     "output_type": "stream",
     "text": [
      "TOP 5 OCEANIA LEAST POPULATED COUNTRIES\n"
     ]
    },
    {
     "data": {
      "text/html": [
       "<div>\n",
       "<style scoped>\n",
       "    .dataframe tbody tr th:only-of-type {\n",
       "        vertical-align: middle;\n",
       "    }\n",
       "\n",
       "    .dataframe tbody tr th {\n",
       "        vertical-align: top;\n",
       "    }\n",
       "\n",
       "    .dataframe thead th {\n",
       "        text-align: right;\n",
       "    }\n",
       "</style>\n",
       "<table border=\"1\" class=\"dataframe\">\n",
       "  <thead>\n",
       "    <tr style=\"text-align: right;\">\n",
       "      <th></th>\n",
       "      <th>Country</th>\n",
       "      <th>2022 Population</th>\n",
       "    </tr>\n",
       "  </thead>\n",
       "  <tbody>\n",
       "    <tr>\n",
       "      <th>18</th>\n",
       "      <td>Nauru</td>\n",
       "      <td>12668</td>\n",
       "    </tr>\n",
       "    <tr>\n",
       "      <th>19</th>\n",
       "      <td>Wallis and Futuna</td>\n",
       "      <td>11572</td>\n",
       "    </tr>\n",
       "    <tr>\n",
       "      <th>20</th>\n",
       "      <td>Tuvalu</td>\n",
       "      <td>11312</td>\n",
       "    </tr>\n",
       "    <tr>\n",
       "      <th>21</th>\n",
       "      <td>Niue</td>\n",
       "      <td>1934</td>\n",
       "    </tr>\n",
       "    <tr>\n",
       "      <th>22</th>\n",
       "      <td>Tokelau</td>\n",
       "      <td>1871</td>\n",
       "    </tr>\n",
       "  </tbody>\n",
       "</table>\n",
       "</div>"
      ],
      "text/plain": [
       "              Country  2022 Population\n",
       "18              Nauru            12668\n",
       "19  Wallis and Futuna            11572\n",
       "20             Tuvalu            11312\n",
       "21               Niue             1934\n",
       "22            Tokelau             1871"
      ]
     },
     "execution_count": 55,
     "metadata": {},
     "output_type": "execute_result"
    }
   ],
   "source": [
    "print('TOP 5 OCEANIA LEAST POPULATED COUNTRIES')\n",
    "Continent_Oceania= data.loc[data[\"Continent\"]==\"Oceania\"].sort_values(by=[\"2022 Population\"], ascending=False, ignore_index=True)\n",
    "Continent_Oceania[[\"Country\", \"2022 Population\"]].tail()"
   ]
  },
  {
   "cell_type": "code",
   "execution_count": 56,
   "metadata": {},
   "outputs": [],
   "source": [
    "world_population = data.groupby(['Continent'])"
   ]
  },
  {
   "cell_type": "code",
   "execution_count": 57,
   "metadata": {},
   "outputs": [
    {
     "data": {
      "text/html": [
       "<div>\n",
       "<style scoped>\n",
       "    .dataframe tbody tr th:only-of-type {\n",
       "        vertical-align: middle;\n",
       "    }\n",
       "\n",
       "    .dataframe tbody tr th {\n",
       "        vertical-align: top;\n",
       "    }\n",
       "\n",
       "    .dataframe thead th {\n",
       "        text-align: right;\n",
       "    }\n",
       "</style>\n",
       "<table border=\"1\" class=\"dataframe\">\n",
       "  <thead>\n",
       "    <tr style=\"text-align: right;\">\n",
       "      <th></th>\n",
       "      <th>Country</th>\n",
       "      <th>Continent</th>\n",
       "      <th>2022 Population</th>\n",
       "      <th>2020 Population</th>\n",
       "      <th>2015 Population</th>\n",
       "      <th>2010 Population</th>\n",
       "      <th>2000 Population</th>\n",
       "      <th>1990 Population</th>\n",
       "      <th>1980 Population</th>\n",
       "      <th>1970 Population</th>\n",
       "      <th>Area (km²)</th>\n",
       "      <th>Density (per km²)</th>\n",
       "      <th>Growth Rate</th>\n",
       "      <th>World Population Percentage</th>\n",
       "    </tr>\n",
       "    <tr>\n",
       "      <th>Rank</th>\n",
       "      <th></th>\n",
       "      <th></th>\n",
       "      <th></th>\n",
       "      <th></th>\n",
       "      <th></th>\n",
       "      <th></th>\n",
       "      <th></th>\n",
       "      <th></th>\n",
       "      <th></th>\n",
       "      <th></th>\n",
       "      <th></th>\n",
       "      <th></th>\n",
       "      <th></th>\n",
       "      <th></th>\n",
       "    </tr>\n",
       "  </thead>\n",
       "  <tbody>\n",
       "    <tr>\n",
       "      <th>135</th>\n",
       "      <td>Moldova</td>\n",
       "      <td>Europe</td>\n",
       "      <td>3272996</td>\n",
       "      <td>3084847</td>\n",
       "      <td>3277388</td>\n",
       "      <td>3678186</td>\n",
       "      <td>4251573</td>\n",
       "      <td>4480199</td>\n",
       "      <td>4103240</td>\n",
       "      <td>3711140</td>\n",
       "      <td>33846</td>\n",
       "      <td>96.7026</td>\n",
       "      <td>1.0691</td>\n",
       "      <td>0.04</td>\n",
       "    </tr>\n",
       "    <tr>\n",
       "      <th>37</th>\n",
       "      <td>Poland</td>\n",
       "      <td>Europe</td>\n",
       "      <td>39857145</td>\n",
       "      <td>38428366</td>\n",
       "      <td>38553146</td>\n",
       "      <td>38597353</td>\n",
       "      <td>38504431</td>\n",
       "      <td>38064255</td>\n",
       "      <td>35521429</td>\n",
       "      <td>32482943</td>\n",
       "      <td>312679</td>\n",
       "      <td>127.4698</td>\n",
       "      <td>1.0404</td>\n",
       "      <td>0.50</td>\n",
       "    </tr>\n",
       "    <tr>\n",
       "      <th>54</th>\n",
       "      <td>Niger</td>\n",
       "      <td>Africa</td>\n",
       "      <td>26207977</td>\n",
       "      <td>24333639</td>\n",
       "      <td>20128124</td>\n",
       "      <td>16647543</td>\n",
       "      <td>11622665</td>\n",
       "      <td>8370647</td>\n",
       "      <td>6173177</td>\n",
       "      <td>4669708</td>\n",
       "      <td>1267000</td>\n",
       "      <td>20.6851</td>\n",
       "      <td>1.0378</td>\n",
       "      <td>0.33</td>\n",
       "    </tr>\n",
       "    <tr>\n",
       "      <th>60</th>\n",
       "      <td>Syria</td>\n",
       "      <td>Asia</td>\n",
       "      <td>22125249</td>\n",
       "      <td>20772595</td>\n",
       "      <td>19205178</td>\n",
       "      <td>22337563</td>\n",
       "      <td>16307654</td>\n",
       "      <td>12408996</td>\n",
       "      <td>8898954</td>\n",
       "      <td>6319199</td>\n",
       "      <td>185180</td>\n",
       "      <td>119.4797</td>\n",
       "      <td>1.0376</td>\n",
       "      <td>0.28</td>\n",
       "    </tr>\n",
       "    <tr>\n",
       "      <th>116</th>\n",
       "      <td>Slovakia</td>\n",
       "      <td>Europe</td>\n",
       "      <td>5643453</td>\n",
       "      <td>5456681</td>\n",
       "      <td>5424444</td>\n",
       "      <td>5396424</td>\n",
       "      <td>5376690</td>\n",
       "      <td>5261305</td>\n",
       "      <td>4973883</td>\n",
       "      <td>4522867</td>\n",
       "      <td>49037</td>\n",
       "      <td>115.0856</td>\n",
       "      <td>1.0359</td>\n",
       "      <td>0.07</td>\n",
       "    </tr>\n",
       "  </tbody>\n",
       "</table>\n",
       "</div>"
      ],
      "text/plain": [
       "       Country Continent  2022 Population  2020 Population  2015 Population  \\\n",
       "Rank                                                                          \n",
       "135    Moldova    Europe          3272996          3084847          3277388   \n",
       "37      Poland    Europe         39857145         38428366         38553146   \n",
       "54       Niger    Africa         26207977         24333639         20128124   \n",
       "60       Syria      Asia         22125249         20772595         19205178   \n",
       "116   Slovakia    Europe          5643453          5456681          5424444   \n",
       "\n",
       "      2010 Population  2000 Population  1990 Population  1980 Population  \\\n",
       "Rank                                                                       \n",
       "135           3678186          4251573          4480199          4103240   \n",
       "37           38597353         38504431         38064255         35521429   \n",
       "54           16647543         11622665          8370647          6173177   \n",
       "60           22337563         16307654         12408996          8898954   \n",
       "116           5396424          5376690          5261305          4973883   \n",
       "\n",
       "      1970 Population  Area (km²)  Density (per km²)  Growth Rate  \\\n",
       "Rank                                                                \n",
       "135           3711140       33846            96.7026       1.0691   \n",
       "37           32482943      312679           127.4698       1.0404   \n",
       "54            4669708     1267000            20.6851       1.0378   \n",
       "60            6319199      185180           119.4797       1.0376   \n",
       "116           4522867       49037           115.0856       1.0359   \n",
       "\n",
       "      World Population Percentage  \n",
       "Rank                               \n",
       "135                          0.04  \n",
       "37                           0.50  \n",
       "54                           0.33  \n",
       "60                           0.28  \n",
       "116                          0.07  "
      ]
     },
     "execution_count": 57,
     "metadata": {},
     "output_type": "execute_result"
    }
   ],
   "source": [
    "#5 Countries with highest growth rate\n",
    "data.sort_values(by='Growth Rate', ascending=False).head()"
   ]
  },
  {
   "cell_type": "code",
   "execution_count": 60,
   "metadata": {},
   "outputs": [
    {
     "data": {
      "text/plain": [
       "Continent\n",
       "Africa           58.2109\n",
       "Asia             50.4692\n",
       "Europe           50.1128\n",
       "North America    40.1670\n",
       "Oceania          23.1698\n",
       "South America    14.1114\n",
       "Name: Growth Rate, dtype: float64"
      ]
     },
     "execution_count": 60,
     "metadata": {},
     "output_type": "execute_result"
    }
   ],
   "source": [
    "#Highest Growth Rate per continent\n",
    "data.groupby('Continent')['Growth Rate'].sum()"
   ]
  },
  {
   "cell_type": "markdown",
   "metadata": {},
   "source": [
    "Trend of the Population Per Continent from 1970 to 2022"
   ]
  },
  {
   "cell_type": "code",
   "execution_count": 61,
   "metadata": {},
   "outputs": [
    {
     "data": {
      "application/javascript": "\n        if (window._pyforest_update_imports_cell) { window._pyforest_update_imports_cell('import pandas as pd\\nimport numpy as np\\nimport matplotlib.pyplot as plt'); }\n    ",
      "text/plain": [
       "<IPython.core.display.Javascript object>"
      ]
     },
     "metadata": {},
     "output_type": "display_data"
    },
    {
     "data": {
      "application/javascript": "\n        if (window._pyforest_update_imports_cell) { window._pyforest_update_imports_cell('import pandas as pd\\nimport numpy as np\\nimport matplotlib.pyplot as plt'); }\n    ",
      "text/plain": [
       "<IPython.core.display.Javascript object>"
      ]
     },
     "metadata": {},
     "output_type": "display_data"
    },
    {
     "data": {
      "application/javascript": "\n        if (window._pyforest_update_imports_cell) { window._pyforest_update_imports_cell('import pandas as pd\\nimport numpy as np\\nimport matplotlib.pyplot as plt'); }\n    ",
      "text/plain": [
       "<IPython.core.display.Javascript object>"
      ]
     },
     "metadata": {},
     "output_type": "display_data"
    },
    {
     "data": {
      "application/javascript": "\n        if (window._pyforest_update_imports_cell) { window._pyforest_update_imports_cell('import pandas as pd\\nimport numpy as np\\nimport matplotlib.pyplot as plt'); }\n    ",
      "text/plain": [
       "<IPython.core.display.Javascript object>"
      ]
     },
     "metadata": {},
     "output_type": "display_data"
    },
    {
     "data": {
      "application/javascript": "\n        if (window._pyforest_update_imports_cell) { window._pyforest_update_imports_cell('import pandas as pd\\nimport numpy as np\\nimport matplotlib.pyplot as plt'); }\n    ",
      "text/plain": [
       "<IPython.core.display.Javascript object>"
      ]
     },
     "metadata": {},
     "output_type": "display_data"
    },
    {
     "data": {
      "application/javascript": "\n        if (window._pyforest_update_imports_cell) { window._pyforest_update_imports_cell('import pandas as pd\\nimport numpy as np\\nimport matplotlib.pyplot as plt'); }\n    ",
      "text/plain": [
       "<IPython.core.display.Javascript object>"
      ]
     },
     "metadata": {},
     "output_type": "display_data"
    },
    {
     "data": {
      "application/javascript": "\n        if (window._pyforest_update_imports_cell) { window._pyforest_update_imports_cell('import pandas as pd\\nimport numpy as np\\nimport matplotlib.pyplot as plt'); }\n    ",
      "text/plain": [
       "<IPython.core.display.Javascript object>"
      ]
     },
     "metadata": {},
     "output_type": "display_data"
    },
    {
     "data": {
      "application/javascript": "\n        if (window._pyforest_update_imports_cell) { window._pyforest_update_imports_cell('import pandas as pd\\nimport numpy as np\\nimport matplotlib.pyplot as plt'); }\n    ",
      "text/plain": [
       "<IPython.core.display.Javascript object>"
      ]
     },
     "metadata": {},
     "output_type": "display_data"
    },
    {
     "data": {
      "application/javascript": "\n        if (window._pyforest_update_imports_cell) { window._pyforest_update_imports_cell('import pandas as pd\\nimport numpy as np\\nimport matplotlib.pyplot as plt'); }\n    ",
      "text/plain": [
       "<IPython.core.display.Javascript object>"
      ]
     },
     "metadata": {},
     "output_type": "display_data"
    },
    {
     "data": {
      "text/plain": [
       "Text(0.5, 0, 'Continents')"
      ]
     },
     "execution_count": 61,
     "metadata": {},
     "output_type": "execute_result"
    },
    {
     "data": {
      "image/png": "[encoded data removed]",
      "text/plain": [
       "<Figure size 1152x720 with 1 Axes>"
      ]
     },
     "metadata": {},
     "output_type": "display_data"
    }
   ],
   "source": [
    "plt.style.use('fivethirtyeight')\n",
    "Population_1970= world_population[\"1970 Population\"].sum().reset_index(name=\"1970 Continent Population\")\n",
    "Population_2000= world_population[\"2000 Population\"].sum().reset_index(name=\"2000 Continent Population\")\n",
    "Population_2010= world_population[\"2010 Population\"].sum().reset_index(name=\"2010 Continent Population\")\n",
    "Population_2022= world_population[\"2022 Population\"].sum().reset_index(name=\"2022 Continent Population\")\n",
    "plt.figure(figsize=(16, 10))\n",
    "x1= Population_1970[\"Continent\"]\n",
    "y1= Population_1970[\"1970 Continent Population\"]\n",
    "y2=Population_2000[\"2000 Continent Population\"]\n",
    "y3=Population_2010[\"2010 Continent Population\"]\n",
    "y4=Population_2022[\"2022 Continent Population\"]\n",
    "plt.plot(x1, y1, marker ='*')\n",
    "plt.plot(x1, y2, marker=\"*\")\n",
    "plt.plot(x1, y3, marker='*')\n",
    "plt.plot(x1, y4, marker='*')\n",
    "plt.legend([\"1970\", \"2000\",\"2010\", \"2022\"], fontsize=12)\n",
    "plt.title('Population from 1970 t0 2022', fontsize=18)\n",
    "plt.xlabel(\"Continents\", fontsize=15)"
   ]
  },
  {
   "cell_type": "markdown",
   "metadata": {},
   "source": [
    "#### Conclusion"
   ]
  },
  {
   "cell_type": "markdown",
   "metadata": {},
   "source": [
    "* It is clear from the data that population has occasionally grown gradually. Furthermore, the data suggests that South America, with its growth rate of 14%, has seen the lowest growth rate, and that Africa, with its rate of 58 percent, has experienced the largest growth.\n",
    "* Putting growth rates aside, China, which is a part of Asia, the world's highest continent, is currently the most populous nation."
   ]
  }
 ],
 "metadata": {
  "kernelspec": {
   "display_name": "Python 3.10.5 64-bit",
   "language": "python",
   "name": "python3"
  },
  "language_info": {
   "codemirror_mode": {
    "name": "ipython",
    "version": 3
   },
   "file_extension": ".py",
   "mimetype": "text/x-python",
   "name": "python",
   "nbconvert_exporter": "python",
   "pygments_lexer": "ipython3",
   "version": "3.10.5"
  },
  "orig_nbformat": 4,
  "vscode": {
   "interpreter": {
    "hash": "66d7c64ea5898974a154f1ca9fe9c42e7ebde3f07e1cdff02c9a07a710ae1216"
   }
  }
 },
 "nbformat": 4,
 "nbformat_minor": 2
}
